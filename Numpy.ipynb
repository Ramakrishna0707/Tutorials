{
  "nbformat": 4,
  "nbformat_minor": 0,
  "metadata": {
    "colab": {
      "provenance": [],
      "authorship_tag": "ABX9TyOvQNt0U6rTGk9ku+WIPkT3",
      "include_colab_link": true
    },
    "kernelspec": {
      "name": "python3",
      "display_name": "Python 3"
    },
    "language_info": {
      "name": "python"
    },
    "gpuClass": "standard"
  },
  "cells": [
    {
      "cell_type": "markdown",
      "metadata": {
        "id": "view-in-github",
        "colab_type": "text"
      },
      "source": [
        "<a href=\"https://colab.research.google.com/github/Ramakrishna0707/Tutorials/blob/main/Numpy.ipynb\" target=\"_parent\"><img src=\"https://colab.research.google.com/assets/colab-badge.svg\" alt=\"Open In Colab\"/></a>"
      ]
    },
    {
      "cell_type": "code",
      "execution_count": null,
      "metadata": {
        "id": "5uFwQvH9LeGA"
      },
      "outputs": [],
      "source": [
        "import numpy as np"
      ]
    },
    {
      "cell_type": "markdown",
      "source": [
        "Creating Numpy/n-d arrays"
      ],
      "metadata": {
        "id": "S4tpdReePizJ"
      }
    },
    {
      "cell_type": "code",
      "source": [
        "arr1 = np.array([1,2,3,4]) #1d array\"\n",
        "arr1"
      ],
      "metadata": {
        "id": "lM4HJM6qPnV5",
        "colab": {
          "base_uri": "https://localhost:8080/"
        },
        "outputId": "14ba8574-d96e-4a28-eae1-5c3bdf4a1fca"
      },
      "execution_count": null,
      "outputs": [
        {
          "output_type": "execute_result",
          "data": {
            "text/plain": [
              "array([1, 2, 3, 4])"
            ]
          },
          "metadata": {},
          "execution_count": 2
        }
      ]
    },
    {
      "cell_type": "code",
      "source": [
        "type(arr1) #checking the datatype"
      ],
      "metadata": {
        "colab": {
          "base_uri": "https://localhost:8080/"
        },
        "id": "JDXbbvOzP6qX",
        "outputId": "760a5d59-6a6d-428f-9988-9f3313de11cf"
      },
      "execution_count": null,
      "outputs": [
        {
          "output_type": "execute_result",
          "data": {
            "text/plain": [
              "numpy.ndarray"
            ]
          },
          "metadata": {},
          "execution_count": 3
        }
      ]
    },
    {
      "cell_type": "code",
      "source": [
        "#creating a 2d array\n",
        "arr2 = np.array([[1,2,3],[4,5,6]])\n",
        "arr2"
      ],
      "metadata": {
        "colab": {
          "base_uri": "https://localhost:8080/"
        },
        "id": "qIeBnyg5P8L6",
        "outputId": "00a7a927-2ec0-47c4-af79-68283d3a7e65"
      },
      "execution_count": null,
      "outputs": [
        {
          "output_type": "execute_result",
          "data": {
            "text/plain": [
              "array([[1, 2, 3],\n",
              "       [4, 5, 6]])"
            ]
          },
          "metadata": {},
          "execution_count": 4
        }
      ]
    },
    {
      "cell_type": "code",
      "source": [
        "#creating a 3d array\n",
        "arr3 = np.array([[[1,2,3],[3,4,5]],[[6,7,8],[9,8,7]]])\n",
        "arr3"
      ],
      "metadata": {
        "colab": {
          "base_uri": "https://localhost:8080/"
        },
        "id": "fqmOVGapQPte",
        "outputId": "c119e16b-2a0b-474e-acf8-605b8091da02"
      },
      "execution_count": null,
      "outputs": [
        {
          "output_type": "execute_result",
          "data": {
            "text/plain": [
              "array([[[1, 2, 3],\n",
              "        [3, 4, 5]],\n",
              "\n",
              "       [[6, 7, 8],\n",
              "        [9, 8, 7]]])"
            ]
          },
          "metadata": {},
          "execution_count": 5
        }
      ]
    },
    {
      "cell_type": "code",
      "source": [
        "#creating zeros array\n",
        "zero_array = np.zeros((2,3))\n",
        "zero_array"
      ],
      "metadata": {
        "colab": {
          "base_uri": "https://localhost:8080/"
        },
        "id": "CDCN0-u2Qv6r",
        "outputId": "c4e8623a-d377-4a80-cd6e-1940eb454298"
      },
      "execution_count": null,
      "outputs": [
        {
          "output_type": "execute_result",
          "data": {
            "text/plain": [
              "array([[0., 0., 0.],\n",
              "       [0., 0., 0.]])"
            ]
          },
          "metadata": {},
          "execution_count": 6
        }
      ]
    },
    {
      "cell_type": "code",
      "source": [
        "# Creating ones array\n",
        "ones_array = np.ones((3,2))\n",
        "ones_array"
      ],
      "metadata": {
        "colab": {
          "base_uri": "https://localhost:8080/"
        },
        "id": "A0SOBTRcRRJ3",
        "outputId": "a8a3d897-0453-4486-932a-f0f57de0d488"
      },
      "execution_count": null,
      "outputs": [
        {
          "output_type": "execute_result",
          "data": {
            "text/plain": [
              "array([[1., 1.],\n",
              "       [1., 1.],\n",
              "       [1., 1.]])"
            ]
          },
          "metadata": {},
          "execution_count": 7
        }
      ]
    },
    {
      "cell_type": "markdown",
      "source": [
        "By default the data type of numpy array is \"FLOAT\""
      ],
      "metadata": {
        "id": "sAjZBTJHRxII"
      }
    },
    {
      "cell_type": "code",
      "source": [
        "# NP.IDENTITY = returns a square matrix which is an IDENTITY matrix with diagonal as 1 and other values as 0's\n",
        "identity_matrix = np.identity(4)\n",
        "identity_matrix"
      ],
      "metadata": {
        "colab": {
          "base_uri": "https://localhost:8080/"
        },
        "id": "YTiUfncKR4rH",
        "outputId": "f6317c8a-f795-4011-935f-155e04babe52"
      },
      "execution_count": null,
      "outputs": [
        {
          "output_type": "execute_result",
          "data": {
            "text/plain": [
              "array([[1., 0., 0., 0.],\n",
              "       [0., 1., 0., 0.],\n",
              "       [0., 0., 1., 0.],\n",
              "       [0., 0., 0., 1.]])"
            ]
          },
          "metadata": {},
          "execution_count": 8
        }
      ]
    },
    {
      "cell_type": "code",
      "source": [
        "arr5 = np.arange(6)\n",
        "arr5"
      ],
      "metadata": {
        "colab": {
          "base_uri": "https://localhost:8080/"
        },
        "id": "o3J9L3P5SAQ_",
        "outputId": "df47a9e3-9608-423d-da5e-e61354c413b4"
      },
      "execution_count": null,
      "outputs": [
        {
          "output_type": "execute_result",
          "data": {
            "text/plain": [
              "array([0, 1, 2, 3, 4, 5])"
            ]
          },
          "metadata": {},
          "execution_count": 9
        }
      ]
    },
    {
      "cell_type": "markdown",
      "source": [
        "LINSPACE = LINSPACE create evenly spaced numbers over a specified interval [start, stop,num]"
      ],
      "metadata": {
        "id": "nL-AZ8JiTTku"
      }
    },
    {
      "cell_type": "code",
      "source": [
        "linspace_array = np.linspace(1,3,10)\n",
        "linspace_array"
      ],
      "metadata": {
        "colab": {
          "base_uri": "https://localhost:8080/"
        },
        "id": "OiiWeq0XTuu7",
        "outputId": "1462797a-c5f5-4f36-a0ca-97589f5414ad"
      },
      "execution_count": null,
      "outputs": [
        {
          "output_type": "execute_result",
          "data": {
            "text/plain": [
              "array([1.        , 1.22222222, 1.44444444, 1.66666667, 1.88888889,\n",
              "       2.11111111, 2.33333333, 2.55555556, 2.77777778, 3.        ])"
            ]
          },
          "metadata": {},
          "execution_count": 10
        }
      ]
    },
    {
      "cell_type": "code",
      "source": [
        "arr6 = np.arange(24)"
      ],
      "metadata": {
        "id": "CKP3ltn5EG6w"
      },
      "execution_count": null,
      "outputs": []
    },
    {
      "cell_type": "markdown",
      "source": [
        "COPY"
      ],
      "metadata": {
        "id": "Xnc5-X04Lx9w"
      }
    },
    {
      "cell_type": "code",
      "source": [
        "#TO COPY OF ANOTHER ARRAY WE USE COPY FUNC\n",
        "copy_array = arr6.copy()\n",
        "copy_array "
      ],
      "metadata": {
        "colab": {
          "base_uri": "https://localhost:8080/"
        },
        "id": "q_PVa6AcT-E_",
        "outputId": "b2d4f675-d457-47e1-de77-4f3a9555c561"
      },
      "execution_count": null,
      "outputs": [
        {
          "output_type": "execute_result",
          "data": {
            "text/plain": [
              "array([ 0,  1,  2,  3,  4,  5,  6,  7,  8,  9, 10, 11, 12, 13, 14, 15, 16,\n",
              "       17, 18, 19, 20, 21, 22, 23])"
            ]
          },
          "metadata": {},
          "execution_count": 128
        }
      ]
    },
    {
      "cell_type": "markdown",
      "source": [
        "VIEW"
      ],
      "metadata": {
        "id": "4QwxxmRPLzbt"
      }
    },
    {
      "cell_type": "code",
      "source": [
        "view_arr = arr6.view()\n",
        "view_arr"
      ],
      "metadata": {
        "colab": {
          "base_uri": "https://localhost:8080/"
        },
        "id": "jCGqX-nWL1F8",
        "outputId": "f1770933-e00b-48d9-e68d-9adbcda41860"
      },
      "execution_count": null,
      "outputs": [
        {
          "output_type": "execute_result",
          "data": {
            "text/plain": [
              "array([ 0,  1,  2,  3,  4,  5,  6,  7,  8,  9, 10, 11, 12, 13, 14, 15, 16,\n",
              "       17, 18, 19, 20, 21, 22, 23])"
            ]
          },
          "metadata": {},
          "execution_count": 129
        }
      ]
    },
    {
      "cell_type": "markdown",
      "source": [
        "COPY Vs VIEW\n",
        "The main difference between copy and a view of an array is the copy is a new array, and the view is just a view of an orginial array\n",
        "\n",
        "Changes made to copy doesnot affect the original array but,\n",
        "\n",
        "Changes made to view will affect the original array."
      ],
      "metadata": {
        "id": "nQzNjgn1MIXg"
      }
    },
    {
      "cell_type": "markdown",
      "source": [
        "PROPERTIES AND ATTRIBUTES \n",
        "1. shape - defines number of rows and columns\n",
        "2. nDim - used to get the dimension of an array\n",
        "3. Size - no. of items present in np array\n",
        "4. itemsize - gives memory size of one element of np. array in bytes\n",
        "5. Dtype - used to get the data type of an array\n",
        "6. astype() - used to change the data type\n"
      ],
      "metadata": {
        "id": "hR_I0cA1V4xY"
      }
    },
    {
      "cell_type": "code",
      "source": [
        "arr3.shape"
      ],
      "metadata": {
        "id": "9x8liKJdWCOS",
        "colab": {
          "base_uri": "https://localhost:8080/"
        },
        "outputId": "e93a0329-e7e8-441a-d8f5-83e2b6487212"
      },
      "execution_count": null,
      "outputs": [
        {
          "output_type": "execute_result",
          "data": {
            "text/plain": [
              "(2, 2, 3)"
            ]
          },
          "metadata": {},
          "execution_count": 13
        }
      ]
    },
    {
      "cell_type": "code",
      "source": [
        "arr1.ndim"
      ],
      "metadata": {
        "id": "tYtu117GWvoy",
        "colab": {
          "base_uri": "https://localhost:8080/"
        },
        "outputId": "add596ed-aa9c-4265-f3e7-7388cca1b60e"
      },
      "execution_count": null,
      "outputs": [
        {
          "output_type": "execute_result",
          "data": {
            "text/plain": [
              "1"
            ]
          },
          "metadata": {},
          "execution_count": 14
        }
      ]
    },
    {
      "cell_type": "code",
      "source": [
        "arr3.size"
      ],
      "metadata": {
        "colab": {
          "base_uri": "https://localhost:8080/"
        },
        "id": "dfNiPCOZXpxV",
        "outputId": "004d3243-afef-4b77-f9f9-c715c2c3fcc4"
      },
      "execution_count": null,
      "outputs": [
        {
          "output_type": "execute_result",
          "data": {
            "text/plain": [
              "12"
            ]
          },
          "metadata": {},
          "execution_count": 15
        }
      ]
    },
    {
      "cell_type": "code",
      "source": [
        "arr3.itemsize"
      ],
      "metadata": {
        "colab": {
          "base_uri": "https://localhost:8080/"
        },
        "id": "cNds2yNNXtgU",
        "outputId": "e7206a98-282b-4c11-ac78-d132cceaa95d"
      },
      "execution_count": null,
      "outputs": [
        {
          "output_type": "execute_result",
          "data": {
            "text/plain": [
              "8"
            ]
          },
          "metadata": {},
          "execution_count": 16
        }
      ]
    },
    {
      "cell_type": "code",
      "source": [
        "zero_array.dtype"
      ],
      "metadata": {
        "colab": {
          "base_uri": "https://localhost:8080/"
        },
        "id": "1yluuohoYMG8",
        "outputId": "9a046f7c-96a3-4bb0-8eb3-fc4ed5de5d87"
      },
      "execution_count": null,
      "outputs": [
        {
          "output_type": "execute_result",
          "data": {
            "text/plain": [
              "dtype('float64')"
            ]
          },
          "metadata": {},
          "execution_count": 17
        }
      ]
    },
    {
      "cell_type": "code",
      "source": [
        "arr1.dtype"
      ],
      "metadata": {
        "colab": {
          "base_uri": "https://localhost:8080/"
        },
        "id": "u5xmzkRYYS8J",
        "outputId": "5c39296d-a88e-4cde-c183-9d8210492c84"
      },
      "execution_count": null,
      "outputs": [
        {
          "output_type": "execute_result",
          "data": {
            "text/plain": [
              "dtype('int64')"
            ]
          },
          "metadata": {},
          "execution_count": 18
        }
      ]
    },
    {
      "cell_type": "code",
      "source": [
        "arr = np.array([1,2,3,4,5])\n",
        "arr"
      ],
      "metadata": {
        "colab": {
          "base_uri": "https://localhost:8080/"
        },
        "id": "lDTIjS7CYcGH",
        "outputId": "e23eabaa-2036-4e45-d95a-bb120133fb52"
      },
      "execution_count": null,
      "outputs": [
        {
          "output_type": "execute_result",
          "data": {
            "text/plain": [
              "array([1, 2, 3, 4, 5])"
            ]
          },
          "metadata": {},
          "execution_count": 19
        }
      ]
    },
    {
      "cell_type": "code",
      "source": [
        "arr.dtype"
      ],
      "metadata": {
        "colab": {
          "base_uri": "https://localhost:8080/"
        },
        "id": "eOrrYj3EYuTa",
        "outputId": "53c14ac5-c673-41bc-ef82-e200b9e9be0c"
      },
      "execution_count": null,
      "outputs": [
        {
          "output_type": "execute_result",
          "data": {
            "text/plain": [
              "dtype('int64')"
            ]
          },
          "metadata": {},
          "execution_count": 20
        }
      ]
    },
    {
      "cell_type": "code",
      "source": [
        "arr = arr.astype(\"float\")\n",
        "arr.dtype"
      ],
      "metadata": {
        "colab": {
          "base_uri": "https://localhost:8080/"
        },
        "id": "IwCqUtcfYv2p",
        "outputId": "ad7dc1e3-a847-438c-a129-83ddf831894b"
      },
      "execution_count": null,
      "outputs": [
        {
          "output_type": "execute_result",
          "data": {
            "text/plain": [
              "dtype('float64')"
            ]
          },
          "metadata": {},
          "execution_count": 21
        }
      ]
    },
    {
      "cell_type": "markdown",
      "source": [
        "Numpy Array Vs Python Lists\n",
        "Faster , Convenient, Less Memory"
      ],
      "metadata": {
        "id": "HCO5qYdkb_KD"
      }
    },
    {
      "cell_type": "code",
      "source": [
        "# EXAMPLE OF NUMPY VS ARRAY FOR LESS MEMORY ALLOCATION\n",
        "import sys\n",
        "list1 = range(100)\n",
        "ex_arr = np.arange(100)\n",
        "print(sys.getsizeof(65)*len(list1))\n",
        "print(ex_arr.itemsize*ex_arr.size)"
      ],
      "metadata": {
        "colab": {
          "base_uri": "https://localhost:8080/"
        },
        "id": "49m7nOmfcDXp",
        "outputId": "fd9d7fb9-40a3-498e-9db6-be3d57d5ce34"
      },
      "execution_count": null,
      "outputs": [
        {
          "output_type": "stream",
          "name": "stdout",
          "text": [
            "2800\n",
            "800\n"
          ]
        }
      ]
    },
    {
      "cell_type": "markdown",
      "source": [
        "INDEXING SLICING AND ITERATION"
      ],
      "metadata": {
        "id": "SrLDf0nPd7-p"
      }
    },
    {
      "cell_type": "code",
      "source": [
        "arr6 = np.arange(24)\n",
        "arr6"
      ],
      "metadata": {
        "colab": {
          "base_uri": "https://localhost:8080/"
        },
        "id": "4XcVQXUrd-GX",
        "outputId": "2a3c91cf-1413-4902-b3d3-13fc181c1e25"
      },
      "execution_count": null,
      "outputs": [
        {
          "output_type": "execute_result",
          "data": {
            "text/plain": [
              "array([ 0,  1,  2,  3,  4,  5,  6,  7,  8,  9, 10, 11, 12, 13, 14, 15, 16,\n",
              "       17, 18, 19, 20, 21, 22, 23])"
            ]
          },
          "metadata": {},
          "execution_count": 23
        }
      ]
    },
    {
      "cell_type": "code",
      "source": [
        "arr6 = arr6.reshape(6,4)\n",
        "arr6"
      ],
      "metadata": {
        "colab": {
          "base_uri": "https://localhost:8080/"
        },
        "id": "36IfkddueHd5",
        "outputId": "4a697c65-22c8-4c30-a486-8246dd88b29b"
      },
      "execution_count": null,
      "outputs": [
        {
          "output_type": "execute_result",
          "data": {
            "text/plain": [
              "array([[ 0,  1,  2,  3],\n",
              "       [ 4,  5,  6,  7],\n",
              "       [ 8,  9, 10, 11],\n",
              "       [12, 13, 14, 15],\n",
              "       [16, 17, 18, 19],\n",
              "       [20, 21, 22, 23]])"
            ]
          },
          "metadata": {},
          "execution_count": 24
        }
      ]
    },
    {
      "cell_type": "code",
      "source": [
        "arr6[2] #prints the 3rd row"
      ],
      "metadata": {
        "colab": {
          "base_uri": "https://localhost:8080/"
        },
        "id": "XRTgC5S6eXCX",
        "outputId": "16dc1af7-cc33-4428-9e33-94a0a2f12761"
      },
      "execution_count": null,
      "outputs": [
        {
          "output_type": "execute_result",
          "data": {
            "text/plain": [
              "array([ 8,  9, 10, 11])"
            ]
          },
          "metadata": {},
          "execution_count": 25
        }
      ]
    },
    {
      "cell_type": "code",
      "source": [
        "arr6[:,2] #prints the 3rd column"
      ],
      "metadata": {
        "colab": {
          "base_uri": "https://localhost:8080/"
        },
        "id": "jNH4VYlDehx7",
        "outputId": "bf873959-310e-4517-f160-45531d16f042"
      },
      "execution_count": null,
      "outputs": [
        {
          "output_type": "execute_result",
          "data": {
            "text/plain": [
              "array([ 2,  6, 10, 14, 18, 22])"
            ]
          },
          "metadata": {},
          "execution_count": 26
        }
      ]
    },
    {
      "cell_type": "code",
      "source": [
        "arr6[:,1:3] #prints the 2nd and 3rd column"
      ],
      "metadata": {
        "colab": {
          "base_uri": "https://localhost:8080/"
        },
        "id": "KMUJIL5GfAlj",
        "outputId": "f4cb7431-5826-49d6-b83e-15a5cfdda1b1"
      },
      "execution_count": null,
      "outputs": [
        {
          "output_type": "execute_result",
          "data": {
            "text/plain": [
              "array([[ 1,  2],\n",
              "       [ 5,  6],\n",
              "       [ 9, 10],\n",
              "       [13, 14],\n",
              "       [17, 18],\n",
              "       [21, 22]])"
            ]
          },
          "metadata": {},
          "execution_count": 27
        }
      ]
    },
    {
      "cell_type": "code",
      "source": [
        "arr6[2:4,1:3] "
      ],
      "metadata": {
        "colab": {
          "base_uri": "https://localhost:8080/"
        },
        "id": "AZL0HHzOfV5y",
        "outputId": "98d90a1e-9161-4d67-8c3d-913e49fb14bd"
      },
      "execution_count": null,
      "outputs": [
        {
          "output_type": "execute_result",
          "data": {
            "text/plain": [
              "array([[ 9, 10],\n",
              "       [13, 14]])"
            ]
          },
          "metadata": {},
          "execution_count": 28
        }
      ]
    },
    {
      "cell_type": "code",
      "source": [
        "for i in arr6:\n",
        "  print(i)"
      ],
      "metadata": {
        "colab": {
          "base_uri": "https://localhost:8080/"
        },
        "id": "BxDdSm9GflX3",
        "outputId": "bcba1538-bb54-4f86-9ae0-1eaf0b7739c9"
      },
      "execution_count": null,
      "outputs": [
        {
          "output_type": "stream",
          "name": "stdout",
          "text": [
            "[0 1 2 3]\n",
            "[4 5 6 7]\n",
            "[ 8  9 10 11]\n",
            "[12 13 14 15]\n",
            "[16 17 18 19]\n",
            "[20 21 22 23]\n"
          ]
        }
      ]
    },
    {
      "cell_type": "code",
      "source": [
        "for i in np.nditer(arr6): #nditer for iteration in numpy\n",
        "  print(i)"
      ],
      "metadata": {
        "colab": {
          "base_uri": "https://localhost:8080/"
        },
        "id": "GjSNl8ipf4qJ",
        "outputId": "3dc663c0-7140-4ef1-f39f-005413fc0d83"
      },
      "execution_count": null,
      "outputs": [
        {
          "output_type": "stream",
          "name": "stdout",
          "text": [
            "0\n",
            "1\n",
            "2\n",
            "3\n",
            "4\n",
            "5\n",
            "6\n",
            "7\n",
            "8\n",
            "9\n",
            "10\n",
            "11\n",
            "12\n",
            "13\n",
            "14\n",
            "15\n",
            "16\n",
            "17\n",
            "18\n",
            "19\n",
            "20\n",
            "21\n",
            "22\n",
            "23\n"
          ]
        }
      ]
    },
    {
      "cell_type": "markdown",
      "source": [
        "NUMPY OPERATIONS"
      ],
      "metadata": {
        "id": "mFDXEIg8ih-t"
      }
    },
    {
      "cell_type": "code",
      "source": [
        "arr7 = np.array([1,2,3,4,5,6])\n",
        "arr8 = np.array([4,5,6,7,8,9])"
      ],
      "metadata": {
        "id": "NQzZjYoIijb_"
      },
      "execution_count": null,
      "outputs": []
    },
    {
      "cell_type": "code",
      "source": [
        "arr7 - arr8"
      ],
      "metadata": {
        "colab": {
          "base_uri": "https://localhost:8080/"
        },
        "id": "mS2tb6RzizV5",
        "outputId": "1d09c63a-47ae-48e2-8476-a7297b847eb4"
      },
      "execution_count": null,
      "outputs": [
        {
          "output_type": "execute_result",
          "data": {
            "text/plain": [
              "array([-3, -3, -3, -3, -3, -3])"
            ]
          },
          "metadata": {},
          "execution_count": 32
        }
      ]
    },
    {
      "cell_type": "code",
      "source": [
        "arr7 * arr8"
      ],
      "metadata": {
        "colab": {
          "base_uri": "https://localhost:8080/"
        },
        "id": "rqDm7HoLjGIJ",
        "outputId": "a9124fbf-bb9d-42f7-cde9-edcaf8d9ee0a"
      },
      "execution_count": null,
      "outputs": [
        {
          "output_type": "execute_result",
          "data": {
            "text/plain": [
              "array([ 4, 10, 18, 28, 40, 54])"
            ]
          },
          "metadata": {},
          "execution_count": 33
        }
      ]
    },
    {
      "cell_type": "code",
      "source": [
        "arr7 * 2"
      ],
      "metadata": {
        "colab": {
          "base_uri": "https://localhost:8080/"
        },
        "id": "pLd0EWZ8jKOh",
        "outputId": "49f00cee-c62d-4fc0-8f5a-b343b6af43f6"
      },
      "execution_count": null,
      "outputs": [
        {
          "output_type": "execute_result",
          "data": {
            "text/plain": [
              "array([ 2,  4,  6,  8, 10, 12])"
            ]
          },
          "metadata": {},
          "execution_count": 34
        }
      ]
    },
    {
      "cell_type": "code",
      "source": [
        "arr7 > 2"
      ],
      "metadata": {
        "colab": {
          "base_uri": "https://localhost:8080/"
        },
        "id": "5oOhEcSvjMmj",
        "outputId": "5f9624aa-005c-4478-dad1-213c10d4bf8d"
      },
      "execution_count": null,
      "outputs": [
        {
          "output_type": "execute_result",
          "data": {
            "text/plain": [
              "array([False, False,  True,  True,  True,  True])"
            ]
          },
          "metadata": {},
          "execution_count": 35
        }
      ]
    },
    {
      "cell_type": "code",
      "source": [
        "arr9 = np.arange(6).reshape(2,3)\n",
        "arr10 = np.arange(6,12).reshape(3,2)"
      ],
      "metadata": {
        "id": "ru7mIbWWjRdp"
      },
      "execution_count": null,
      "outputs": []
    },
    {
      "cell_type": "code",
      "source": [
        "print(arr9)\n",
        "print(arr10)"
      ],
      "metadata": {
        "colab": {
          "base_uri": "https://localhost:8080/"
        },
        "id": "T6RKDvVSj1fB",
        "outputId": "fb93c8a4-a1f1-44b5-8bbe-2e3d9dfb0320"
      },
      "execution_count": null,
      "outputs": [
        {
          "output_type": "stream",
          "name": "stdout",
          "text": [
            "[[0 1 2]\n",
            " [3 4 5]]\n",
            "[[ 6  7]\n",
            " [ 8  9]\n",
            " [10 11]]\n"
          ]
        }
      ]
    },
    {
      "cell_type": "code",
      "source": [
        "arr9.dot(arr10)"
      ],
      "metadata": {
        "colab": {
          "base_uri": "https://localhost:8080/"
        },
        "id": "nwAL4bCCj3hX",
        "outputId": "b13f8e5d-f301-453c-eb72-00557ba59ea6"
      },
      "execution_count": null,
      "outputs": [
        {
          "output_type": "execute_result",
          "data": {
            "text/plain": [
              "array([[ 28,  31],\n",
              "       [100, 112]])"
            ]
          },
          "metadata": {},
          "execution_count": 38
        }
      ]
    },
    {
      "cell_type": "code",
      "source": [
        "print(arr9.max())\n",
        "print(arr9.min())\n",
        "print(arr9.max(axis = 0)) #to print rowwise max value\n",
        "print(arr9.min(axis = 1)) # to print rowwise min value"
      ],
      "metadata": {
        "colab": {
          "base_uri": "https://localhost:8080/"
        },
        "id": "5lpEu8m-kBut",
        "outputId": "cdf1aeaa-4019-4bbe-e16d-c3cd03497656"
      },
      "execution_count": null,
      "outputs": [
        {
          "output_type": "stream",
          "name": "stdout",
          "text": [
            "5\n",
            "0\n",
            "[3 4 5]\n",
            "[0 3]\n"
          ]
        }
      ]
    },
    {
      "cell_type": "code",
      "source": [
        "print(arr9.sum())\n",
        "print(arr9.sum(axis = 0)) #it cal the sum of columns\n",
        "print(arr9.sum(axis = 1)) #it cal the sum of rows"
      ],
      "metadata": {
        "colab": {
          "base_uri": "https://localhost:8080/"
        },
        "id": "SZHZQKvpkbc0",
        "outputId": "a4502fdb-c98f-4a03-b719-f6d6886f14a8"
      },
      "execution_count": null,
      "outputs": [
        {
          "output_type": "stream",
          "name": "stdout",
          "text": [
            "15\n",
            "[3 5 7]\n",
            "[ 3 12]\n"
          ]
        }
      ]
    },
    {
      "cell_type": "code",
      "source": [
        "print(\"mean: \",np.mean(arr9))\n",
        "print(\"median: \",np.median(arr9))\n",
        "print(\"sin: \",np.sin(arr9))\n",
        "print(\"exponential: \",np.exp(arr9))"
      ],
      "metadata": {
        "colab": {
          "base_uri": "https://localhost:8080/"
        },
        "id": "H2mok8-ulwtm",
        "outputId": "2e80ee7c-7e1c-4594-98b5-02fdd2703185"
      },
      "execution_count": null,
      "outputs": [
        {
          "output_type": "stream",
          "name": "stdout",
          "text": [
            "mean:  2.5\n",
            "median:  2.5\n",
            "sin:  [[ 0.          0.84147098  0.90929743]\n",
            " [ 0.14112001 -0.7568025  -0.95892427]]\n",
            "exponential:  [[  1.           2.71828183   7.3890561 ]\n",
            " [ 20.08553692  54.59815003 148.4131591 ]]\n"
          ]
        }
      ]
    },
    {
      "cell_type": "markdown",
      "source": [
        "RESHAPING THE NUMPY ARRAYS\n",
        "1. RAVEL - It returns N-dim array into 1D array\n",
        "2. RESHAPE - Changing the shape of an array\n",
        "3. TRANSOPE - changes the row elements into column and vice-versa\n",
        "4. STACKING -Used for joining multiple numpy arrays\n",
        "   a. VSTACK - it performs vertical stacking along the rows\n",
        "   b. HSTACK - it performs horizontal along with the columns\n",
        "   c. DSTACK - it perfoms in depth stacking along a new third axis\n",
        "5. SPLITTING - Reverse operation of joining \n",
        "hsplit - opposite of hstack\n",
        "vsplit - opposite of vstack"
      ],
      "metadata": {
        "id": "KxNLgzJSnU_6"
      }
    },
    {
      "cell_type": "code",
      "source": [
        "arr2.ndim #ndim - is to check the dimension of a numpy array"
      ],
      "metadata": {
        "colab": {
          "base_uri": "https://localhost:8080/"
        },
        "id": "-cF6jTiMnXtq",
        "outputId": "dbf37ff9-e626-468a-9559-766ee6c36bf7"
      },
      "execution_count": null,
      "outputs": [
        {
          "output_type": "execute_result",
          "data": {
            "text/plain": [
              "2"
            ]
          },
          "metadata": {},
          "execution_count": 42
        }
      ]
    },
    {
      "cell_type": "code",
      "source": [
        "arr2.ravel()"
      ],
      "metadata": {
        "colab": {
          "base_uri": "https://localhost:8080/"
        },
        "id": "x6q1ZSbcocXy",
        "outputId": "bb000ff3-bda3-4cbf-f51a-55f6ab0ecf19"
      },
      "execution_count": null,
      "outputs": [
        {
          "output_type": "execute_result",
          "data": {
            "text/plain": [
              "array([1, 2, 3, 4, 5, 6])"
            ]
          },
          "metadata": {},
          "execution_count": 43
        }
      ]
    },
    {
      "cell_type": "code",
      "source": [
        "#transpose\n",
        "arr2.transpose()"
      ],
      "metadata": {
        "colab": {
          "base_uri": "https://localhost:8080/"
        },
        "id": "GNSBws2ooj2T",
        "outputId": "a675d27d-262d-4b32-bd7d-bc7409339abf"
      },
      "execution_count": null,
      "outputs": [
        {
          "output_type": "execute_result",
          "data": {
            "text/plain": [
              "array([[1, 4],\n",
              "       [2, 5],\n",
              "       [3, 6]])"
            ]
          },
          "metadata": {},
          "execution_count": 44
        }
      ]
    },
    {
      "cell_type": "code",
      "source": [
        "# HSTACK\n",
        "np.hstack((arr2,arr9))"
      ],
      "metadata": {
        "colab": {
          "base_uri": "https://localhost:8080/"
        },
        "id": "OKYobWyzolfO",
        "outputId": "16618605-88ab-4100-c166-d4e5226636c7"
      },
      "execution_count": null,
      "outputs": [
        {
          "output_type": "execute_result",
          "data": {
            "text/plain": [
              "array([[1, 2, 3, 0, 1, 2],\n",
              "       [4, 5, 6, 3, 4, 5]])"
            ]
          },
          "metadata": {},
          "execution_count": 45
        }
      ]
    },
    {
      "cell_type": "code",
      "source": [
        "# VSTACK\n",
        "np.vstack((arr2,arr9))"
      ],
      "metadata": {
        "colab": {
          "base_uri": "https://localhost:8080/"
        },
        "id": "MWMYFoYfrVl9",
        "outputId": "da23fb1e-0832-4b70-9d56-93bb07a72e5f"
      },
      "execution_count": null,
      "outputs": [
        {
          "output_type": "execute_result",
          "data": {
            "text/plain": [
              "array([[1, 2, 3],\n",
              "       [4, 5, 6],\n",
              "       [0, 1, 2],\n",
              "       [3, 4, 5]])"
            ]
          },
          "metadata": {},
          "execution_count": 46
        }
      ]
    },
    {
      "cell_type": "code",
      "source": [
        "# DSTACK\n",
        "np.dstack((arr2,arr9))"
      ],
      "metadata": {
        "colab": {
          "base_uri": "https://localhost:8080/"
        },
        "id": "-VBQKmUurhZI",
        "outputId": "dacf2cb6-44a1-441e-f118-fd69794250e1"
      },
      "execution_count": null,
      "outputs": [
        {
          "output_type": "execute_result",
          "data": {
            "text/plain": [
              "array([[[1, 0],\n",
              "        [2, 1],\n",
              "        [3, 2]],\n",
              "\n",
              "       [[4, 3],\n",
              "        [5, 4],\n",
              "        [6, 5]]])"
            ]
          },
          "metadata": {},
          "execution_count": 47
        }
      ]
    },
    {
      "cell_type": "code",
      "source": [
        "# SIMPLE SPLITING\n",
        "split_array = np.array_split(arr9,3)\n",
        "split_array"
      ],
      "metadata": {
        "colab": {
          "base_uri": "https://localhost:8080/"
        },
        "id": "xn9smqLesS1i",
        "outputId": "b3a024c3-e1d9-41e0-a62e-eb77014a88fa"
      },
      "execution_count": null,
      "outputs": [
        {
          "output_type": "execute_result",
          "data": {
            "text/plain": [
              "[array([[0, 1, 2]]), array([[3, 4, 5]]), array([], shape=(0, 3), dtype=int64)]"
            ]
          },
          "metadata": {},
          "execution_count": 48
        }
      ]
    },
    {
      "cell_type": "code",
      "source": [
        "# HSPLIT\n",
        "h_split = np.hsplit(arr9,3)\n",
        "h_split"
      ],
      "metadata": {
        "colab": {
          "base_uri": "https://localhost:8080/"
        },
        "id": "hFUbmzEhtCa9",
        "outputId": "4b0ff66c-4297-41e9-a4f1-77b17cecee09"
      },
      "execution_count": null,
      "outputs": [
        {
          "output_type": "execute_result",
          "data": {
            "text/plain": [
              "[array([[0],\n",
              "        [3]]), array([[1],\n",
              "        [4]]), array([[2],\n",
              "        [5]])]"
            ]
          },
          "metadata": {},
          "execution_count": 49
        }
      ]
    },
    {
      "cell_type": "code",
      "source": [
        "# VSPLIT\n",
        "v_split = np.vsplit(arr9,2)\n",
        "v_split"
      ],
      "metadata": {
        "colab": {
          "base_uri": "https://localhost:8080/"
        },
        "id": "ToFx9QcbtVIP",
        "outputId": "404020d4-71b9-40fc-fdbd-d7ad5c425418"
      },
      "execution_count": null,
      "outputs": [
        {
          "output_type": "execute_result",
          "data": {
            "text/plain": [
              "[array([[0, 1, 2]]), array([[3, 4, 5]])]"
            ]
          },
          "metadata": {},
          "execution_count": 50
        }
      ]
    },
    {
      "cell_type": "markdown",
      "source": [
        "INDEXING WITH BOOLEAN ARRAYS"
      ],
      "metadata": {
        "id": "xc6CW01otiwQ"
      }
    },
    {
      "cell_type": "code",
      "source": [
        "arr10 = np.arange(24).reshape(6,4)\n",
        "arr10"
      ],
      "metadata": {
        "colab": {
          "base_uri": "https://localhost:8080/"
        },
        "id": "13nG9ilptlQl",
        "outputId": "f99a5265-dd87-4896-eb32-833acab7712b"
      },
      "execution_count": null,
      "outputs": [
        {
          "output_type": "execute_result",
          "data": {
            "text/plain": [
              "array([[ 0,  1,  2,  3],\n",
              "       [ 4,  5,  6,  7],\n",
              "       [ 8,  9, 10, 11],\n",
              "       [12, 13, 14, 15],\n",
              "       [16, 17, 18, 19],\n",
              "       [20, 21, 22, 23]])"
            ]
          },
          "metadata": {},
          "execution_count": 51
        }
      ]
    },
    {
      "cell_type": "code",
      "source": [
        "# to print 1st, 3rd and 5th indexing we use fancy indexing(indexing with boolean)\n",
        "arr10[[0,2,4]]"
      ],
      "metadata": {
        "colab": {
          "base_uri": "https://localhost:8080/"
        },
        "id": "9_XVbD_DtwiD",
        "outputId": "8882a6e8-16f0-4e09-8fb1-237c2664eb16"
      },
      "execution_count": null,
      "outputs": [
        {
          "output_type": "execute_result",
          "data": {
            "text/plain": [
              "array([[ 0,  1,  2,  3],\n",
              "       [ 8,  9, 10, 11],\n",
              "       [16, 17, 18, 19]])"
            ]
          },
          "metadata": {},
          "execution_count": 52
        }
      ]
    },
    {
      "cell_type": "code",
      "source": [
        "arr11 = np.random.randint(low = 10, high = 100 ,size = 20).reshape(4,5)\n",
        "arr11"
      ],
      "metadata": {
        "colab": {
          "base_uri": "https://localhost:8080/"
        },
        "id": "EcBl6byXuJzr",
        "outputId": "235d76e6-79ad-4557-85fd-92c3a7086399"
      },
      "execution_count": null,
      "outputs": [
        {
          "output_type": "execute_result",
          "data": {
            "text/plain": [
              "array([[32, 23, 78, 20, 62],\n",
              "       [33, 95, 65, 67, 98],\n",
              "       [60, 99, 15, 31, 44],\n",
              "       [40, 83, 88, 35, 16]])"
            ]
          },
          "metadata": {},
          "execution_count": 53
        }
      ]
    },
    {
      "cell_type": "code",
      "source": [
        "#example of indexing using boolean array\n",
        "#printing array greater than 50 \n",
        "\n",
        "print(arr11[arr11 > 50])\n",
        "print(arr11[(arr11>50) & (arr11 %2 == 0)])"
      ],
      "metadata": {
        "colab": {
          "base_uri": "https://localhost:8080/"
        },
        "id": "GTDuIwcduoJq",
        "outputId": "35ee289f-cda4-494d-c8ea-e21fcbf838ba"
      },
      "execution_count": null,
      "outputs": [
        {
          "output_type": "stream",
          "name": "stdout",
          "text": [
            "[78 62 95 65 67 98 60 99 83 88]\n",
            "[78 62 98 60 88]\n"
          ]
        }
      ]
    },
    {
      "cell_type": "code",
      "source": [
        "# converting into 0 for the values which are greater than 50 and even\n",
        "arr11[(arr11>50) & (arr11 %2 == 0)] = 0\n",
        "arr11"
      ],
      "metadata": {
        "colab": {
          "base_uri": "https://localhost:8080/"
        },
        "id": "uEzmNAg1vhol",
        "outputId": "8634427f-98a7-497c-e0d3-f075dfc527a8"
      },
      "execution_count": null,
      "outputs": [
        {
          "output_type": "execute_result",
          "data": {
            "text/plain": [
              "array([[32, 23,  0, 20,  0],\n",
              "       [33, 95, 65, 67,  0],\n",
              "       [ 0, 99, 15, 31, 44],\n",
              "       [40, 83,  0, 35, 16]])"
            ]
          },
          "metadata": {},
          "execution_count": 55
        }
      ]
    },
    {
      "cell_type": "markdown",
      "source": [
        "PLOTTING GRAPHS USING NUMPY"
      ],
      "metadata": {
        "id": "cnL000eVwpDQ"
      }
    },
    {
      "cell_type": "code",
      "source": [
        "x = np.linspace(-40,40,100)\n",
        "x"
      ],
      "metadata": {
        "colab": {
          "base_uri": "https://localhost:8080/"
        },
        "id": "nHRm4gT7wsMx",
        "outputId": "06b7986f-68dd-44d9-9421-fd73e8295b72"
      },
      "execution_count": null,
      "outputs": [
        {
          "output_type": "execute_result",
          "data": {
            "text/plain": [
              "array([-40.        , -39.19191919, -38.38383838, -37.57575758,\n",
              "       -36.76767677, -35.95959596, -35.15151515, -34.34343434,\n",
              "       -33.53535354, -32.72727273, -31.91919192, -31.11111111,\n",
              "       -30.3030303 , -29.49494949, -28.68686869, -27.87878788,\n",
              "       -27.07070707, -26.26262626, -25.45454545, -24.64646465,\n",
              "       -23.83838384, -23.03030303, -22.22222222, -21.41414141,\n",
              "       -20.60606061, -19.7979798 , -18.98989899, -18.18181818,\n",
              "       -17.37373737, -16.56565657, -15.75757576, -14.94949495,\n",
              "       -14.14141414, -13.33333333, -12.52525253, -11.71717172,\n",
              "       -10.90909091, -10.1010101 ,  -9.29292929,  -8.48484848,\n",
              "        -7.67676768,  -6.86868687,  -6.06060606,  -5.25252525,\n",
              "        -4.44444444,  -3.63636364,  -2.82828283,  -2.02020202,\n",
              "        -1.21212121,  -0.4040404 ,   0.4040404 ,   1.21212121,\n",
              "         2.02020202,   2.82828283,   3.63636364,   4.44444444,\n",
              "         5.25252525,   6.06060606,   6.86868687,   7.67676768,\n",
              "         8.48484848,   9.29292929,  10.1010101 ,  10.90909091,\n",
              "        11.71717172,  12.52525253,  13.33333333,  14.14141414,\n",
              "        14.94949495,  15.75757576,  16.56565657,  17.37373737,\n",
              "        18.18181818,  18.98989899,  19.7979798 ,  20.60606061,\n",
              "        21.41414141,  22.22222222,  23.03030303,  23.83838384,\n",
              "        24.64646465,  25.45454545,  26.26262626,  27.07070707,\n",
              "        27.87878788,  28.68686869,  29.49494949,  30.3030303 ,\n",
              "        31.11111111,  31.91919192,  32.72727273,  33.53535354,\n",
              "        34.34343434,  35.15151515,  35.95959596,  36.76767677,\n",
              "        37.57575758,  38.38383838,  39.19191919,  40.        ])"
            ]
          },
          "metadata": {},
          "execution_count": 56
        }
      ]
    },
    {
      "cell_type": "code",
      "source": [
        "y = np.sin(x)\n",
        "y"
      ],
      "metadata": {
        "colab": {
          "base_uri": "https://localhost:8080/"
        },
        "id": "bmWg3xhhwzrO",
        "outputId": "b8b6cae7-547e-41f6-ab06-eb71b4c3cdf3"
      },
      "execution_count": null,
      "outputs": [
        {
          "output_type": "execute_result",
          "data": {
            "text/plain": [
              "array([-0.74511316, -0.9969604 , -0.63246122,  0.12304167,  0.80247705,\n",
              "        0.98580059,  0.55967698, -0.21245326, -0.85323945, -0.96653119,\n",
              "       -0.48228862,  0.30011711,  0.89698277,  0.93931073,  0.40093277,\n",
              "       -0.38531209, -0.93334716, -0.90436313, -0.31627868,  0.46733734,\n",
              "        0.96203346,  0.86197589,  0.22902277, -0.54551809, -0.9828057 ,\n",
              "       -0.81249769, -0.13988282,  0.61921119,  0.995493  ,  0.75633557,\n",
              "        0.04959214, -0.68781042, -0.99999098, -0.69395153,  0.0411065 ,\n",
              "        0.75075145,  0.99626264,  0.62585878, -0.13146699, -0.8075165 ,\n",
              "       -0.98433866, -0.55261747,  0.22074597,  0.85763861,  0.96431712,\n",
              "        0.47483011, -0.30820902, -0.90070545, -0.93636273, -0.39313661,\n",
              "        0.39313661,  0.93636273,  0.90070545,  0.30820902, -0.47483011,\n",
              "       -0.96431712, -0.85763861, -0.22074597,  0.55261747,  0.98433866,\n",
              "        0.8075165 ,  0.13146699, -0.62585878, -0.99626264, -0.75075145,\n",
              "       -0.0411065 ,  0.69395153,  0.99999098,  0.68781042, -0.04959214,\n",
              "       -0.75633557, -0.995493  , -0.61921119,  0.13988282,  0.81249769,\n",
              "        0.9828057 ,  0.54551809, -0.22902277, -0.86197589, -0.96203346,\n",
              "       -0.46733734,  0.31627868,  0.90436313,  0.93334716,  0.38531209,\n",
              "       -0.40093277, -0.93931073, -0.89698277, -0.30011711,  0.48228862,\n",
              "        0.96653119,  0.85323945,  0.21245326, -0.55967698, -0.98580059,\n",
              "       -0.80247705, -0.12304167,  0.63246122,  0.9969604 ,  0.74511316])"
            ]
          },
          "metadata": {},
          "execution_count": 57
        }
      ]
    },
    {
      "cell_type": "code",
      "source": [
        "import matplotlib.pyplot as plt\n",
        "%matplotlib inline"
      ],
      "metadata": {
        "id": "Esxw4baow5K2"
      },
      "execution_count": null,
      "outputs": []
    },
    {
      "cell_type": "code",
      "source": [
        "plt.plot(x,y)"
      ],
      "metadata": {
        "colab": {
          "base_uri": "https://localhost:8080/",
          "height": 282
        },
        "id": "B07yrj-rxYHv",
        "outputId": "f30b16a0-ada7-4219-9412-177893e2a5d8"
      },
      "execution_count": null,
      "outputs": [
        {
          "output_type": "execute_result",
          "data": {
            "text/plain": [
              "[<matplotlib.lines.Line2D at 0x7fcb944de9a0>]"
            ]
          },
          "metadata": {},
          "execution_count": 59
        },
        {
          "output_type": "display_data",
          "data": {
            "text/plain": [
              "<Figure size 432x288 with 1 Axes>"
            ],
            "image/png": "[encoded data removed]"
          },
          "metadata": {
            "needs_background": "light"
          }
        }
      ]
    },
    {
      "cell_type": "code",
      "source": [
        "y = x*x+x+2 + 6"
      ],
      "metadata": {
        "id": "iPqSn0ZLxZwc"
      },
      "execution_count": null,
      "outputs": []
    },
    {
      "cell_type": "code",
      "source": [
        "plt.plot(x,y)"
      ],
      "metadata": {
        "colab": {
          "base_uri": "https://localhost:8080/",
          "height": 282
        },
        "id": "QUR6lj6FxpMO",
        "outputId": "be31ca7f-abaa-44d6-8e4e-d329524778f2"
      },
      "execution_count": null,
      "outputs": [
        {
          "output_type": "execute_result",
          "data": {
            "text/plain": [
              "[<matplotlib.lines.Line2D at 0x7fcb943a01c0>]"
            ]
          },
          "metadata": {},
          "execution_count": 61
        },
        {
          "output_type": "display_data",
          "data": {
            "text/plain": [
              "<Figure size 432x288 with 1 Axes>"
            ],
            "image/png": "[encoded data removed]"
          },
          "metadata": {
            "needs_background": "light"
          }
        }
      ]
    },
    {
      "cell_type": "markdown",
      "source": [
        "BROADCASTING - The term broadcasting refers to the ability of Numpy to treat arrays of different shapes during arthimetic operations. \n",
        "If two arrays are similar in shape then the arithmetic operations are possible.\n",
        "If the dimensions of two arrays are dissimilar, elemnt-to-element operations are not possible. But it is still possible with the brodcasting capability."
      ],
      "metadata": {
        "id": "5eWYNC8MODjV"
      }
    },
    {
      "cell_type": "markdown",
      "source": [],
      "metadata": {
        "id": "orgsS7MERGey"
      }
    },
    {
      "cell_type": "code",
      "source": [
        "#SCENARIO 1\n",
        "a1 = np.arange(8).reshape(2,4)\n",
        "a2 = np.arange(8,16).reshape(2,4)\n",
        "print(a1)\n",
        "print(a2)"
      ],
      "metadata": {
        "colab": {
          "base_uri": "https://localhost:8080/"
        },
        "id": "y7vCMLpXOGNN",
        "outputId": "3924b201-fe56-4c5c-857c-8a126e2199ac"
      },
      "execution_count": null,
      "outputs": [
        {
          "output_type": "stream",
          "name": "stdout",
          "text": [
            "[[0 1 2 3]\n",
            " [4 5 6 7]]\n",
            "[[ 8  9 10 11]\n",
            " [12 13 14 15]]\n"
          ]
        }
      ]
    },
    {
      "cell_type": "code",
      "source": [
        " a1 + a2"
      ],
      "metadata": {
        "colab": {
          "base_uri": "https://localhost:8080/"
        },
        "id": "daUZSStXPCoO",
        "outputId": "73d732f5-0dcd-47e6-ffc6-37f03ff66cbb"
      },
      "execution_count": null,
      "outputs": [
        {
          "output_type": "execute_result",
          "data": {
            "text/plain": [
              "array([[ 8, 10, 12, 14],\n",
              "       [16, 18, 20, 22]])"
            ]
          },
          "metadata": {},
          "execution_count": 63
        }
      ]
    },
    {
      "cell_type": "code",
      "source": [
        "# SCENARIO 3\n",
        "a3 = np.arange(9).reshape(3,3)\n",
        "a4 = np.arange(3).reshape(1,3)\n",
        "print(a3)\n",
        "print(a4)\n",
        "# print(a3,a4)"
      ],
      "metadata": {
        "colab": {
          "base_uri": "https://localhost:8080/"
        },
        "id": "ha4jznsLPRXX",
        "outputId": "18a414c2-401e-4097-ccb9-6e79354f4592"
      },
      "execution_count": null,
      "outputs": [
        {
          "output_type": "stream",
          "name": "stdout",
          "text": [
            "[[0 1 2]\n",
            " [3 4 5]\n",
            " [6 7 8]]\n",
            "[[0 1 2]]\n"
          ]
        }
      ]
    },
    {
      "cell_type": "code",
      "source": [
        "a3 + a4"
      ],
      "metadata": {
        "colab": {
          "base_uri": "https://localhost:8080/"
        },
        "id": "YEdgQvJwPd_r",
        "outputId": "b752212c-4856-402d-9387-9be9ca0ea394"
      },
      "execution_count": null,
      "outputs": [
        {
          "output_type": "execute_result",
          "data": {
            "text/plain": [
              "array([[ 0,  2,  4],\n",
              "       [ 3,  5,  7],\n",
              "       [ 6,  8, 10]])"
            ]
          },
          "metadata": {},
          "execution_count": 65
        }
      ]
    },
    {
      "cell_type": "markdown",
      "source": [
        "RULES FOR BROADCASTING"
      ],
      "metadata": {
        "id": "YUJY5HnzQDOB"
      }
    },
    {
      "cell_type": "markdown",
      "source": [
        "If x = m and y = n, operation will take place (m = rows, n = column).\n",
        "\n",
        "If X =1 and y = n then also operation will be take place(same dimension)\n",
        "\n",
        "If y = 1 and x = m then also the operation will take place, even if they are not of same dimension.\n",
        "\n",
        "If x = 1 and y!= 1 then  operation will not take place.\n",
        "\n",
        "If x = 1 and n = 1 then y == m then opeartion is to take place.\n",
        "\n",
        "if x = 1 and y = 1 then the operation will take place no matter what.\n",
        "\n",
        "If they are different dimension operation is possible.\n"
      ],
      "metadata": {
        "id": "uhrWA9CbRyUt"
      }
    },
    {
      "cell_type": "code",
      "source": [
        "# ONE OF THE EXAMPLE FOR ABOVE CONDITIONS\n",
        "a5 = np.arange(1).reshape(1,1)\n",
        "a6 = np.arange(20).reshape(4,5)\n",
        "a5+ a6"
      ],
      "metadata": {
        "colab": {
          "base_uri": "https://localhost:8080/"
        },
        "id": "OUOLSuu7TSE9",
        "outputId": "35172cb0-5945-408c-c2c2-dc79ffc30437"
      },
      "execution_count": null,
      "outputs": [
        {
          "output_type": "execute_result",
          "data": {
            "text/plain": [
              "array([[ 0,  1,  2,  3,  4],\n",
              "       [ 5,  6,  7,  8,  9],\n",
              "       [10, 11, 12, 13, 14],\n",
              "       [15, 16, 17, 18, 19]])"
            ]
          },
          "metadata": {},
          "execution_count": 66
        }
      ]
    },
    {
      "cell_type": "markdown",
      "source": [
        "NUMPY FUNCTIONS"
      ],
      "metadata": {
        "id": "eFRZO9S_T15m"
      }
    },
    {
      "cell_type": "code",
      "source": [
        "np.random.random()"
      ],
      "metadata": {
        "colab": {
          "base_uri": "https://localhost:8080/"
        },
        "id": "Whw6-T3_Tpcn",
        "outputId": "350852f9-b302-4ff5-ad4f-15b8113aa6b6"
      },
      "execution_count": null,
      "outputs": [
        {
          "output_type": "execute_result",
          "data": {
            "text/plain": [
              "0.7327343746886391"
            ]
          },
          "metadata": {},
          "execution_count": 67
        }
      ]
    },
    {
      "cell_type": "code",
      "source": [
        "np.random.seed(1)\n",
        "np.random.random() \n",
        "#random.random() generate a random number from 0 to 1 but when we use random.seed the random number will not change"
      ],
      "metadata": {
        "colab": {
          "base_uri": "https://localhost:8080/"
        },
        "id": "cUXnvQlJUJuF",
        "outputId": "9570c253-c331-4769-df8d-185b6ae7cbbc"
      },
      "execution_count": null,
      "outputs": [
        {
          "output_type": "execute_result",
          "data": {
            "text/plain": [
              "0.417022004702574"
            ]
          },
          "metadata": {},
          "execution_count": 68
        }
      ]
    },
    {
      "cell_type": "markdown",
      "source": [
        "TO GENERATE A RANDOM NUMBER IN A RANGE WE USE RANDOM.UNIFORM FUNCTION."
      ],
      "metadata": {
        "id": "R5O75N1iVI5U"
      }
    },
    {
      "cell_type": "code",
      "source": [
        "np.random.uniform(3,10)"
      ],
      "metadata": {
        "colab": {
          "base_uri": "https://localhost:8080/"
        },
        "id": "3NCvHL4HUdss",
        "outputId": "89663b06-45eb-4d00-bfde-36c970e34027"
      },
      "execution_count": null,
      "outputs": [
        {
          "output_type": "execute_result",
          "data": {
            "text/plain": [
              "8.042271454095108"
            ]
          },
          "metadata": {},
          "execution_count": 69
        }
      ]
    },
    {
      "cell_type": "code",
      "source": [
        "np.random.uniform(1,100,10) # 10 is the size of the array "
      ],
      "metadata": {
        "colab": {
          "base_uri": "https://localhost:8080/"
        },
        "id": "UDHPWRUuVDZB",
        "outputId": "4ed3c5dc-e03e-4442-d727-c85a03be1a1d"
      },
      "execution_count": null,
      "outputs": [
        {
          "output_type": "execute_result",
          "data": {
            "text/plain": [
              "array([ 1.01132311, 30.93092469, 15.52883319, 10.14152088, 19.43976093,\n",
              "       35.21051198, 40.27997995, 54.34285667, 42.50025693, 68.83673054])"
            ]
          },
          "metadata": {},
          "execution_count": 70
        }
      ]
    },
    {
      "cell_type": "code",
      "source": [
        "# TO PROVIDE RANDOM INTEGER VALUE WE USE RANDOM.RANDIT\n",
        "np.random.randint(1,10)"
      ],
      "metadata": {
        "colab": {
          "base_uri": "https://localhost:8080/"
        },
        "id": "So-jeatSVdA2",
        "outputId": "330b2dc7-5876-472a-cb77-c932b0148117"
      },
      "execution_count": null,
      "outputs": [
        {
          "output_type": "execute_result",
          "data": {
            "text/plain": [
              "3"
            ]
          },
          "metadata": {},
          "execution_count": 71
        }
      ]
    },
    {
      "cell_type": "code",
      "source": [
        "a = np.random.randint(1,10,6)\n",
        "a"
      ],
      "metadata": {
        "colab": {
          "base_uri": "https://localhost:8080/"
        },
        "id": "_NGdsJABV9fj",
        "outputId": "542f4d56-ca1f-451e-c7f3-d4aadb5db3c0"
      },
      "execution_count": null,
      "outputs": [
        {
          "output_type": "execute_result",
          "data": {
            "text/plain": [
              "array([5, 8, 8, 2, 8, 1])"
            ]
          },
          "metadata": {},
          "execution_count": 72
        }
      ]
    },
    {
      "cell_type": "code",
      "source": [
        "np.max(a)\n",
        "np.min(a)\n",
        "np.argmax(a) # return the index of max number\n",
        "a[np.argmax(a)] # returns the max vlaue "
      ],
      "metadata": {
        "colab": {
          "base_uri": "https://localhost:8080/"
        },
        "id": "ZwaI_FIyWWN_",
        "outputId": "a3c4da62-d1d8-47d5-c6f8-6955c4bc7205"
      },
      "execution_count": null,
      "outputs": [
        {
          "output_type": "execute_result",
          "data": {
            "text/plain": [
              "8"
            ]
          },
          "metadata": {},
          "execution_count": 73
        }
      ]
    },
    {
      "cell_type": "code",
      "source": [
        "np.argmin(a)"
      ],
      "metadata": {
        "colab": {
          "base_uri": "https://localhost:8080/"
        },
        "id": "wokHF6jtWion",
        "outputId": "3feecdce-14e8-4c4b-ab2d-320578fa7903"
      },
      "execution_count": null,
      "outputs": [
        {
          "output_type": "execute_result",
          "data": {
            "text/plain": [
              "5"
            ]
          },
          "metadata": {},
          "execution_count": 74
        }
      ]
    },
    {
      "cell_type": "code",
      "source": [
        "a[np.argmin(a)]"
      ],
      "metadata": {
        "colab": {
          "base_uri": "https://localhost:8080/"
        },
        "id": "F9rlqUgpXBeO",
        "outputId": "3de19898-6475-4356-9a09-ca568db26bfc"
      },
      "execution_count": null,
      "outputs": [
        {
          "output_type": "execute_result",
          "data": {
            "text/plain": [
              "1"
            ]
          },
          "metadata": {},
          "execution_count": 75
        }
      ]
    },
    {
      "cell_type": "code",
      "source": [
        "a = np.random.randint(1,10,6)\n",
        "a"
      ],
      "metadata": {
        "colab": {
          "base_uri": "https://localhost:8080/"
        },
        "id": "dmMuqXikXEvf",
        "outputId": "8261d9f7-b92c-4b59-acce-82d727854eea"
      },
      "execution_count": null,
      "outputs": [
        {
          "output_type": "execute_result",
          "data": {
            "text/plain": [
              "array([7, 8, 7, 2, 1, 2])"
            ]
          },
          "metadata": {},
          "execution_count": 76
        }
      ]
    },
    {
      "cell_type": "code",
      "source": [
        "# REPLACEING ODD NUMBERS WITH -1\n",
        "a[a%2==1] = -1\n",
        "a"
      ],
      "metadata": {
        "colab": {
          "base_uri": "https://localhost:8080/"
        },
        "id": "1r-CfIGkXOHp",
        "outputId": "4fa1dd41-0e57-4749-eb29-8809dacd77e5"
      },
      "execution_count": null,
      "outputs": [
        {
          "output_type": "execute_result",
          "data": {
            "text/plain": [
              "array([-1,  8, -1,  2, -1,  2])"
            ]
          },
          "metadata": {},
          "execution_count": 77
        }
      ]
    },
    {
      "cell_type": "code",
      "source": [
        "a = np.random.randint(1,50,6)\n",
        "a\n"
      ],
      "metadata": {
        "colab": {
          "base_uri": "https://localhost:8080/"
        },
        "id": "upM-JYiMXVH3",
        "outputId": "7d18bc95-7ed4-4aaa-ac87-1dcf3b203032"
      },
      "execution_count": null,
      "outputs": [
        {
          "output_type": "execute_result",
          "data": {
            "text/plain": [
              "array([ 9, 25, 14, 48, 43,  9])"
            ]
          },
          "metadata": {},
          "execution_count": 78
        }
      ]
    },
    {
      "cell_type": "code",
      "source": [
        "np.where(a%2==1, -1, a) #where is also used to replace  "
      ],
      "metadata": {
        "colab": {
          "base_uri": "https://localhost:8080/"
        },
        "id": "Muof_5aiXvPW",
        "outputId": "1f6ca001-3c62-4678-9068-b242a05f758f"
      },
      "execution_count": null,
      "outputs": [
        {
          "output_type": "execute_result",
          "data": {
            "text/plain": [
              "array([-1, -1, 14, 48, -1, -1])"
            ]
          },
          "metadata": {},
          "execution_count": 79
        }
      ]
    },
    {
      "cell_type": "code",
      "source": [
        "a = np.random.randint(1,150,10)\n",
        "a"
      ],
      "metadata": {
        "colab": {
          "base_uri": "https://localhost:8080/"
        },
        "id": "LLAFQB5-X0GQ",
        "outputId": "8464cf3e-449a-4054-ec59-5b713e1cffc5"
      },
      "execution_count": null,
      "outputs": [
        {
          "output_type": "execute_result",
          "data": {
            "text/plain": [
              "array([ 31,  72, 132,  50,  58,   4,  25,  44,  77,  27])"
            ]
          },
          "metadata": {},
          "execution_count": 80
        }
      ]
    },
    {
      "cell_type": "code",
      "source": [
        "np.sort(a) #sorting the elements in an array"
      ],
      "metadata": {
        "colab": {
          "base_uri": "https://localhost:8080/"
        },
        "id": "klawyRE5YYU4",
        "outputId": "3ad247c2-9e7f-42a9-9cae-b2fe04e64f75"
      },
      "execution_count": null,
      "outputs": [
        {
          "output_type": "execute_result",
          "data": {
            "text/plain": [
              "array([  4,  25,  27,  31,  44,  50,  58,  72,  77, 132])"
            ]
          },
          "metadata": {},
          "execution_count": 81
        }
      ]
    },
    {
      "cell_type": "code",
      "source": [
        "np.percentile(a,25)"
      ],
      "metadata": {
        "colab": {
          "base_uri": "https://localhost:8080/"
        },
        "id": "4QmlTZ2BYa16",
        "outputId": "e1f91d1c-4511-45dc-fbb8-57628c20db77"
      },
      "execution_count": null,
      "outputs": [
        {
          "output_type": "execute_result",
          "data": {
            "text/plain": [
              "28.0"
            ]
          },
          "metadata": {},
          "execution_count": 82
        }
      ]
    },
    {
      "cell_type": "code",
      "source": [
        "np.percentile(a,50)"
      ],
      "metadata": {
        "colab": {
          "base_uri": "https://localhost:8080/"
        },
        "id": "THck87yAY5Id",
        "outputId": "451a1b27-8c0a-491c-fc44-654931a0306f"
      },
      "execution_count": null,
      "outputs": [
        {
          "output_type": "execute_result",
          "data": {
            "text/plain": [
              "47.0"
            ]
          },
          "metadata": {},
          "execution_count": 83
        }
      ]
    },
    {
      "cell_type": "markdown",
      "source": [
        "EMPTY ARRAY CREATION"
      ],
      "metadata": {
        "id": "eR2Vw3mSC-RE"
      }
    },
    {
      "cell_type": "code",
      "source": [
        "#numpy.empty array returns a new array of given shape and type, without initializing entries.\n",
        "\n",
        "empty_arr = np.empty([2,2])\n",
        "empty_arr"
      ],
      "metadata": {
        "id": "5I7C76BTZRGD",
        "colab": {
          "base_uri": "https://localhost:8080/"
        },
        "outputId": "251ff4ef-e518-479e-9e77-6c3f5bccbd58"
      },
      "execution_count": null,
      "outputs": [
        {
          "output_type": "execute_result",
          "data": {
            "text/plain": [
              "array([[0.0e+000, 2.0e-323],\n",
              "       [2.5e-323, 4.4e-323]])"
            ]
          },
          "metadata": {},
          "execution_count": 90
        }
      ]
    },
    {
      "cell_type": "code",
      "source": [
        "#np.eye is similar to indentity returns a 2D array with ones on the diagonal and zeros elsewhere.\n",
        "eye_arr = np.eye(5)\n",
        "eye_arr"
      ],
      "metadata": {
        "colab": {
          "base_uri": "https://localhost:8080/"
        },
        "id": "Cq0PmgCxCnui",
        "outputId": "658f753a-ffc7-4511-c143-6529b68f9816"
      },
      "execution_count": null,
      "outputs": [
        {
          "output_type": "execute_result",
          "data": {
            "text/plain": [
              "array([[1., 0., 0., 0., 0.],\n",
              "       [0., 1., 0., 0., 0.],\n",
              "       [0., 0., 1., 0., 0.],\n",
              "       [0., 0., 0., 1., 0.],\n",
              "       [0., 0., 0., 0., 1.]])"
            ]
          },
          "metadata": {},
          "execution_count": 94
        }
      ]
    },
    {
      "cell_type": "markdown",
      "source": [
        "FROMSTRING TO AN FLATTEN ARRAY"
      ],
      "metadata": {
        "id": "8KtomzWAG6J-"
      }
    },
    {
      "cell_type": "code",
      "source": [
        "#NUMPY.FROMSTRING\n",
        "# it takes string and convert it into an array\n",
        "string_arr = np.fromstring(\"1 2 23 4\", dtype = int, sep = \" \")\n",
        "string_arr"
      ],
      "metadata": {
        "colab": {
          "base_uri": "https://localhost:8080/"
        },
        "id": "x8LaGKaUDTMz",
        "outputId": "8a8836f0-050c-487b-aed8-4ac4eb5c2e7b"
      },
      "execution_count": null,
      "outputs": [
        {
          "output_type": "execute_result",
          "data": {
            "text/plain": [
              "array([ 1,  2, 23,  4])"
            ]
          },
          "metadata": {},
          "execution_count": 96
        }
      ]
    },
    {
      "cell_type": "markdown",
      "source": [
        "LOAD TEXT"
      ],
      "metadata": {
        "id": "ykWqPm0WG4is"
      }
    },
    {
      "cell_type": "code",
      "source": [
        "#LOAD TEXT \n",
        "# numpy.loadtxt - load data from a text file\n",
        "from io import StringIO\n",
        "c= StringIO(\"0 1\\n2 3\")\n",
        "np.loadtxt(c)"
      ],
      "metadata": {
        "colab": {
          "base_uri": "https://localhost:8080/"
        },
        "id": "eCNrPicQE5UZ",
        "outputId": "d46dfda4-c5ed-4f3c-fc68-ac49697e9deb"
      },
      "execution_count": null,
      "outputs": [
        {
          "output_type": "execute_result",
          "data": {
            "text/plain": [
              "array([[0., 1.],\n",
              "       [2., 3.]])"
            ]
          },
          "metadata": {},
          "execution_count": 97
        }
      ]
    },
    {
      "cell_type": "markdown",
      "source": [
        "DIAGONAL FLAT - Create a 2D dimensional array with the flattened input as diagonal"
      ],
      "metadata": {
        "id": "gwq7gHd8Fzfm"
      }
    },
    {
      "cell_type": "code",
      "source": [
        "#NUMPY.DIAGFLAT(V, K = 0)\n",
        "diagflat_arr = np.diagflat([[1,2],[3,4]])\n",
        "diagflat_arr"
      ],
      "metadata": {
        "colab": {
          "base_uri": "https://localhost:8080/"
        },
        "id": "acJs9FaIFduO",
        "outputId": "5a854ae2-b87c-4ace-ef87-9fd32869b9ea"
      },
      "execution_count": null,
      "outputs": [
        {
          "output_type": "execute_result",
          "data": {
            "text/plain": [
              "array([[1, 0, 0, 0],\n",
              "       [0, 2, 0, 0],\n",
              "       [0, 0, 3, 0],\n",
              "       [0, 0, 0, 4]])"
            ]
          },
          "metadata": {},
          "execution_count": 104
        }
      ]
    },
    {
      "cell_type": "markdown",
      "source": [
        "CONCATENATE - Join a sequence of arrays alogn an existing axis"
      ],
      "metadata": {
        "id": "L1kUkApHHhPg"
      }
    },
    {
      "cell_type": "code",
      "source": [
        "a = np.arange(6)\n",
        "b = np.arange(7)\n",
        "concat_arr = np.concatenate((a,b), axis = 0)\n",
        "concat_arr"
      ],
      "metadata": {
        "colab": {
          "base_uri": "https://localhost:8080/"
        },
        "id": "8gusCbbCGLrr",
        "outputId": "5dfb6c68-0d15-49fb-f3af-53f7aeb8744a"
      },
      "execution_count": null,
      "outputs": [
        {
          "output_type": "execute_result",
          "data": {
            "text/plain": [
              "array([0, 1, 2, 3, 4, 5, 0, 1, 2, 3, 4, 5, 6])"
            ]
          },
          "metadata": {},
          "execution_count": 107
        }
      ]
    },
    {
      "cell_type": "markdown",
      "source": [
        "REPEAT - Repeat elements of an array"
      ],
      "metadata": {
        "id": "IwNqegAeJLjF"
      }
    },
    {
      "cell_type": "code",
      "source": [
        "repeat_arr = np.repeat(a,2)\n",
        "repeat_arr"
      ],
      "metadata": {
        "colab": {
          "base_uri": "https://localhost:8080/"
        },
        "id": "ypdGhQS7IvSU",
        "outputId": "07f42a87-2fab-4f0a-b179-1e9f341bfbcc"
      },
      "execution_count": null,
      "outputs": [
        {
          "output_type": "execute_result",
          "data": {
            "text/plain": [
              "array([0, 0, 1, 1, 2, 2, 3, 3, 4, 4, 5, 5])"
            ]
          },
          "metadata": {},
          "execution_count": 109
        }
      ]
    },
    {
      "cell_type": "markdown",
      "source": [
        "DELETE - used to delete an element"
      ],
      "metadata": {
        "id": "XLTY2CSlJnud"
      }
    },
    {
      "cell_type": "code",
      "source": [
        "delete_arr = np.delete(a,1)\n",
        "delete_arr"
      ],
      "metadata": {
        "colab": {
          "base_uri": "https://localhost:8080/"
        },
        "id": "Z8bL3GOwJiWu",
        "outputId": "298d875b-536f-4f00-c98e-a3657c388b25"
      },
      "execution_count": null,
      "outputs": [
        {
          "output_type": "execute_result",
          "data": {
            "text/plain": [
              "array([0, 2, 3, 4, 5])"
            ]
          },
          "metadata": {},
          "execution_count": 111
        }
      ]
    },
    {
      "cell_type": "markdown",
      "source": [
        "INSERT - Insert value along the axis before the given indices"
      ],
      "metadata": {
        "id": "A23sMla_JnIM"
      }
    },
    {
      "cell_type": "code",
      "source": [
        "inserted_arr = np.insert(a,b,8 ,axis = 0)\n",
        "inserted_arr"
      ],
      "metadata": {
        "colab": {
          "base_uri": "https://localhost:8080/"
        },
        "id": "UBFSVOR0KCkM",
        "outputId": "ceaf1614-5b5c-4f62-8d87-2645dabd4388"
      },
      "execution_count": null,
      "outputs": [
        {
          "output_type": "execute_result",
          "data": {
            "text/plain": [
              "array([8, 0, 8, 1, 8, 2, 8, 3, 8, 4, 8, 5, 8])"
            ]
          },
          "metadata": {},
          "execution_count": 121
        }
      ]
    },
    {
      "cell_type": "markdown",
      "source": [
        "APPEND - append values to the end of an array"
      ],
      "metadata": {
        "id": "GKGGjfRSKn2y"
      }
    },
    {
      "cell_type": "code",
      "source": [
        "append_array = np.append(a, 12)\n",
        "append_array"
      ],
      "metadata": {
        "colab": {
          "base_uri": "https://localhost:8080/"
        },
        "id": "Hul-HRmrKEps",
        "outputId": "5584f2be-e800-45b7-c7e9-7c83fb843188"
      },
      "execution_count": null,
      "outputs": [
        {
          "output_type": "execute_result",
          "data": {
            "text/plain": [
              "array([ 0,  1,  2,  3,  4,  5, 12])"
            ]
          },
          "metadata": {},
          "execution_count": 124
        }
      ]
    },
    {
      "cell_type": "markdown",
      "source": [
        "UNIQUE = It finds the unique elements in an array"
      ],
      "metadata": {
        "id": "hASkRhHCK94e"
      }
    },
    {
      "cell_type": "code",
      "source": [
        "unique_arr = np.unique([1,1,2,3,4,4,5])\n",
        "unique_arr"
      ],
      "metadata": {
        "colab": {
          "base_uri": "https://localhost:8080/"
        },
        "id": "tt9NviucKzvj",
        "outputId": "91dfb35f-5153-4915-c7ff-c8463cb1b137"
      },
      "execution_count": null,
      "outputs": [
        {
          "output_type": "execute_result",
          "data": {
            "text/plain": [
              "array([1, 2, 3, 4, 5])"
            ]
          },
          "metadata": {},
          "execution_count": 125
        }
      ]
    },
    {
      "cell_type": "code",
      "source": [],
      "metadata": {
        "id": "ou8PgwQ3LM8i"
      },
      "execution_count": null,
      "outputs": []
    }
  ]
}