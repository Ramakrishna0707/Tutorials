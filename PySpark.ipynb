{
  "nbformat": 4,
  "nbformat_minor": 0,
  "metadata": {
    "colab": {
      "provenance": [],
      "authorship_tag": "ABX9TyO71U0mUwAi8H56bQmuSOEV",
      "include_colab_link": true
    },
    "kernelspec": {
      "name": "python3",
      "display_name": "Python 3"
    },
    "language_info": {
      "name": "python"
    }
  },
  "cells": [
    {
      "cell_type": "markdown",
      "metadata": {
        "id": "view-in-github",
        "colab_type": "text"
      },
      "source": [
        "<a href=\"https://colab.research.google.com/github/Ramakrishna0707/Tutorials/blob/main/PySpark.ipynb\" target=\"_parent\"><img src=\"https://colab.research.google.com/assets/colab-badge.svg\" alt=\"Open In Colab\"/></a>"
      ]
    },
    {
      "cell_type": "code",
      "execution_count": null,
      "metadata": {
        "colab": {
          "base_uri": "https://localhost:8080/"
        },
        "id": "a2NLe3wEMPni",
        "outputId": "94277787-4d7f-4eb7-f9cd-67a1665127fb"
      },
      "outputs": [
        {
          "output_type": "stream",
          "name": "stdout",
          "text": [
            "Looking in indexes: https://pypi.org/simple, https://us-python.pkg.dev/colab-wheels/public/simple/\n",
            "Collecting pyspark\n",
            "  Downloading pyspark-3.3.2.tar.gz (281.4 MB)\n",
            "\u001b[2K     \u001b[90m━━━━━━━━━━━━━━━━━━━━━━━━━━━━━━━━━━━━━━━\u001b[0m \u001b[32m281.4/281.4 MB\u001b[0m \u001b[31m4.9 MB/s\u001b[0m eta \u001b[36m0:00:00\u001b[0m\n",
            "\u001b[?25h  Preparing metadata (setup.py) ... \u001b[?25l\u001b[?25hdone\n",
            "Collecting py4j==0.10.9.5\n",
            "  Downloading py4j-0.10.9.5-py2.py3-none-any.whl (199 kB)\n",
            "\u001b[2K     \u001b[90m━━━━━━━━━━━━━━━━━━━━━━━━━━━━━━━━━━━━━━\u001b[0m \u001b[32m199.7/199.7 KB\u001b[0m \u001b[31m14.5 MB/s\u001b[0m eta \u001b[36m0:00:00\u001b[0m\n",
            "\u001b[?25hBuilding wheels for collected packages: pyspark\n",
            "  Building wheel for pyspark (setup.py) ... \u001b[?25l\u001b[?25hdone\n",
            "  Created wheel for pyspark: filename=pyspark-3.3.2-py2.py3-none-any.whl size=281824025 sha256=cb74ef9eeb84ba5cb45f19cb986a481712e9580601f0ed3fef9ebc13c5035b22\n",
            "  Stored in directory: /root/.cache/pip/wheels/b1/59/a0/a1a0624b5e865fd389919c1a10f53aec9b12195d6747710baf\n",
            "Successfully built pyspark\n",
            "Installing collected packages: py4j, pyspark\n",
            "Successfully installed py4j-0.10.9.5 pyspark-3.3.2\n"
          ]
        }
      ],
      "source": [
        "!pip install pyspark"
      ]
    },
    {
      "cell_type": "code",
      "source": [
        "import pyspark"
      ],
      "metadata": {
        "id": "Gdr9RiccMSuM"
      },
      "execution_count": null,
      "outputs": []
    },
    {
      "cell_type": "code",
      "source": [
        "pip install gdown"
      ],
      "metadata": {
        "colab": {
          "base_uri": "https://localhost:8080/"
        },
        "id": "18YQk1iPMuEo",
        "outputId": "cc07473c-4003-492a-a1d5-61bac2665122"
      },
      "execution_count": null,
      "outputs": [
        {
          "output_type": "stream",
          "name": "stdout",
          "text": [
            "Looking in indexes: https://pypi.org/simple, https://us-python.pkg.dev/colab-wheels/public/simple/\n",
            "Requirement already satisfied: gdown in /usr/local/lib/python3.8/dist-packages (4.4.0)\n",
            "Requirement already satisfied: beautifulsoup4 in /usr/local/lib/python3.8/dist-packages (from gdown) (4.6.3)\n",
            "Requirement already satisfied: tqdm in /usr/local/lib/python3.8/dist-packages (from gdown) (4.64.1)\n",
            "Requirement already satisfied: filelock in /usr/local/lib/python3.8/dist-packages (from gdown) (3.9.0)\n",
            "Requirement already satisfied: six in /usr/local/lib/python3.8/dist-packages (from gdown) (1.15.0)\n",
            "Requirement already satisfied: requests[socks] in /usr/local/lib/python3.8/dist-packages (from gdown) (2.25.1)\n",
            "Requirement already satisfied: idna<3,>=2.5 in /usr/local/lib/python3.8/dist-packages (from requests[socks]->gdown) (2.10)\n",
            "Requirement already satisfied: certifi>=2017.4.17 in /usr/local/lib/python3.8/dist-packages (from requests[socks]->gdown) (2022.12.7)\n",
            "Requirement already satisfied: urllib3<1.27,>=1.21.1 in /usr/local/lib/python3.8/dist-packages (from requests[socks]->gdown) (1.26.14)\n",
            "Requirement already satisfied: chardet<5,>=3.0.2 in /usr/local/lib/python3.8/dist-packages (from requests[socks]->gdown) (4.0.0)\n",
            "Requirement already satisfied: PySocks!=1.5.7,>=1.5.6 in /usr/local/lib/python3.8/dist-packages (from requests[socks]->gdown) (1.7.1)\n"
          ]
        }
      ]
    },
    {
      "cell_type": "code",
      "source": [
        "!pip install --upgrade --no-cache-dir gdown"
      ],
      "metadata": {
        "colab": {
          "base_uri": "https://localhost:8080/"
        },
        "id": "Z7X2WcE8Obrz",
        "outputId": "e1723ce5-cda0-4397-9cfd-e701de2914c6"
      },
      "execution_count": null,
      "outputs": [
        {
          "output_type": "stream",
          "name": "stdout",
          "text": [
            "Looking in indexes: https://pypi.org/simple, https://us-python.pkg.dev/colab-wheels/public/simple/\n",
            "Requirement already satisfied: gdown in /usr/local/lib/python3.8/dist-packages (4.4.0)\n",
            "Collecting gdown\n",
            "  Downloading gdown-4.6.4-py3-none-any.whl (14 kB)\n",
            "Requirement already satisfied: filelock in /usr/local/lib/python3.8/dist-packages (from gdown) (3.9.0)\n",
            "Requirement already satisfied: six in /usr/local/lib/python3.8/dist-packages (from gdown) (1.15.0)\n",
            "Requirement already satisfied: tqdm in /usr/local/lib/python3.8/dist-packages (from gdown) (4.64.1)\n",
            "Requirement already satisfied: beautifulsoup4 in /usr/local/lib/python3.8/dist-packages (from gdown) (4.6.3)\n",
            "Requirement already satisfied: requests[socks] in /usr/local/lib/python3.8/dist-packages (from gdown) (2.25.1)\n",
            "Requirement already satisfied: urllib3<1.27,>=1.21.1 in /usr/local/lib/python3.8/dist-packages (from requests[socks]->gdown) (1.26.14)\n",
            "Requirement already satisfied: idna<3,>=2.5 in /usr/local/lib/python3.8/dist-packages (from requests[socks]->gdown) (2.10)\n",
            "Requirement already satisfied: chardet<5,>=3.0.2 in /usr/local/lib/python3.8/dist-packages (from requests[socks]->gdown) (4.0.0)\n",
            "Requirement already satisfied: certifi>=2017.4.17 in /usr/local/lib/python3.8/dist-packages (from requests[socks]->gdown) (2022.12.7)\n",
            "Requirement already satisfied: PySocks!=1.5.7,>=1.5.6 in /usr/local/lib/python3.8/dist-packages (from requests[socks]->gdown) (1.7.1)\n",
            "Installing collected packages: gdown\n",
            "  Attempting uninstall: gdown\n",
            "    Found existing installation: gdown 4.4.0\n",
            "    Uninstalling gdown-4.4.0:\n",
            "      Successfully uninstalled gdown-4.4.0\n",
            "Successfully installed gdown-4.6.4\n"
          ]
        }
      ]
    },
    {
      "cell_type": "code",
      "source": [
        "!gdown --id 1wXutnsaTYPmyxykjGtJ3iuBYcgZQFtVv"
      ],
      "metadata": {
        "colab": {
          "base_uri": "https://localhost:8080/"
        },
        "id": "WB1OtN_dOmp7",
        "outputId": "4c26f6f3-3fee-4a95-ac4b-d2ff505ea0ea"
      },
      "execution_count": null,
      "outputs": [
        {
          "output_type": "stream",
          "name": "stdout",
          "text": [
            "/usr/local/lib/python3.8/dist-packages/gdown/cli.py:121: FutureWarning: Option `--id` was deprecated in version 4.3.1 and will be removed in 5.0. You don't need to pass it anymore to use a file ID.\n",
            "  warnings.warn(\n",
            "Downloading...\n",
            "From: https://drive.google.com/uc?id=1wXutnsaTYPmyxykjGtJ3iuBYcgZQFtVv\n",
            "To: /content/test1.csv\n",
            "100% 88.0/88.0 [00:00<00:00, 94.5kB/s]\n"
          ]
        }
      ]
    },
    {
      "cell_type": "code",
      "source": [
        " import pandas as pd\n",
        " pd.read_csv('/content/test1.csv')\n",
        "#  type(pd.read_csv('/content/test1.csv'))"
      ],
      "metadata": {
        "colab": {
          "base_uri": "https://localhost:8080/",
          "height": 237
        },
        "id": "-HwKu7MfO265",
        "outputId": "9e84daa0-5f19-415c-8188-84bd9dce2b82"
      },
      "execution_count": null,
      "outputs": [
        {
          "output_type": "execute_result",
          "data": {
            "text/plain": [
              "          Name  Age\n",
              "0  Ramakrishna   21\n",
              "1   Saikrishna   22\n",
              "2     Abhiram    21\n",
              "3      Bharath   22\n",
              "4      Praveen   21\n",
              "5        Shaik   22"
            ],
            "text/html": [
              "\n",
              "  <div id=\"df-59bcba71-08ec-4c32-92a8-e536030f210c\">\n",
              "    <div class=\"colab-df-container\">\n",
              "      <div>\n",
              "<style scoped>\n",
              "    .dataframe tbody tr th:only-of-type {\n",
              "        vertical-align: middle;\n",
              "    }\n",
              "\n",
              "    .dataframe tbody tr th {\n",
              "        vertical-align: top;\n",
              "    }\n",
              "\n",
              "    .dataframe thead th {\n",
              "        text-align: right;\n",
              "    }\n",
              "</style>\n",
              "<table border=\"1\" class=\"dataframe\">\n",
              "  <thead>\n",
              "    <tr style=\"text-align: right;\">\n",
              "      <th></th>\n",
              "      <th>Name</th>\n",
              "      <th>Age</th>\n",
              "    </tr>\n",
              "  </thead>\n",
              "  <tbody>\n",
              "    <tr>\n",
              "      <th>0</th>\n",
              "      <td>Ramakrishna</td>\n",
              "      <td>21</td>\n",
              "    </tr>\n",
              "    <tr>\n",
              "      <th>1</th>\n",
              "      <td>Saikrishna</td>\n",
              "      <td>22</td>\n",
              "    </tr>\n",
              "    <tr>\n",
              "      <th>2</th>\n",
              "      <td>Abhiram</td>\n",
              "      <td>21</td>\n",
              "    </tr>\n",
              "    <tr>\n",
              "      <th>3</th>\n",
              "      <td>Bharath</td>\n",
              "      <td>22</td>\n",
              "    </tr>\n",
              "    <tr>\n",
              "      <th>4</th>\n",
              "      <td>Praveen</td>\n",
              "      <td>21</td>\n",
              "    </tr>\n",
              "    <tr>\n",
              "      <th>5</th>\n",
              "      <td>Shaik</td>\n",
              "      <td>22</td>\n",
              "    </tr>\n",
              "  </tbody>\n",
              "</table>\n",
              "</div>\n",
              "      <button class=\"colab-df-convert\" onclick=\"convertToInteractive('df-59bcba71-08ec-4c32-92a8-e536030f210c')\"\n",
              "              title=\"Convert this dataframe to an interactive table.\"\n",
              "              style=\"display:none;\">\n",
              "        \n",
              "  <svg xmlns=\"http://www.w3.org/2000/svg\" height=\"24px\"viewBox=\"0 0 24 24\"\n",
              "       width=\"24px\">\n",
              "    <path d=\"M0 0h24v24H0V0z\" fill=\"none\"/>\n",
              "    <path d=\"M18.56 5.44l.94 2.06.94-2.06 2.06-.94-2.06-.94-.94-2.06-.94 2.06-2.06.94zm-11 1L8.5 8.5l.94-2.06 2.06-.94-2.06-.94L8.5 2.5l-.94 2.06-2.06.94zm10 10l.94 2.06.94-2.06 2.06-.94-2.06-.94-.94-2.06-.94 2.06-2.06.94z\"/><path d=\"M17.41 7.96l-1.37-1.37c-.4-.4-.92-.59-1.43-.59-.52 0-1.04.2-1.43.59L10.3 9.45l-7.72 7.72c-.78.78-.78 2.05 0 2.83L4 21.41c.39.39.9.59 1.41.59.51 0 1.02-.2 1.41-.59l7.78-7.78 2.81-2.81c.8-.78.8-2.07 0-2.86zM5.41 20L4 18.59l7.72-7.72 1.47 1.35L5.41 20z\"/>\n",
              "  </svg>\n",
              "      </button>\n",
              "      \n",
              "  <style>\n",
              "    .colab-df-container {\n",
              "      display:flex;\n",
              "      flex-wrap:wrap;\n",
              "      gap: 12px;\n",
              "    }\n",
              "\n",
              "    .colab-df-convert {\n",
              "      background-color: #E8F0FE;\n",
              "      border: none;\n",
              "      border-radius: 50%;\n",
              "      cursor: pointer;\n",
              "      display: none;\n",
              "      fill: #1967D2;\n",
              "      height: 32px;\n",
              "      padding: 0 0 0 0;\n",
              "      width: 32px;\n",
              "    }\n",
              "\n",
              "    .colab-df-convert:hover {\n",
              "      background-color: #E2EBFA;\n",
              "      box-shadow: 0px 1px 2px rgba(60, 64, 67, 0.3), 0px 1px 3px 1px rgba(60, 64, 67, 0.15);\n",
              "      fill: #174EA6;\n",
              "    }\n",
              "\n",
              "    [theme=dark] .colab-df-convert {\n",
              "      background-color: #3B4455;\n",
              "      fill: #D2E3FC;\n",
              "    }\n",
              "\n",
              "    [theme=dark] .colab-df-convert:hover {\n",
              "      background-color: #434B5C;\n",
              "      box-shadow: 0px 1px 3px 1px rgba(0, 0, 0, 0.15);\n",
              "      filter: drop-shadow(0px 1px 2px rgba(0, 0, 0, 0.3));\n",
              "      fill: #FFFFFF;\n",
              "    }\n",
              "  </style>\n",
              "\n",
              "      <script>\n",
              "        const buttonEl =\n",
              "          document.querySelector('#df-59bcba71-08ec-4c32-92a8-e536030f210c button.colab-df-convert');\n",
              "        buttonEl.style.display =\n",
              "          google.colab.kernel.accessAllowed ? 'block' : 'none';\n",
              "\n",
              "        async function convertToInteractive(key) {\n",
              "          const element = document.querySelector('#df-59bcba71-08ec-4c32-92a8-e536030f210c');\n",
              "          const dataTable =\n",
              "            await google.colab.kernel.invokeFunction('convertToInteractive',\n",
              "                                                     [key], {});\n",
              "          if (!dataTable) return;\n",
              "\n",
              "          const docLinkHtml = 'Like what you see? Visit the ' +\n",
              "            '<a target=\"_blank\" href=https://colab.research.google.com/notebooks/data_table.ipynb>data table notebook</a>'\n",
              "            + ' to learn more about interactive tables.';\n",
              "          element.innerHTML = '';\n",
              "          dataTable['output_type'] = 'display_data';\n",
              "          await google.colab.output.renderOutput(dataTable, element);\n",
              "          const docLink = document.createElement('div');\n",
              "          docLink.innerHTML = docLinkHtml;\n",
              "          element.appendChild(docLink);\n",
              "        }\n",
              "      </script>\n",
              "    </div>\n",
              "  </div>\n",
              "  "
            ]
          },
          "metadata": {},
          "execution_count": 6
        }
      ]
    },
    {
      "cell_type": "code",
      "source": [
        "from pyspark.sql import SparkSession"
      ],
      "metadata": {
        "id": "kCp9hwLwRD__"
      },
      "execution_count": null,
      "outputs": []
    },
    {
      "cell_type": "code",
      "source": [
        "spark = SparkSession.builder.appName('Practice').getOrCreate()"
      ],
      "metadata": {
        "id": "A7X3WqMqRMCE"
      },
      "execution_count": null,
      "outputs": []
    },
    {
      "cell_type": "code",
      "source": [
        "spark"
      ],
      "metadata": {
        "colab": {
          "base_uri": "https://localhost:8080/",
          "height": 219
        },
        "id": "udECFeoIRSCV",
        "outputId": "2609c69b-b568-4272-b130-9dbf89c15fc3"
      },
      "execution_count": null,
      "outputs": [
        {
          "output_type": "execute_result",
          "data": {
            "text/plain": [
              "<pyspark.sql.session.SparkSession at 0x7f36345be550>"
            ],
            "text/html": [
              "\n",
              "            <div>\n",
              "                <p><b>SparkSession - in-memory</b></p>\n",
              "                \n",
              "        <div>\n",
              "            <p><b>SparkContext</b></p>\n",
              "\n",
              "            <p><a href=\"http://e3c59449dfcb:4040\">Spark UI</a></p>\n",
              "\n",
              "            <dl>\n",
              "              <dt>Version</dt>\n",
              "                <dd><code>v3.3.2</code></dd>\n",
              "              <dt>Master</dt>\n",
              "                <dd><code>local[*]</code></dd>\n",
              "              <dt>AppName</dt>\n",
              "                <dd><code>Practice</code></dd>\n",
              "            </dl>\n",
              "        </div>\n",
              "        \n",
              "            </div>\n",
              "        "
            ]
          },
          "metadata": {},
          "execution_count": 9
        }
      ]
    },
    {
      "cell_type": "code",
      "source": [
        "df_pyspark = spark.read.csv('/content/test1.csv')"
      ],
      "metadata": {
        "id": "BQdy7sOARVDU"
      },
      "execution_count": null,
      "outputs": []
    },
    {
      "cell_type": "code",
      "source": [
        "df_pyspark.show() # reading the csv file but headings are merged with the values"
      ],
      "metadata": {
        "colab": {
          "base_uri": "https://localhost:8080/"
        },
        "id": "smqxeb9JRoqx",
        "outputId": "22c5112d-d4a0-4a2c-e213-21c4f2e41296"
      },
      "execution_count": null,
      "outputs": [
        {
          "output_type": "stream",
          "name": "stdout",
          "text": [
            "+-----------+---+\n",
            "|        _c0|_c1|\n",
            "+-----------+---+\n",
            "|       Name|Age|\n",
            "|Ramakrishna| 21|\n",
            "| Saikrishna| 22|\n",
            "|   Abhiram | 21|\n",
            "|    Bharath| 22|\n",
            "|    Praveen| 21|\n",
            "|      Shaik| 22|\n",
            "+-----------+---+\n",
            "\n"
          ]
        }
      ]
    },
    {
      "cell_type": "code",
      "source": [
        "#making headers \n",
        "df_pyspark = spark.read.option('header', 'true').csv('/content/test1.csv')"
      ],
      "metadata": {
        "id": "7Kv9HQ9rRsWA"
      },
      "execution_count": null,
      "outputs": []
    },
    {
      "cell_type": "code",
      "source": [
        "type(df_pyspark)  #showing nonetype instead of pyspark.sql.dataframe.DataFrame"
      ],
      "metadata": {
        "colab": {
          "base_uri": "https://localhost:8080/"
        },
        "id": "GlsCJK7fSHpN",
        "outputId": "f9035d86-352b-4720-87c7-4cc6e813e37a"
      },
      "execution_count": null,
      "outputs": [
        {
          "output_type": "execute_result",
          "data": {
            "text/plain": [
              "pyspark.sql.dataframe.DataFrame"
            ]
          },
          "metadata": {},
          "execution_count": 13
        }
      ]
    },
    {
      "cell_type": "code",
      "source": [
        "df_pyspark.head(3)"
      ],
      "metadata": {
        "colab": {
          "base_uri": "https://localhost:8080/"
        },
        "id": "RXbSxibOVHlg",
        "outputId": "39c63abc-9b69-4851-d4ae-b041d355ce7b"
      },
      "execution_count": null,
      "outputs": [
        {
          "output_type": "execute_result",
          "data": {
            "text/plain": [
              "[Row(Name='Ramakrishna', Age='21'),\n",
              " Row(Name='Saikrishna', Age='22'),\n",
              " Row(Name='Abhiram ', Age='21')]"
            ]
          },
          "metadata": {},
          "execution_count": 14
        }
      ]
    },
    {
      "cell_type": "code",
      "source": [
        "df_pyspark.printSchema()"
      ],
      "metadata": {
        "colab": {
          "base_uri": "https://localhost:8080/"
        },
        "id": "NJlaLmZ-Sek8",
        "outputId": "55e64142-85e0-49e5-f80b-96b769868c88"
      },
      "execution_count": null,
      "outputs": [
        {
          "output_type": "stream",
          "name": "stdout",
          "text": [
            "root\n",
            " |-- Name: string (nullable = true)\n",
            " |-- Age: string (nullable = true)\n",
            "\n"
          ]
        }
      ]
    },
    {
      "cell_type": "markdown",
      "source": [
        "**DAY2**"
      ],
      "metadata": {
        "id": "MSIxu48CWZ2d"
      }
    },
    {
      "cell_type": "code",
      "source": [
        "!gdown --id 1wXnsQUzIaUrNhFMc8evAw_whhnc6nuoE"
      ],
      "metadata": {
        "colab": {
          "base_uri": "https://localhost:8080/"
        },
        "id": "BGWenCUAW0_l",
        "outputId": "ab1b7e71-d6a1-4658-d2ad-7057e0352971"
      },
      "execution_count": null,
      "outputs": [
        {
          "output_type": "stream",
          "name": "stdout",
          "text": [
            "/usr/local/lib/python3.8/dist-packages/gdown/cli.py:121: FutureWarning: Option `--id` was deprecated in version 4.3.1 and will be removed in 5.0. You don't need to pass it anymore to use a file ID.\n",
            "  warnings.warn(\n",
            "Downloading...\n",
            "From: https://drive.google.com/uc?id=1wXnsQUzIaUrNhFMc8evAw_whhnc6nuoE\n",
            "To: /content/ttest1.csv\n",
            "100% 112/112 [00:00<00:00, 174kB/s]\n"
          ]
        }
      ]
    },
    {
      "cell_type": "code",
      "source": [
        "from pyspark.sql import SparkSession"
      ],
      "metadata": {
        "id": "ClBT4LNlT9Pu"
      },
      "execution_count": null,
      "outputs": []
    },
    {
      "cell_type": "code",
      "source": [
        "spark = SparkSession.builder.appName('Dataframe').getOrCreate()"
      ],
      "metadata": {
        "id": "mytG5_lgWgKq"
      },
      "execution_count": null,
      "outputs": []
    },
    {
      "cell_type": "code",
      "source": [
        "spark"
      ],
      "metadata": {
        "colab": {
          "base_uri": "https://localhost:8080/",
          "height": 219
        },
        "id": "rF1cfodOWoEG",
        "outputId": "a0a5f1e1-fcb7-4754-eb02-26546ade1722"
      },
      "execution_count": null,
      "outputs": [
        {
          "output_type": "execute_result",
          "data": {
            "text/plain": [
              "<pyspark.sql.session.SparkSession at 0x7f36345be550>"
            ],
            "text/html": [
              "\n",
              "            <div>\n",
              "                <p><b>SparkSession - in-memory</b></p>\n",
              "                \n",
              "        <div>\n",
              "            <p><b>SparkContext</b></p>\n",
              "\n",
              "            <p><a href=\"http://e3c59449dfcb:4040\">Spark UI</a></p>\n",
              "\n",
              "            <dl>\n",
              "              <dt>Version</dt>\n",
              "                <dd><code>v3.3.2</code></dd>\n",
              "              <dt>Master</dt>\n",
              "                <dd><code>local[*]</code></dd>\n",
              "              <dt>AppName</dt>\n",
              "                <dd><code>Practice</code></dd>\n",
              "            </dl>\n",
              "        </div>\n",
              "        \n",
              "            </div>\n",
              "        "
            ]
          },
          "metadata": {},
          "execution_count": 19
        }
      ]
    },
    {
      "cell_type": "code",
      "source": [
        "#read the dataset\n",
        "df_pyspark = spark.read.option('header','true').csv('/content/ttest1.csv',inferSchema=True)"
      ],
      "metadata": {
        "id": "_Jnufp_gWozw"
      },
      "execution_count": null,
      "outputs": []
    },
    {
      "cell_type": "code",
      "source": [
        "#check the schema means the data type similar like info in pandas\n",
        "df_pyspark.printSchema() \n",
        "# By default it will takes as a string datatype"
      ],
      "metadata": {
        "colab": {
          "base_uri": "https://localhost:8080/"
        },
        "id": "o2YuiGISXCAH",
        "outputId": "0f0a5df6-d0b2-42f2-ac53-b67d4cfab3a3"
      },
      "execution_count": null,
      "outputs": [
        {
          "output_type": "stream",
          "name": "stdout",
          "text": [
            "root\n",
            " |-- Name: string (nullable = true)\n",
            " |-- Age: integer (nullable = true)\n",
            " |-- Experience: integer (nullable = true)\n",
            "\n"
          ]
        }
      ]
    },
    {
      "cell_type": "code",
      "source": [
        "#inferschema will change the data type to requried data type like names to string and age to integer\n",
        "df_pyspark = spark.read.csv('/content/ttest1.csv', header = True,inferSchema = True)\n",
        "df_pyspark.show()"
      ],
      "metadata": {
        "colab": {
          "base_uri": "https://localhost:8080/"
        },
        "id": "vN0knknfXQpT",
        "outputId": "671aefe3-e34c-496a-c82f-b26a68c84912"
      },
      "execution_count": null,
      "outputs": [
        {
          "output_type": "stream",
          "name": "stdout",
          "text": [
            "+-----------+---+----------+\n",
            "|       Name|Age|Experience|\n",
            "+-----------+---+----------+\n",
            "|Ramakrishna| 21|         2|\n",
            "| Saikrishna| 22|        10|\n",
            "|   Abhiram | 21|         5|\n",
            "|    Bharath| 22|         4|\n",
            "|    Praveen| 21|         7|\n",
            "|      Shaik| 22|         9|\n",
            "+-----------+---+----------+\n",
            "\n"
          ]
        }
      ]
    },
    {
      "cell_type": "code",
      "source": [
        "type(df_pyspark)"
      ],
      "metadata": {
        "colab": {
          "base_uri": "https://localhost:8080/"
        },
        "id": "xxeK-EJ7Y9Wa",
        "outputId": "f0880e15-c93b-4736-afa2-dc3a951cc379"
      },
      "execution_count": null,
      "outputs": [
        {
          "output_type": "execute_result",
          "data": {
            "text/plain": [
              "pyspark.sql.dataframe.DataFrame"
            ]
          },
          "metadata": {},
          "execution_count": 23
        }
      ]
    },
    {
      "cell_type": "code",
      "source": [
        "df_pyspark.columns"
      ],
      "metadata": {
        "colab": {
          "base_uri": "https://localhost:8080/"
        },
        "id": "dwtUPtz_ZEC_",
        "outputId": "9c30349b-eb8f-4d6b-ce14-6ed274958c41"
      },
      "execution_count": null,
      "outputs": [
        {
          "output_type": "execute_result",
          "data": {
            "text/plain": [
              "['Name', 'Age', 'Experience']"
            ]
          },
          "metadata": {},
          "execution_count": 24
        }
      ]
    },
    {
      "cell_type": "code",
      "source": [
        "df_pyspark.show()"
      ],
      "metadata": {
        "colab": {
          "base_uri": "https://localhost:8080/"
        },
        "id": "YowtkizuZgDu",
        "outputId": "0fb5befc-4375-4e02-f227-a8231c3bcc3b"
      },
      "execution_count": null,
      "outputs": [
        {
          "output_type": "stream",
          "name": "stdout",
          "text": [
            "+-----------+---+----------+\n",
            "|       Name|Age|Experience|\n",
            "+-----------+---+----------+\n",
            "|Ramakrishna| 21|         2|\n",
            "| Saikrishna| 22|        10|\n",
            "|   Abhiram | 21|         5|\n",
            "|    Bharath| 22|         4|\n",
            "|    Praveen| 21|         7|\n",
            "|      Shaik| 22|         9|\n",
            "+-----------+---+----------+\n",
            "\n"
          ]
        }
      ]
    },
    {
      "cell_type": "code",
      "source": [
        "#selecting particular column\n",
        "df_pyspark.select('Name').show()"
      ],
      "metadata": {
        "colab": {
          "base_uri": "https://localhost:8080/"
        },
        "id": "BrH9C1gMZybL",
        "outputId": "af9d7ce0-7342-4e59-836b-1585a72a4b13"
      },
      "execution_count": null,
      "outputs": [
        {
          "output_type": "stream",
          "name": "stdout",
          "text": [
            "+-----------+\n",
            "|       Name|\n",
            "+-----------+\n",
            "|Ramakrishna|\n",
            "| Saikrishna|\n",
            "|   Abhiram |\n",
            "|    Bharath|\n",
            "|    Praveen|\n",
            "|      Shaik|\n",
            "+-----------+\n",
            "\n"
          ]
        }
      ]
    },
    {
      "cell_type": "code",
      "source": [
        "#selecing multiple column\n",
        "df_pyspark.select(['Name','Experience']).show()"
      ],
      "metadata": {
        "colab": {
          "base_uri": "https://localhost:8080/"
        },
        "id": "xnukgFqZZ-dV",
        "outputId": "b77d8b55-54f5-42b1-f5e5-71a34b316ca1"
      },
      "execution_count": null,
      "outputs": [
        {
          "output_type": "stream",
          "name": "stdout",
          "text": [
            "+-----------+----------+\n",
            "|       Name|Experience|\n",
            "+-----------+----------+\n",
            "|Ramakrishna|         2|\n",
            "| Saikrishna|        10|\n",
            "|   Abhiram |         5|\n",
            "|    Bharath|         4|\n",
            "|    Praveen|         7|\n",
            "|      Shaik|         9|\n",
            "+-----------+----------+\n",
            "\n"
          ]
        }
      ]
    },
    {
      "cell_type": "code",
      "source": [
        "df_pyspark['Name']"
      ],
      "metadata": {
        "colab": {
          "base_uri": "https://localhost:8080/"
        },
        "id": "pan15UNlabyH",
        "outputId": "fe92f75d-f10c-4387-f3ff-88497521181e"
      },
      "execution_count": null,
      "outputs": [
        {
          "output_type": "execute_result",
          "data": {
            "text/plain": [
              "Column<'Name'>"
            ]
          },
          "metadata": {},
          "execution_count": 28
        }
      ]
    },
    {
      "cell_type": "code",
      "source": [
        "df_pyspark.dtypes"
      ],
      "metadata": {
        "colab": {
          "base_uri": "https://localhost:8080/"
        },
        "id": "XlzXMv3HalfZ",
        "outputId": "9cea36b0-994b-4d90-ffcb-41b950cf509e"
      },
      "execution_count": null,
      "outputs": [
        {
          "output_type": "execute_result",
          "data": {
            "text/plain": [
              "[('Name', 'string'), ('Age', 'int'), ('Experience', 'int')]"
            ]
          },
          "metadata": {},
          "execution_count": 29
        }
      ]
    },
    {
      "cell_type": "code",
      "source": [
        "df_pyspark.describe().show()"
      ],
      "metadata": {
        "colab": {
          "base_uri": "https://localhost:8080/"
        },
        "id": "2y0c7PFdau4y",
        "outputId": "77dedb5f-713b-45a5-cb23-11d53d13c462"
      },
      "execution_count": null,
      "outputs": [
        {
          "output_type": "stream",
          "name": "stdout",
          "text": [
            "+-------+--------+------------------+------------------+\n",
            "|summary|    Name|               Age|        Experience|\n",
            "+-------+--------+------------------+------------------+\n",
            "|  count|       6|                 6|                 6|\n",
            "|   mean|    null|              21.5| 6.166666666666667|\n",
            "| stddev|    null|0.5477225575051666|3.0605010483034745|\n",
            "|    min|Abhiram |                21|                 2|\n",
            "|    max|   Shaik|                22|                10|\n",
            "+-------+--------+------------------+------------------+\n",
            "\n"
          ]
        }
      ]
    },
    {
      "cell_type": "code",
      "source": [
        "#adding columns in data frame\n",
        "df_pyspark = df_pyspark.withColumn(\"EXperience After 2 years\",df_pyspark['Experience']+ 2)"
      ],
      "metadata": {
        "id": "pJ_ljYY7ayJr"
      },
      "execution_count": null,
      "outputs": []
    },
    {
      "cell_type": "code",
      "source": [
        "df_pyspark.show()"
      ],
      "metadata": {
        "colab": {
          "base_uri": "https://localhost:8080/"
        },
        "id": "QDv_gW9HbU8H",
        "outputId": "4fb3e7ce-21f1-47e7-d527-b14b578abb2c"
      },
      "execution_count": null,
      "outputs": [
        {
          "output_type": "stream",
          "name": "stdout",
          "text": [
            "+-----------+---+----------+------------------------+\n",
            "|       Name|Age|Experience|EXperience After 2 years|\n",
            "+-----------+---+----------+------------------------+\n",
            "|Ramakrishna| 21|         2|                       4|\n",
            "| Saikrishna| 22|        10|                      12|\n",
            "|   Abhiram | 21|         5|                       7|\n",
            "|    Bharath| 22|         4|                       6|\n",
            "|    Praveen| 21|         7|                       9|\n",
            "|      Shaik| 22|         9|                      11|\n",
            "+-----------+---+----------+------------------------+\n",
            "\n"
          ]
        }
      ]
    },
    {
      "cell_type": "code",
      "source": [
        "#dropping the column\n",
        "df_pyspark = df_pyspark.drop('EXperience After 2 years')"
      ],
      "metadata": {
        "id": "feItNf1dbd6I"
      },
      "execution_count": null,
      "outputs": []
    },
    {
      "cell_type": "code",
      "source": [
        "df_pyspark.show()"
      ],
      "metadata": {
        "colab": {
          "base_uri": "https://localhost:8080/"
        },
        "id": "7OxTDT1QcGC9",
        "outputId": "f8f43c3f-5140-4040-8525-612793268e1f"
      },
      "execution_count": null,
      "outputs": [
        {
          "output_type": "stream",
          "name": "stdout",
          "text": [
            "+-----------+---+----------+\n",
            "|       Name|Age|Experience|\n",
            "+-----------+---+----------+\n",
            "|Ramakrishna| 21|         2|\n",
            "| Saikrishna| 22|        10|\n",
            "|   Abhiram | 21|         5|\n",
            "|    Bharath| 22|         4|\n",
            "|    Praveen| 21|         7|\n",
            "|      Shaik| 22|         9|\n",
            "+-----------+---+----------+\n",
            "\n"
          ]
        }
      ]
    },
    {
      "cell_type": "code",
      "source": [
        "#renaming the columns\n",
        "df_pyspark.withColumnRenamed('Name','New Name').show()"
      ],
      "metadata": {
        "colab": {
          "base_uri": "https://localhost:8080/"
        },
        "id": "6fd2kb9-cwr_",
        "outputId": "00729ddd-ccc8-4ab3-f9be-bafbaf9945f9"
      },
      "execution_count": null,
      "outputs": [
        {
          "output_type": "stream",
          "name": "stdout",
          "text": [
            "+-----------+---+----------+\n",
            "|   New Name|Age|Experience|\n",
            "+-----------+---+----------+\n",
            "|Ramakrishna| 21|         2|\n",
            "| Saikrishna| 22|        10|\n",
            "|   Abhiram | 21|         5|\n",
            "|    Bharath| 22|         4|\n",
            "|    Praveen| 21|         7|\n",
            "|      Shaik| 22|         9|\n",
            "+-----------+---+----------+\n",
            "\n"
          ]
        }
      ]
    },
    {
      "cell_type": "markdown",
      "source": [
        "**DAY 3**"
      ],
      "metadata": {
        "id": "guQ7q7kYdjvO"
      }
    },
    {
      "cell_type": "markdown",
      "source": [
        "**PySpark Handling Missing Values**\n",
        "\n",
        "**- Dropping Columns**\n",
        "\n",
        "**- Dropping Rows**\n",
        "\n",
        "**- Various Parameter in Dropping Functionalities**\n",
        "\n",
        "**- Handling missing values by mean, median, and mode**"
      ],
      "metadata": {
        "id": "-if3_8_LdSrl"
      }
    },
    {
      "cell_type": "code",
      "source": [
        "from pyspark.sql import SparkSession\n",
        "spark = SparkSession.builder.appName('Practice1').getOrCreate()"
      ],
      "metadata": {
        "id": "xc-6qE1Sc7Pj"
      },
      "execution_count": null,
      "outputs": []
    },
    {
      "cell_type": "code",
      "source": [
        "!gdown --id 1F4EobzrYKBGHGFywpSnN6abDdgtGudKl"
      ],
      "metadata": {
        "colab": {
          "base_uri": "https://localhost:8080/"
        },
        "id": "qKc7T_rUfHTU",
        "outputId": "fc56fd47-d9db-4306-dcfe-bdfa5c6737e8"
      },
      "execution_count": null,
      "outputs": [
        {
          "output_type": "stream",
          "name": "stdout",
          "text": [
            "/usr/local/lib/python3.8/dist-packages/gdown/cli.py:121: FutureWarning: Option `--id` was deprecated in version 4.3.1 and will be removed in 5.0. You don't need to pass it anymore to use a file ID.\n",
            "  warnings.warn(\n",
            "Downloading...\n",
            "From: https://drive.google.com/uc?id=1F4EobzrYKBGHGFywpSnN6abDdgtGudKl\n",
            "To: /content/Handling_Missing_test1.csv\n",
            "100% 191/191 [00:00<00:00, 271kB/s]\n"
          ]
        }
      ]
    },
    {
      "cell_type": "code",
      "source": [
        "df_pyspark = spark.read.csv('/content/Handling_Missing_test1.csv',header = True,inferSchema = True)"
      ],
      "metadata": {
        "id": "dnd334YYeGfF"
      },
      "execution_count": null,
      "outputs": []
    },
    {
      "cell_type": "code",
      "source": [
        "df_pyspark.show()"
      ],
      "metadata": {
        "colab": {
          "base_uri": "https://localhost:8080/"
        },
        "id": "7mNgqCuFfD6-",
        "outputId": "98153f76-e599-4157-dc93-a0b51c18555b"
      },
      "execution_count": null,
      "outputs": [
        {
          "output_type": "stream",
          "name": "stdout",
          "text": [
            "+-----------+----+----------+------+\n",
            "|       Name| Age|Experience|Salary|\n",
            "+-----------+----+----------+------+\n",
            "|Ramakrishna|  21|         2| 30000|\n",
            "| Saikrishna|  22|        10| 50000|\n",
            "|   Abhiram |  21|         5| 45000|\n",
            "|    Bharath|  22|         4| 12000|\n",
            "|    Praveen|  21|         7| 29000|\n",
            "|      Shaik|  22|         9| 60000|\n",
            "|      Rohti|null|      null| 54000|\n",
            "|       null|  45|        10| 15000|\n",
            "|       null|  36|      null|  null|\n",
            "+-----------+----+----------+------+\n",
            "\n"
          ]
        }
      ]
    },
    {
      "cell_type": "code",
      "source": [
        "#dropping null values \n",
        "#if we didn't give any condition in drop then it will remove whole row which contains the null value\n",
        "df_pyspark.na.drop().show()\n",
        "\n",
        "#how, thresh and subset are the parameters of drop()"
      ],
      "metadata": {
        "colab": {
          "base_uri": "https://localhost:8080/"
        },
        "id": "SOh16pB8fkn7",
        "outputId": "ab2a9a1d-3309-4d20-a1b0-02804292ad3a"
      },
      "execution_count": null,
      "outputs": [
        {
          "output_type": "stream",
          "name": "stdout",
          "text": [
            "+-----------+---+----------+------+\n",
            "|       Name|Age|Experience|Salary|\n",
            "+-----------+---+----------+------+\n",
            "|Ramakrishna| 21|         2| 30000|\n",
            "| Saikrishna| 22|        10| 50000|\n",
            "|   Abhiram | 21|         5| 45000|\n",
            "|    Bharath| 22|         4| 12000|\n",
            "|    Praveen| 21|         7| 29000|\n",
            "|      Shaik| 22|         9| 60000|\n",
            "+-----------+---+----------+------+\n",
            "\n"
          ]
        }
      ]
    },
    {
      "cell_type": "code",
      "source": [
        "#(any  == how ) in drop function\n",
        "#if how = all remove only the rows when the whole row contains the null value\n",
        "#by default how = any\n",
        "#f how  = any it removes all the rows which contains the null value\n",
        "df_pyspark.na.drop(how = 'all').show()"
      ],
      "metadata": {
        "colab": {
          "base_uri": "https://localhost:8080/"
        },
        "id": "WGTgjExgfxIQ",
        "outputId": "2e1d6a85-e0ac-4591-da95-841650a506f7"
      },
      "execution_count": null,
      "outputs": [
        {
          "output_type": "stream",
          "name": "stdout",
          "text": [
            "+-----------+----+----------+------+\n",
            "|       Name| Age|Experience|Salary|\n",
            "+-----------+----+----------+------+\n",
            "|Ramakrishna|  21|         2| 30000|\n",
            "| Saikrishna|  22|        10| 50000|\n",
            "|   Abhiram |  21|         5| 45000|\n",
            "|    Bharath|  22|         4| 12000|\n",
            "|    Praveen|  21|         7| 29000|\n",
            "|      Shaik|  22|         9| 60000|\n",
            "|      Rohti|null|      null| 54000|\n",
            "|       null|  45|        10| 15000|\n",
            "|       null|  36|      null|  null|\n",
            "+-----------+----+----------+------+\n",
            "\n"
          ]
        }
      ]
    },
    {
      "cell_type": "code",
      "source": [
        "#threshold\n",
        "#thresh = 2 means atleast 2 non-null values will be present in the row\n",
        "#so the last row the deleted\n",
        "df_pyspark.na.drop(how = 'any',thresh = 2).show()"
      ],
      "metadata": {
        "colab": {
          "base_uri": "https://localhost:8080/"
        },
        "id": "FB87MsGagBUd",
        "outputId": "454a9836-da88-4fe3-be3c-d58437c80491"
      },
      "execution_count": null,
      "outputs": [
        {
          "output_type": "stream",
          "name": "stdout",
          "text": [
            "+-----------+----+----------+------+\n",
            "|       Name| Age|Experience|Salary|\n",
            "+-----------+----+----------+------+\n",
            "|Ramakrishna|  21|         2| 30000|\n",
            "| Saikrishna|  22|        10| 50000|\n",
            "|   Abhiram |  21|         5| 45000|\n",
            "|    Bharath|  22|         4| 12000|\n",
            "|    Praveen|  21|         7| 29000|\n",
            "|      Shaik|  22|         9| 60000|\n",
            "|      Rohti|null|      null| 54000|\n",
            "|       null|  45|        10| 15000|\n",
            "+-----------+----+----------+------+\n",
            "\n"
          ]
        }
      ]
    },
    {
      "cell_type": "code",
      "source": [
        "#subset\n",
        "# if we want to remove only the null values from a specific column then we use subset\n",
        "df_pyspark.na.drop(how = 'any',subset = ['Experience']).show()"
      ],
      "metadata": {
        "colab": {
          "base_uri": "https://localhost:8080/"
        },
        "id": "lfX0zJz2g3i2",
        "outputId": "1114dee4-2c79-43e2-8049-8812b831c960"
      },
      "execution_count": null,
      "outputs": [
        {
          "output_type": "stream",
          "name": "stdout",
          "text": [
            "+-----------+---+----------+------+\n",
            "|       Name|Age|Experience|Salary|\n",
            "+-----------+---+----------+------+\n",
            "|Ramakrishna| 21|         2| 30000|\n",
            "| Saikrishna| 22|        10| 50000|\n",
            "|   Abhiram | 21|         5| 45000|\n",
            "|    Bharath| 22|         4| 12000|\n",
            "|    Praveen| 21|         7| 29000|\n",
            "|      Shaik| 22|         9| 60000|\n",
            "|       null| 45|        10| 15000|\n",
            "+-----------+---+----------+------+\n",
            "\n"
          ]
        }
      ]
    },
    {
      "cell_type": "code",
      "source": [
        "###FILLING THE MISSING VALUE\n",
        "df_pyspark.na.fill('Missing Values',['Experience','Age','Name']).show()"
      ],
      "metadata": {
        "colab": {
          "base_uri": "https://localhost:8080/"
        },
        "id": "doGs_riqhduw",
        "outputId": "0b2d6b6f-6a9d-400d-bcdb-4f71b767dadf"
      },
      "execution_count": null,
      "outputs": [
        {
          "output_type": "stream",
          "name": "stdout",
          "text": [
            "+--------------+----+----------+------+\n",
            "|          Name| Age|Experience|Salary|\n",
            "+--------------+----+----------+------+\n",
            "|   Ramakrishna|  21|         2| 30000|\n",
            "|    Saikrishna|  22|        10| 50000|\n",
            "|      Abhiram |  21|         5| 45000|\n",
            "|       Bharath|  22|         4| 12000|\n",
            "|       Praveen|  21|         7| 29000|\n",
            "|         Shaik|  22|         9| 60000|\n",
            "|         Rohti|null|      null| 54000|\n",
            "|Missing Values|  45|        10| 15000|\n",
            "|Missing Values|  36|      null|  null|\n",
            "+--------------+----+----------+------+\n",
            "\n"
          ]
        }
      ]
    },
    {
      "cell_type": "code",
      "source": [
        "df_pyspark"
      ],
      "metadata": {
        "colab": {
          "base_uri": "https://localhost:8080/"
        },
        "id": "XWDF2dzAiA96",
        "outputId": "1e53091a-fda6-47b0-bf8b-3085d7af6a99"
      },
      "execution_count": null,
      "outputs": [
        {
          "output_type": "execute_result",
          "data": {
            "text/plain": [
              "DataFrame[Name: string, Age: int, Experience: int, Salary: int]"
            ]
          },
          "metadata": {},
          "execution_count": 45
        }
      ]
    },
    {
      "cell_type": "code",
      "source": [
        "df_pyspark.show()"
      ],
      "metadata": {
        "colab": {
          "base_uri": "https://localhost:8080/"
        },
        "id": "qZ1jK_JbXrPn",
        "outputId": "267d9d5d-4363-43b2-f763-57c6204b889d"
      },
      "execution_count": null,
      "outputs": [
        {
          "output_type": "stream",
          "name": "stdout",
          "text": [
            "+-----------+----+----------+------+\n",
            "|       Name| Age|Experience|Salary|\n",
            "+-----------+----+----------+------+\n",
            "|Ramakrishna|  21|         2| 30000|\n",
            "| Saikrishna|  22|        10| 50000|\n",
            "|   Abhiram |  21|         5| 45000|\n",
            "|    Bharath|  22|         4| 12000|\n",
            "|    Praveen|  21|         7| 29000|\n",
            "|      Shaik|  22|         9| 60000|\n",
            "|      Rohti|null|      null| 54000|\n",
            "|       null|  45|        10| 15000|\n",
            "|       null|  36|      null|  null|\n",
            "+-----------+----+----------+------+\n",
            "\n"
          ]
        }
      ]
    },
    {
      "cell_type": "code",
      "source": [
        "pip install findspark"
      ],
      "metadata": {
        "colab": {
          "base_uri": "https://localhost:8080/"
        },
        "id": "3UOaFy3bYKeY",
        "outputId": "1f839484-4d84-4b20-e466-812314904842"
      },
      "execution_count": null,
      "outputs": [
        {
          "output_type": "stream",
          "name": "stdout",
          "text": [
            "Looking in indexes: https://pypi.org/simple, https://us-python.pkg.dev/colab-wheels/public/simple/\n",
            "Collecting findspark\n",
            "  Downloading findspark-2.0.1-py2.py3-none-any.whl (4.4 kB)\n",
            "Installing collected packages: findspark\n",
            "Successfully installed findspark-2.0.1\n"
          ]
        }
      ]
    },
    {
      "cell_type": "code",
      "source": [
        "import findspark\n",
        "findspark.init()"
      ],
      "metadata": {
        "id": "OdVUuNMykEOG"
      },
      "execution_count": null,
      "outputs": []
    },
    {
      "cell_type": "code",
      "source": [
        "from pyspark.ml.feature import Imputer "
      ],
      "metadata": {
        "id": "SNAxH46jZVVO"
      },
      "execution_count": null,
      "outputs": []
    },
    {
      "cell_type": "code",
      "source": [
        "imputer = Imputer(\n",
        "    inputCols = ['Age','Experience','Salary'],\n",
        "    outputCols = ['{}_imputed'.format(c) for c in ['Age', 'Experience','Salary']]\n",
        "    ).setStrategy(\"median\")"
      ],
      "metadata": {
        "id": "fOALvq7hZg6J"
      },
      "execution_count": null,
      "outputs": []
    },
    {
      "cell_type": "code",
      "source": [
        "#add imputation cols to df\n",
        "imputer.fit(df_pyspark).transform(df_pyspark).show()"
      ],
      "metadata": {
        "colab": {
          "base_uri": "https://localhost:8080/"
        },
        "id": "a208-V04ahc8",
        "outputId": "9da6dcc6-152a-4ad0-eaf4-c91c024f9ae5"
      },
      "execution_count": null,
      "outputs": [
        {
          "output_type": "stream",
          "name": "stdout",
          "text": [
            "+-----------+----+----------+------+-----------+------------------+--------------+\n",
            "|       Name| Age|Experience|Salary|Age_imputed|Experience_imputed|Salary_imputed|\n",
            "+-----------+----+----------+------+-----------+------------------+--------------+\n",
            "|Ramakrishna|  21|         2| 30000|         21|                 2|         30000|\n",
            "| Saikrishna|  22|        10| 50000|         22|                10|         50000|\n",
            "|   Abhiram |  21|         5| 45000|         21|                 5|         45000|\n",
            "|    Bharath|  22|         4| 12000|         22|                 4|         12000|\n",
            "|    Praveen|  21|         7| 29000|         21|                 7|         29000|\n",
            "|      Shaik|  22|         9| 60000|         22|                 9|         60000|\n",
            "|      Rohti|null|      null| 54000|         22|                 7|         54000|\n",
            "|       null|  45|        10| 15000|         45|                10|         15000|\n",
            "|       null|  36|      null|  null|         36|                 7|         30000|\n",
            "+-----------+----+----------+------+-----------+------------------+--------------+\n",
            "\n"
          ]
        }
      ]
    },
    {
      "cell_type": "markdown",
      "source": [
        "**PySpark Dataframes**\n",
        "\n",
        "**Filter Operation**\n",
        "\n",
        "**&,||,==**\n",
        "\n",
        "**~**"
      ],
      "metadata": {
        "id": "c_O91i5FbTZ0"
      }
    },
    {
      "cell_type": "code",
      "source": [
        "from pyspark.sql import SparkSession"
      ],
      "metadata": {
        "id": "o6B8Fk2vasCw"
      },
      "execution_count": null,
      "outputs": []
    },
    {
      "cell_type": "code",
      "source": [
        " spark = SparkSession.builder.appName('dataframe').getOrCreate()"
      ],
      "metadata": {
        "id": "YBEtrdcJbkrO"
      },
      "execution_count": null,
      "outputs": []
    },
    {
      "cell_type": "code",
      "source": [
        "df_pyspark = spark.read.csv('/content/Handling_Missing_test1.csv',header = True,inferSchema = True)"
      ],
      "metadata": {
        "id": "U3jsV-cBbvJS"
      },
      "execution_count": null,
      "outputs": []
    },
    {
      "cell_type": "code",
      "source": [
        "df_pyspark.show()"
      ],
      "metadata": {
        "colab": {
          "base_uri": "https://localhost:8080/"
        },
        "id": "r9gYRwV3b79w",
        "outputId": "b023c3e9-1123-45fe-b1c1-6f198d261890"
      },
      "execution_count": null,
      "outputs": [
        {
          "output_type": "stream",
          "name": "stdout",
          "text": [
            "+-----------+----+----------+------+\n",
            "|       Name| Age|Experience|Salary|\n",
            "+-----------+----+----------+------+\n",
            "|Ramakrishna|  21|         2| 30000|\n",
            "| Saikrishna|  22|        10| 50000|\n",
            "|   Abhiram |  21|         5| 45000|\n",
            "|    Bharath|  22|         4| 12000|\n",
            "|    Praveen|  21|         7| 29000|\n",
            "|      Shaik|  22|         9| 60000|\n",
            "|      Rohti|null|      null| 54000|\n",
            "|       null|  45|        10| 15000|\n",
            "|       null|  36|      null|  null|\n",
            "+-----------+----+----------+------+\n",
            "\n"
          ]
        }
      ]
    },
    {
      "cell_type": "code",
      "source": [
        "df_pyspark = df_pyspark.na.drop()"
      ],
      "metadata": {
        "id": "S2ietkCHb9z2"
      },
      "execution_count": null,
      "outputs": []
    },
    {
      "cell_type": "code",
      "source": [
        "df_pyspark.show()"
      ],
      "metadata": {
        "colab": {
          "base_uri": "https://localhost:8080/"
        },
        "id": "ELc9UNMecIqR",
        "outputId": "d89ef9ed-8324-4689-d861-b52f5ac6595c"
      },
      "execution_count": null,
      "outputs": [
        {
          "output_type": "stream",
          "name": "stdout",
          "text": [
            "+-----------+---+----------+------+\n",
            "|       Name|Age|Experience|Salary|\n",
            "+-----------+---+----------+------+\n",
            "|Ramakrishna| 21|         2| 30000|\n",
            "| Saikrishna| 22|        10| 50000|\n",
            "|   Abhiram | 21|         5| 45000|\n",
            "|    Bharath| 22|         4| 12000|\n",
            "|    Praveen| 21|         7| 29000|\n",
            "|      Shaik| 22|         9| 60000|\n",
            "+-----------+---+----------+------+\n",
            "\n"
          ]
        }
      ]
    },
    {
      "cell_type": "markdown",
      "source": [
        "**Filter Operations**"
      ],
      "metadata": {
        "id": "yLDorOJDcSAr"
      }
    },
    {
      "cell_type": "code",
      "source": [
        "#salary of the people less than or equal to 20000\n",
        "df_pyspark.filter('Salary<=20000').show()"
      ],
      "metadata": {
        "colab": {
          "base_uri": "https://localhost:8080/"
        },
        "id": "g4rmBM5QcLgL",
        "outputId": "3929822a-04c3-4818-ad8f-3d397ae06a44"
      },
      "execution_count": null,
      "outputs": [
        {
          "output_type": "stream",
          "name": "stdout",
          "text": [
            "+-------+---+----------+------+\n",
            "|   Name|Age|Experience|Salary|\n",
            "+-------+---+----------+------+\n",
            "|Bharath| 22|         4| 12000|\n",
            "+-------+---+----------+------+\n",
            "\n"
          ]
        }
      ]
    },
    {
      "cell_type": "code",
      "source": [
        "df_pyspark.filter('Salary<=20000').select([\"Name\",\"Age\"]).show()"
      ],
      "metadata": {
        "colab": {
          "base_uri": "https://localhost:8080/"
        },
        "id": "eAl09rBxcfEV",
        "outputId": "8628617a-8460-4cc9-fb07-ee9831df9e44"
      },
      "execution_count": null,
      "outputs": [
        {
          "output_type": "stream",
          "name": "stdout",
          "text": [
            "+-------+---+\n",
            "|   Name|Age|\n",
            "+-------+---+\n",
            "|Bharath| 22|\n",
            "+-------+---+\n",
            "\n"
          ]
        }
      ]
    },
    {
      "cell_type": "code",
      "source": [
        "df_pyspark.filter((df_pyspark['Salary']<= 20000) &\n",
        "                  (df_pyspark['Salary']>=10000)).show()"
      ],
      "metadata": {
        "colab": {
          "base_uri": "https://localhost:8080/"
        },
        "id": "qKfh6tvJc1dl",
        "outputId": "5bed1b4e-156f-48e5-d59c-1e43d8493714"
      },
      "execution_count": null,
      "outputs": [
        {
          "output_type": "stream",
          "name": "stdout",
          "text": [
            "+-------+---+----------+------+\n",
            "|   Name|Age|Experience|Salary|\n",
            "+-------+---+----------+------+\n",
            "|Bharath| 22|         4| 12000|\n",
            "+-------+---+----------+------+\n",
            "\n"
          ]
        }
      ]
    },
    {
      "cell_type": "code",
      "source": [
        "#printing salary which are greater than 20k using not(~) operator\n",
        "df_pyspark.filter(~(df_pyspark['Salary']<=20000)).show()"
      ],
      "metadata": {
        "colab": {
          "base_uri": "https://localhost:8080/"
        },
        "id": "KElzJNyYdT3Q",
        "outputId": "d16cc1b2-2adc-4787-e7ed-14c69be43494"
      },
      "execution_count": null,
      "outputs": [
        {
          "output_type": "stream",
          "name": "stdout",
          "text": [
            "+-----------+---+----------+------+\n",
            "|       Name|Age|Experience|Salary|\n",
            "+-----------+---+----------+------+\n",
            "|Ramakrishna| 21|         2| 30000|\n",
            "| Saikrishna| 22|        10| 50000|\n",
            "|   Abhiram | 21|         5| 45000|\n",
            "|    Praveen| 21|         7| 29000|\n",
            "|      Shaik| 22|         9| 60000|\n",
            "+-----------+---+----------+------+\n",
            "\n"
          ]
        }
      ]
    },
    {
      "cell_type": "markdown",
      "source": [
        "**PySpark GroupBy And Aggregate Functions**"
      ],
      "metadata": {
        "id": "y84Uvj-iedMA"
      }
    },
    {
      "cell_type": "code",
      "source": [
        "from pyspark.sql import SparkSession"
      ],
      "metadata": {
        "id": "chkASAboft2k"
      },
      "execution_count": null,
      "outputs": []
    },
    {
      "cell_type": "code",
      "source": [
        "spark = SparkSession.builder.appName('Agg').getOrCreate()"
      ],
      "metadata": {
        "id": "ZyJ_j4wtftk-"
      },
      "execution_count": null,
      "outputs": []
    },
    {
      "cell_type": "code",
      "source": [
        "!gdown --id 1NFLJaMkhqU1ryyUa74nfNSXCxVgYguMj"
      ],
      "metadata": {
        "colab": {
          "base_uri": "https://localhost:8080/"
        },
        "id": "dVmpatWPeMlz",
        "outputId": "d1573d5b-a487-48a7-df7b-c394fa71eaf0"
      },
      "execution_count": null,
      "outputs": [
        {
          "output_type": "stream",
          "name": "stdout",
          "text": [
            "/usr/local/lib/python3.8/dist-packages/gdown/cli.py:121: FutureWarning: Option `--id` was deprecated in version 4.3.1 and will be removed in 5.0. You don't need to pass it anymore to use a file ID.\n",
            "  warnings.warn(\n",
            "Downloading...\n",
            "From: https://drive.google.com/uc?id=1NFLJaMkhqU1ryyUa74nfNSXCxVgYguMj\n",
            "To: /content/test2.csv\n",
            "100% 278/278 [00:00<00:00, 369kB/s]\n"
          ]
        }
      ]
    },
    {
      "cell_type": "code",
      "source": [
        "df_pyspark = spark.read.csv('/content/test2.csv',header = True,inferSchema = True)"
      ],
      "metadata": {
        "id": "dZcaUtUGfqsv"
      },
      "execution_count": null,
      "outputs": []
    },
    {
      "cell_type": "code",
      "source": [
        "df_pyspark.show()"
      ],
      "metadata": {
        "colab": {
          "base_uri": "https://localhost:8080/"
        },
        "id": "0OdQ32J7gD2w",
        "outputId": "12af8e60-4ecd-49f8-844d-947a674e77bf"
      },
      "execution_count": null,
      "outputs": [
        {
          "output_type": "stream",
          "name": "stdout",
          "text": [
            "+-----------+------------+------+\n",
            "|       Name|  Department|Salary|\n",
            "+-----------+------------+------+\n",
            "|Ramakrishna|Data Science| 10000|\n",
            "|Ramakrishna|         IOT|  5000|\n",
            "|     Bharat|    Big Data|  4000|\n",
            "|Ramakrishna|    Big Data|  4000|\n",
            "|     Mahesh|Data Science|  3000|\n",
            "|  Sudhanshu|Data Science| 20000|\n",
            "|  Sudhanshu|         IOT| 10000|\n",
            "|  Sudhanshu|    Big Data|  5000|\n",
            "|     Sunny |Data Science| 10000|\n",
            "|     Sunny |    Big Data|  2000|\n",
            "+-----------+------------+------+\n",
            "\n"
          ]
        }
      ]
    },
    {
      "cell_type": "code",
      "source": [
        "df_pyspark"
      ],
      "metadata": {
        "colab": {
          "base_uri": "https://localhost:8080/"
        },
        "id": "EHNGAYjAgHpZ",
        "outputId": "afdf7329-6fa3-410b-e468-03e0fbcc943c"
      },
      "execution_count": null,
      "outputs": [
        {
          "output_type": "execute_result",
          "data": {
            "text/plain": [
              "DataFrame[Name: string, Department: string, Salary: int]"
            ]
          },
          "metadata": {},
          "execution_count": 98
        }
      ]
    },
    {
      "cell_type": "code",
      "source": [
        "#group by \n",
        "# Grouped to find the max salary\n",
        "df_pyspark.groupBy('Name').sum().show()"
      ],
      "metadata": {
        "colab": {
          "base_uri": "https://localhost:8080/"
        },
        "id": "x0wQNdeOgMgF",
        "outputId": "6c96aa29-823e-49d3-8743-8457f2e2789b"
      },
      "execution_count": null,
      "outputs": [
        {
          "output_type": "stream",
          "name": "stdout",
          "text": [
            "+-----------+-----------+\n",
            "|       Name|sum(Salary)|\n",
            "+-----------+-----------+\n",
            "|  Sudhanshu|      35000|\n",
            "|Ramakrishna|      19000|\n",
            "|     Sunny |      12000|\n",
            "|     Bharat|       4000|\n",
            "|     Mahesh|       3000|\n",
            "+-----------+-----------+\n",
            "\n"
          ]
        }
      ]
    },
    {
      "cell_type": "code",
      "source": [
        "# Groupby Department which gives max salary\n",
        "df_pyspark.groupBy('Department').sum().show()"
      ],
      "metadata": {
        "colab": {
          "base_uri": "https://localhost:8080/"
        },
        "id": "spa88dlpgUXn",
        "outputId": "68f45694-dc7b-45d9-da1e-12b6737e312a"
      },
      "execution_count": null,
      "outputs": [
        {
          "output_type": "stream",
          "name": "stdout",
          "text": [
            "+------------+-----------+\n",
            "|  Department|sum(Salary)|\n",
            "+------------+-----------+\n",
            "|         IOT|      15000|\n",
            "|    Big Data|      15000|\n",
            "|Data Science|      43000|\n",
            "+------------+-----------+\n",
            "\n"
          ]
        }
      ]
    },
    {
      "cell_type": "code",
      "source": [
        "df_pyspark.groupBy('Department').mean().show()"
      ],
      "metadata": {
        "colab": {
          "base_uri": "https://localhost:8080/"
        },
        "id": "KuEsn6_phtv5",
        "outputId": "789b7b8e-a28c-4988-cd97-4e27f372ec61"
      },
      "execution_count": null,
      "outputs": [
        {
          "output_type": "stream",
          "name": "stdout",
          "text": [
            "+------------+-----------+\n",
            "|  Department|avg(Salary)|\n",
            "+------------+-----------+\n",
            "|         IOT|     7500.0|\n",
            "|    Big Data|     3750.0|\n",
            "|Data Science|    10750.0|\n",
            "+------------+-----------+\n",
            "\n"
          ]
        }
      ]
    },
    {
      "cell_type": "code",
      "source": [
        "df_pyspark.groupBy('Department').count().show()"
      ],
      "metadata": {
        "colab": {
          "base_uri": "https://localhost:8080/"
        },
        "id": "RRDSbju0h4ui",
        "outputId": "3a00fda3-f0ed-415c-80e8-5d26ce5c42f2"
      },
      "execution_count": null,
      "outputs": [
        {
          "output_type": "stream",
          "name": "stdout",
          "text": [
            "+------------+-----+\n",
            "|  Department|count|\n",
            "+------------+-----+\n",
            "|         IOT|    2|\n",
            "|    Big Data|    4|\n",
            "|Data Science|    4|\n",
            "+------------+-----+\n",
            "\n"
          ]
        }
      ]
    },
    {
      "cell_type": "code",
      "source": [
        "df_pyspark.agg({'Salary':'sum'}).show()"
      ],
      "metadata": {
        "colab": {
          "base_uri": "https://localhost:8080/"
        },
        "id": "TT9XehrJiBkp",
        "outputId": "978c457f-7c7f-463d-daf0-eb6a4f3ddba8"
      },
      "execution_count": null,
      "outputs": [
        {
          "output_type": "stream",
          "name": "stdout",
          "text": [
            "+-----------+\n",
            "|sum(Salary)|\n",
            "+-----------+\n",
            "|      73000|\n",
            "+-----------+\n",
            "\n"
          ]
        }
      ]
    },
    {
      "cell_type": "code",
      "source": [
        "#finding out the max salary with respect to name \n",
        "df_pyspark.groupBy('Name').max().show()"
      ],
      "metadata": {
        "colab": {
          "base_uri": "https://localhost:8080/"
        },
        "id": "bgjnyoLciO8-",
        "outputId": "ab830cc5-cc07-4482-f1a3-ba08acd070b5"
      },
      "execution_count": null,
      "outputs": [
        {
          "output_type": "stream",
          "name": "stdout",
          "text": [
            "+-----------+-----------+\n",
            "|       Name|max(Salary)|\n",
            "+-----------+-----------+\n",
            "|  Sudhanshu|      20000|\n",
            "|Ramakrishna|      10000|\n",
            "|     Sunny |      10000|\n",
            "|     Bharat|       4000|\n",
            "|     Mahesh|       3000|\n",
            "+-----------+-----------+\n",
            "\n"
          ]
        }
      ]
    },
    {
      "cell_type": "code",
      "source": [
        "# finding out the min salary with respect to name\n",
        "df_pyspark.groupBy('Name').min().show()"
      ],
      "metadata": {
        "colab": {
          "base_uri": "https://localhost:8080/"
        },
        "id": "uD_mioPiiXpg",
        "outputId": "682495bb-8789-418d-b500-e42b645bdadf"
      },
      "execution_count": null,
      "outputs": [
        {
          "output_type": "stream",
          "name": "stdout",
          "text": [
            "+-----------+-----------+\n",
            "|       Name|min(Salary)|\n",
            "+-----------+-----------+\n",
            "|  Sudhanshu|       5000|\n",
            "|Ramakrishna|       4000|\n",
            "|     Sunny |       2000|\n",
            "|     Bharat|       4000|\n",
            "|     Mahesh|       3000|\n",
            "+-----------+-----------+\n",
            "\n"
          ]
        }
      ]
    },
    {
      "cell_type": "markdown",
      "source": [
        "** With respect to spark ml their are two methods** \n",
        "\n",
        "**a) RDD** \n",
        "\n",
        "**b) DataFrame API**"
      ],
      "metadata": {
        "id": "ZItGASS7jE-C"
      }
    },
    {
      "cell_type": "markdown",
      "source": [
        "**Example Of Pyspark ML**"
      ],
      "metadata": {
        "id": "ZX57TbtJk9_G"
      }
    },
    {
      "cell_type": "code",
      "source": [
        "from pyspark.sql import SparkSession\n",
        "spark = SparkSession.builder.appName('Missing').getOrCreate()\n"
      ],
      "metadata": {
        "id": "35Elj4Ami0OD"
      },
      "execution_count": null,
      "outputs": []
    },
    {
      "cell_type": "code",
      "source": [
        "!gdown --id 1F4EobzrYKBGHGFywpSnN6abDdgtGudKl"
      ],
      "metadata": {
        "colab": {
          "base_uri": "https://localhost:8080/"
        },
        "id": "16okDAM1lKWO",
        "outputId": "d9e8bfd6-7051-42dc-eda8-971402a9ca70"
      },
      "execution_count": null,
      "outputs": [
        {
          "output_type": "stream",
          "name": "stdout",
          "text": [
            "/usr/local/lib/python3.8/dist-packages/gdown/cli.py:121: FutureWarning: Option `--id` was deprecated in version 4.3.1 and will be removed in 5.0. You don't need to pass it anymore to use a file ID.\n",
            "  warnings.warn(\n",
            "Downloading...\n",
            "From: https://drive.google.com/uc?id=1F4EobzrYKBGHGFywpSnN6abDdgtGudKl\n",
            "To: /content/Handling_Missing_test1.csv\n",
            "100% 191/191 [00:00<00:00, 161kB/s]\n"
          ]
        }
      ]
    },
    {
      "cell_type": "code",
      "source": [
        "#read the dataset and removing the null values\n",
        "df_pyspark = spark.read.csv('/content/Handling_Missing_test1.csv',header = True, inferSchema = True)"
      ],
      "metadata": {
        "id": "obQZgjmElR6Z"
      },
      "execution_count": null,
      "outputs": []
    },
    {
      "cell_type": "code",
      "source": [
        "training = df_pyspark.na.drop()"
      ],
      "metadata": {
        "id": "2QENnIa3l824"
      },
      "execution_count": null,
      "outputs": []
    },
    {
      "cell_type": "code",
      "source": [
        "training.show()"
      ],
      "metadata": {
        "colab": {
          "base_uri": "https://localhost:8080/"
        },
        "id": "6aptTKt-mCv2",
        "outputId": "bde557f2-d134-4c8d-8eac-8959d9fbf016"
      },
      "execution_count": null,
      "outputs": [
        {
          "output_type": "stream",
          "name": "stdout",
          "text": [
            "+-----------+---+----------+------+\n",
            "|       Name|Age|Experience|Salary|\n",
            "+-----------+---+----------+------+\n",
            "|Ramakrishna| 21|         2| 30000|\n",
            "| Saikrishna| 22|        10| 50000|\n",
            "|   Abhiram | 21|         5| 45000|\n",
            "|    Bharath| 22|         4| 12000|\n",
            "|    Praveen| 21|         7| 29000|\n",
            "|      Shaik| 22|         9| 60000|\n",
            "+-----------+---+----------+------+\n",
            "\n"
          ]
        }
      ]
    },
    {
      "cell_type": "code",
      "source": [
        "training.printSchema()"
      ],
      "metadata": {
        "colab": {
          "base_uri": "https://localhost:8080/"
        },
        "id": "zRVdQ2ZYmE9S",
        "outputId": "215967f0-4896-4d64-9572-cad70604f7e8"
      },
      "execution_count": null,
      "outputs": [
        {
          "output_type": "stream",
          "name": "stdout",
          "text": [
            "root\n",
            " |-- Name: string (nullable = true)\n",
            " |-- Age: integer (nullable = true)\n",
            " |-- Experience: integer (nullable = true)\n",
            " |-- Salary: integer (nullable = true)\n",
            "\n"
          ]
        }
      ]
    },
    {
      "cell_type": "code",
      "source": [
        "training.columns"
      ],
      "metadata": {
        "colab": {
          "base_uri": "https://localhost:8080/"
        },
        "id": "p-a9t3_ymPpY",
        "outputId": "71e51861-96cd-4c27-d6a4-7cca193d2b13"
      },
      "execution_count": null,
      "outputs": [
        {
          "output_type": "execute_result",
          "data": {
            "text/plain": [
              "['Name', 'Age', 'Experience', 'Salary']"
            ]
          },
          "metadata": {},
          "execution_count": 118
        }
      ]
    },
    {
      "cell_type": "code",
      "source": [
        "# [Age,Experience] ----> new feature -----> independent feature"
      ],
      "metadata": {
        "id": "wzZD9CwImSPi"
      },
      "execution_count": null,
      "outputs": []
    },
    {
      "cell_type": "markdown",
      "source": [
        "**VectorAssembler** - \n",
        "\n",
        "it is a transformer that combines a given list of columns into a single vector column"
      ],
      "metadata": {
        "id": "-rjL6wwNmq0R"
      }
    },
    {
      "cell_type": "code",
      "source": [
        "from pyspark.ml.feature import VectorAssembler\n",
        "featureassembler = VectorAssembler(inputCols=[\"Age\",'Experience'],outputCol = \"Independent Features\")"
      ],
      "metadata": {
        "id": "8I2tTUPHmpQh"
      },
      "execution_count": null,
      "outputs": []
    },
    {
      "cell_type": "code",
      "source": [
        "output = featureassembler.transform(training)"
      ],
      "metadata": {
        "id": "ryr3w0VKnXQq"
      },
      "execution_count": null,
      "outputs": []
    },
    {
      "cell_type": "code",
      "source": [
        "output.show()"
      ],
      "metadata": {
        "colab": {
          "base_uri": "https://localhost:8080/"
        },
        "id": "kGbzkpsvoSoQ",
        "outputId": "647f52c6-43d0-4499-9506-e56f773a1cdf"
      },
      "execution_count": null,
      "outputs": [
        {
          "output_type": "stream",
          "name": "stdout",
          "text": [
            "+-----------+---+----------+------+--------------------+\n",
            "|       Name|Age|Experience|Salary|Independent Features|\n",
            "+-----------+---+----------+------+--------------------+\n",
            "|Ramakrishna| 21|         2| 30000|          [21.0,2.0]|\n",
            "| Saikrishna| 22|        10| 50000|         [22.0,10.0]|\n",
            "|   Abhiram | 21|         5| 45000|          [21.0,5.0]|\n",
            "|    Bharath| 22|         4| 12000|          [22.0,4.0]|\n",
            "|    Praveen| 21|         7| 29000|          [21.0,7.0]|\n",
            "|      Shaik| 22|         9| 60000|          [22.0,9.0]|\n",
            "+-----------+---+----------+------+--------------------+\n",
            "\n"
          ]
        }
      ]
    },
    {
      "cell_type": "code",
      "source": [
        "output.columns"
      ],
      "metadata": {
        "colab": {
          "base_uri": "https://localhost:8080/"
        },
        "id": "irSMxAmKoXfS",
        "outputId": "1c4742c6-a75e-427a-b5af-360ad9058517"
      },
      "execution_count": null,
      "outputs": [
        {
          "output_type": "execute_result",
          "data": {
            "text/plain": [
              "['Name', 'Age', 'Experience', 'Salary', 'Independent Features']"
            ]
          },
          "metadata": {},
          "execution_count": 126
        }
      ]
    },
    {
      "cell_type": "code",
      "source": [
        "finalized_data = output.select('Independent Features','Salary')"
      ],
      "metadata": {
        "id": "0XFR8z6Rozy2"
      },
      "execution_count": null,
      "outputs": []
    },
    {
      "cell_type": "code",
      "source": [
        "finalized_data.show()"
      ],
      "metadata": {
        "colab": {
          "base_uri": "https://localhost:8080/"
        },
        "id": "QmKAYnyPo883",
        "outputId": "4e9ac0ae-cb2b-44d1-8946-b23bf386ce44"
      },
      "execution_count": null,
      "outputs": [
        {
          "output_type": "stream",
          "name": "stdout",
          "text": [
            "+--------------------+------+\n",
            "|Independent Features|Salary|\n",
            "+--------------------+------+\n",
            "|          [21.0,2.0]| 30000|\n",
            "|         [22.0,10.0]| 50000|\n",
            "|          [21.0,5.0]| 45000|\n",
            "|          [22.0,4.0]| 12000|\n",
            "|          [21.0,7.0]| 29000|\n",
            "|          [22.0,9.0]| 60000|\n",
            "+--------------------+------+\n",
            "\n"
          ]
        }
      ]
    },
    {
      "cell_type": "code",
      "source": [
        "from pyspark.ml.regression import LinearRegression\n",
        "train_data,test_data = finalized_data.randomSplit([0.75,0.25])\n",
        "regressor = LinearRegression(featuresCol = 'Independent Features',labelCol = 'Salary')\n",
        "regressor = regressor.fit(train_data)"
      ],
      "metadata": {
        "colab": {
          "base_uri": "https://localhost:8080/"
        },
        "id": "vqvz7zsYo-m4",
        "outputId": "6152ff2c-adf3-4b62-fe74-fef11d0fa481"
      },
      "execution_count": null,
      "outputs": [
        {
          "output_type": "stream",
          "name": "stderr",
          "text": [
            "Exception ignored in: <function JavaWrapper.__del__ at 0x7f3625e07f70>\n",
            "Traceback (most recent call last):\n",
            "  File \"/usr/local/lib/python3.8/dist-packages/pyspark/ml/wrapper.py\", line 53, in __del__\n",
            "    if SparkContext._active_spark_context and self._java_obj is not None:\n",
            "AttributeError: 'LinearRegression' object has no attribute '_java_obj'\n"
          ]
        }
      ]
    },
    {
      "cell_type": "code",
      "source": [
        "##coefficients\n",
        "regressor.coefficients"
      ],
      "metadata": {
        "colab": {
          "base_uri": "https://localhost:8080/"
        },
        "id": "-7MVxnyJph-q",
        "outputId": "56970c1d-b2bd-471e-ee66-6320a3f3b3b8"
      },
      "execution_count": null,
      "outputs": [
        {
          "output_type": "execute_result",
          "data": {
            "text/plain": [
              "DenseVector([-28000.0, 5000.0])"
            ]
          },
          "metadata": {},
          "execution_count": 132
        }
      ]
    },
    {
      "cell_type": "code",
      "source": [
        "#intercepts\n",
        "#the importance of intercept, the intercept is the point where the function crosses the y-axis\n",
        "regressor.intercept"
      ],
      "metadata": {
        "colab": {
          "base_uri": "https://localhost:8080/"
        },
        "id": "dt32wR4Apzwx",
        "outputId": "4515872e-9628-4302-bc8a-5924b4f5a727"
      },
      "execution_count": null,
      "outputs": [
        {
          "output_type": "execute_result",
          "data": {
            "text/plain": [
              "608000.0000000645"
            ]
          },
          "metadata": {},
          "execution_count": 134
        }
      ]
    },
    {
      "cell_type": "code",
      "source": [
        "#prediction\n",
        "pred_results = regressor.evaluate(test_data)"
      ],
      "metadata": {
        "id": "oYnCox20p3tT"
      },
      "execution_count": null,
      "outputs": []
    },
    {
      "cell_type": "code",
      "source": [
        "pred_results.predictions.show()"
      ],
      "metadata": {
        "colab": {
          "base_uri": "https://localhost:8080/"
        },
        "id": "YUc7cMtSqUWv",
        "outputId": "5004267c-cf5f-44cc-fb7a-f42ad7fd3d46"
      },
      "execution_count": null,
      "outputs": [
        {
          "output_type": "stream",
          "name": "stdout",
          "text": [
            "+--------------------+------+------------------+\n",
            "|Independent Features|Salary|        prediction|\n",
            "+--------------------+------+------------------+\n",
            "|          [21.0,7.0]| 29000|  55000.0000000007|\n",
            "|          [22.0,9.0]| 60000|36999.999999997555|\n",
            "|         [22.0,10.0]| 50000| 41999.99999999744|\n",
            "+--------------------+------+------------------+\n",
            "\n"
          ]
        }
      ]
    },
    {
      "cell_type": "code",
      "source": [
        "pred_results.meanAbsoluteError,pred_results.meanSquaredError"
      ],
      "metadata": {
        "colab": {
          "base_uri": "https://localhost:8080/"
        },
        "id": "DhEV6j38qWlu",
        "outputId": "453f7f70-1287-4e54-cadd-c1be3a85b43d"
      },
      "execution_count": null,
      "outputs": [
        {
          "output_type": "execute_result",
          "data": {
            "text/plain": [
              "(19000.000000001903, 423000000.00006324)"
            ]
          },
          "metadata": {},
          "execution_count": 138
        }
      ]
    },
    {
      "cell_type": "code",
      "source": [
        "# rdd api and dataframe api is incomplete"
      ],
      "metadata": {
        "id": "37KxMRQYqmcF"
      },
      "execution_count": null,
      "outputs": []
    },
    {
      "cell_type": "code",
      "source": [
        "df_pyspark.show()"
      ],
      "metadata": {
        "colab": {
          "base_uri": "https://localhost:8080/"
        },
        "id": "Y8NEuxuBw0BS",
        "outputId": "1a75406b-3db4-4298-f76d-ed7bb65811a6"
      },
      "execution_count": null,
      "outputs": [
        {
          "output_type": "stream",
          "name": "stdout",
          "text": [
            "+-----------+----+----------+------+\n",
            "|       Name| Age|Experience|Salary|\n",
            "+-----------+----+----------+------+\n",
            "|Ramakrishna|  21|         2| 30000|\n",
            "| Saikrishna|  22|        10| 50000|\n",
            "|   Abhiram |  21|         5| 45000|\n",
            "|    Bharath|  22|         4| 12000|\n",
            "|    Praveen|  21|         7| 29000|\n",
            "|      Shaik|  22|         9| 60000|\n",
            "|      Rohti|null|      null| 54000|\n",
            "|       null|  45|        10| 15000|\n",
            "|       null|  36|      null|  null|\n",
            "+-----------+----+----------+------+\n",
            "\n"
          ]
        }
      ]
    },
    {
      "cell_type": "code",
      "source": [
        "df_pyspark.take(4)  #it will print the first 4 rows"
      ],
      "metadata": {
        "colab": {
          "base_uri": "https://localhost:8080/"
        },
        "id": "UxhNsUgixG2x",
        "outputId": "cbe9adf2-f398-4eee-d94f-3ca643765ebf"
      },
      "execution_count": null,
      "outputs": [
        {
          "output_type": "execute_result",
          "data": {
            "text/plain": [
              "[Row(Name='Ramakrishna', Age=21, Experience=2, Salary=30000),\n",
              " Row(Name='Saikrishna', Age=22, Experience=10, Salary=50000),\n",
              " Row(Name='Abhiram ', Age=21, Experience=5, Salary=45000),\n",
              " Row(Name='Bharath', Age=22, Experience=4, Salary=12000)]"
            ]
          },
          "metadata": {},
          "execution_count": 144
        }
      ]
    },
    {
      "cell_type": "markdown",
      "source": [
        "**PLOTTING**"
      ],
      "metadata": {
        "id": "FX9jSQzqyXT5"
      }
    },
    {
      "cell_type": "code",
      "source": [
        "import pandas as pd\n",
        "import numpy as np\n",
        "import pyspark.pandas as  ps\n",
        "from pyspark.sql import SparkSession"
      ],
      "metadata": {
        "colab": {
          "base_uri": "https://localhost:8080/"
        },
        "id": "VVENvNQ1xUSW",
        "outputId": "d7aa134e-3108-407e-959b-a34e01b776e3"
      },
      "execution_count": null,
      "outputs": [
        {
          "output_type": "stream",
          "name": "stderr",
          "text": [
            "/usr/local/lib/python3.8/dist-packages/pyspark/pandas/__init__.py:49: UserWarning: 'PYARROW_IGNORE_TIMEZONE' environment variable was not set. It is required to set this environment variable to '1' in both driver and executor sides if you use pyarrow>=2.0.0. pandas-on-Spark will set it for you but it does not work if there is a Spark context already launched.\n",
            "  warnings.warn(\n"
          ]
        }
      ]
    },
    {
      "cell_type": "code",
      "source": [
        "pser = pd.Series(np.random.randn(1000),index = pd.date_range('1/1/2000',periods = 1000))"
      ],
      "metadata": {
        "id": "Vr9jORooynVx"
      },
      "execution_count": null,
      "outputs": []
    },
    {
      "cell_type": "code",
      "source": [
        "psser = ps.Series(pser)"
      ],
      "metadata": {
        "id": "SZ7VecuCy3Hm"
      },
      "execution_count": null,
      "outputs": []
    },
    {
      "cell_type": "code",
      "source": [
        "psser = psser.cummax()"
      ],
      "metadata": {
        "id": "xlTUUEIRy6fI"
      },
      "execution_count": null,
      "outputs": []
    },
    {
      "cell_type": "code",
      "source": [
        "psser.plot()"
      ],
      "metadata": {
        "colab": {
          "base_uri": "https://localhost:8080/",
          "height": 649
        },
        "id": "IQ06jUH0y8w9",
        "outputId": "9c05ae97-3fa9-4f04-ac7c-fb69fa2d86f0"
      },
      "execution_count": null,
      "outputs": [
        {
          "output_type": "stream",
          "name": "stderr",
          "text": [
            "Exception ignored in: <function JavaWrapper.__del__ at 0x7f3625e07f70>\n",
            "Traceback (most recent call last):\n",
            "  File \"/usr/local/lib/python3.8/dist-packages/pyspark/ml/wrapper.py\", line 53, in __del__\n",
            "    if SparkContext._active_spark_context and self._java_obj is not None:\n",
            "AttributeError: 'VectorAssembler' object has no attribute '_java_obj'\n"
          ]
        },
        {
          "output_type": "display_data",
          "data": {
            "text/html": [
              "<html>\n",
              "<head><meta charset=\"utf-8\" /></head>\n",
              "<body>\n",
              "    <div>            <script src=\"https://cdnjs.cloudflare.com/ajax/libs/mathjax/2.7.5/MathJax.js?config=TeX-AMS-MML_SVG\"></script><script type=\"text/javascript\">if (window.MathJax) {MathJax.Hub.Config({SVG: {font: \"STIX-Web\"}});}</script>                <script type=\"text/javascript\">window.PlotlyConfig = {MathJaxConfig: 'local'};</script>\n",
              "        <script src=\"https://cdn.plot.ly/plotly-2.8.3.min.js\"></script>                <div id=\"94595149-ff26-4521-9894-0f5e077d81e8\" class=\"plotly-graph-div\" style=\"height:525px; width:100%;\"></div>            <script type=\"text/javascript\">                                    window.PLOTLYENV=window.PLOTLYENV || {};                                    if (document.getElementById(\"94595149-ff26-4521-9894-0f5e077d81e8\")) {                    Plotly.newPlot(                        \"94595149-ff26-4521-9894-0f5e077d81e8\",                        [{\"hovertemplate\":\"variable=0<br>index=%{x}<br>value=%{y}<extra></extra>\",\"legendgroup\":\"0\",\"line\":{\"color\":\"#636efa\",\"dash\":\"solid\"},\"marker\":{\"symbol\":\"circle\"},\"mode\":\"lines\",\"name\":\"0\",\"orientation\":\"v\",\"showlegend\":true,\"x\":[\"2000-01-01T00:00:00\",\"2000-01-02T00:00:00\",\"2000-01-03T00:00:00\",\"2000-01-04T00:00:00\",\"2000-01-05T00:00:00\",\"2000-01-06T00:00:00\",\"2000-01-07T00:00:00\",\"2000-01-08T00:00:00\",\"2000-01-09T00:00:00\",\"2000-01-10T00:00:00\",\"2000-01-11T00:00:00\",\"2000-01-12T00:00:00\",\"2000-01-13T00:00:00\",\"2000-01-14T00:00:00\",\"2000-01-15T00:00:00\",\"2000-01-16T00:00:00\",\"2000-01-17T00:00:00\",\"2000-01-18T00:00:00\",\"2000-01-19T00:00:00\",\"2000-01-20T00:00:00\",\"2000-01-21T00:00:00\",\"2000-01-22T00:00:00\",\"2000-01-23T00:00:00\",\"2000-01-24T00:00:00\",\"2000-01-25T00:00:00\",\"2000-01-26T00:00:00\",\"2000-01-27T00:00:00\",\"2000-01-28T00:00:00\",\"2000-01-29T00:00:00\",\"2000-01-30T00:00:00\",\"2000-01-31T00:00:00\",\"2000-02-01T00:00:00\",\"2000-02-02T00:00:00\",\"2000-02-03T00:00:00\",\"2000-02-04T00:00:00\",\"2000-02-05T00:00:00\",\"2000-02-06T00:00:00\",\"2000-02-07T00:00:00\",\"2000-02-08T00:00:00\",\"2000-02-09T00:00:00\",\"2000-02-10T00:00:00\",\"2000-02-11T00:00:00\",\"2000-02-12T00:00:00\",\"2000-02-13T00:00:00\",\"2000-02-14T00:00:00\",\"2000-02-15T00:00:00\",\"2000-02-16T00:00:00\",\"2000-02-17T00:00:00\",\"2000-02-18T00:00:00\",\"2000-02-19T00:00:00\",\"2000-02-20T00:00:00\",\"2000-02-21T00:00:00\",\"2000-02-22T00:00:00\",\"2000-02-23T00:00:00\",\"2000-02-24T00:00:00\",\"2000-02-25T00:00:00\",\"2000-02-26T00:00:00\",\"2000-02-27T00:00:00\",\"2000-02-28T00:00:00\",\"2000-02-29T00:00:00\",\"2000-03-01T00:00:00\",\"2000-03-02T00:00:00\",\"2000-03-03T00:00:00\",\"2000-03-04T00:00:00\",\"2000-03-05T00:00:00\",\"2000-03-06T00:00:00\",\"2000-03-07T00:00:00\",\"2000-03-08T00:00:00\",\"2000-03-09T00:00:00\",\"2000-03-10T00:00:00\",\"2000-03-11T00:00:00\",\"2000-03-12T00:00:00\",\"2000-03-13T00:00:00\",\"2000-03-14T00:00:00\",\"2000-03-15T00:00:00\",\"2000-03-16T00:00:00\",\"2000-03-17T00:00:00\",\"2000-03-18T00:00:00\",\"2000-03-19T00:00:00\",\"2000-03-20T00:00:00\",\"2000-03-21T00:00:00\",\"2000-03-22T00:00:00\",\"2000-03-23T00:00:00\",\"2000-03-24T00:00:00\",\"2000-03-25T00:00:00\",\"2000-03-26T00:00:00\",\"2000-03-27T00:00:00\",\"2000-03-28T00:00:00\",\"2000-03-29T00:00:00\",\"2000-03-30T00:00:00\",\"2000-03-31T00:00:00\",\"2000-04-01T00:00:00\",\"2000-04-02T00:00:00\",\"2000-04-03T00:00:00\",\"2000-04-04T00:00:00\",\"2000-04-05T00:00:00\",\"2000-04-06T00:00:00\",\"2000-04-07T00:00:00\",\"2000-04-08T00:00:00\",\"2000-04-09T00:00:00\",\"2000-04-10T00:00:00\",\"2000-04-11T00:00:00\",\"2000-04-12T00:00:00\",\"2000-04-13T00:00:00\",\"2000-04-14T00:00:00\",\"2000-04-15T00:00:00\",\"2000-04-16T00:00:00\",\"2000-04-17T00:00:00\",\"2000-04-18T00:00:00\",\"2000-04-19T00:00:00\",\"2000-04-20T00:00:00\",\"2000-04-21T00:00:00\",\"2000-04-22T00:00:00\",\"2000-04-23T00:00:00\",\"2000-04-24T00:00:00\",\"2000-04-25T00:00:00\",\"2000-04-26T00:00:00\",\"2000-04-27T00:00:00\",\"2000-04-28T00:00:00\",\"2000-04-29T00:00:00\",\"2000-04-30T00:00:00\",\"2000-05-01T00:00:00\",\"2000-05-02T00:00:00\",\"2000-05-03T00:00:00\",\"2000-05-04T00:00:00\",\"2000-05-05T00:00:00\",\"2000-05-06T00:00:00\",\"2000-05-07T00:00:00\",\"2000-05-08T00:00:00\",\"2000-05-09T00:00:00\",\"2000-05-10T00:00:00\",\"2000-05-11T00:00:00\",\"2000-05-12T00:00:00\",\"2000-05-13T00:00:00\",\"2000-05-14T00:00:00\",\"2000-05-15T00:00:00\",\"2000-05-16T00:00:00\",\"2000-05-17T00:00:00\",\"2000-05-18T00:00:00\",\"2000-05-19T00:00:00\",\"2000-05-20T00:00:00\",\"2000-05-21T00:00:00\",\"2000-05-22T00:00:00\",\"2000-05-23T00:00:00\",\"2000-05-24T00:00:00\",\"2000-05-25T00:00:00\",\"2000-05-26T00:00:00\",\"2000-05-27T00:00:00\",\"2000-05-28T00:00:00\",\"2000-05-29T00:00:00\",\"2000-05-30T00:00:00\",\"2000-05-31T00:00:00\",\"2000-06-01T00:00:00\",\"2000-06-02T00:00:00\",\"2000-06-03T00:00:00\",\"2000-06-04T00:00:00\",\"2000-06-05T00:00:00\",\"2000-06-06T00:00:00\",\"2000-06-07T00:00:00\",\"2000-06-08T00:00:00\",\"2000-06-09T00:00:00\",\"2000-06-10T00:00:00\",\"2000-06-11T00:00:00\",\"2000-06-12T00:00:00\",\"2000-06-13T00:00:00\",\"2000-06-14T00:00:00\",\"2000-06-15T00:00:00\",\"2000-06-16T00:00:00\",\"2000-06-17T00:00:00\",\"2000-06-18T00:00:00\",\"2000-06-19T00:00:00\",\"2000-06-20T00:00:00\",\"2000-06-21T00:00:00\",\"2000-06-22T00:00:00\",\"2000-06-23T00:00:00\",\"2000-06-24T00:00:00\",\"2000-06-25T00:00:00\",\"2000-06-26T00:00:00\",\"2000-06-27T00:00:00\",\"2000-06-28T00:00:00\",\"2000-06-29T00:00:00\",\"2000-06-30T00:00:00\",\"2000-07-01T00:00:00\",\"2000-07-02T00:00:00\",\"2000-07-03T00:00:00\",\"2000-07-04T00:00:00\",\"2000-07-05T00:00:00\",\"2000-07-06T00:00:00\",\"2000-07-07T00:00:00\",\"2000-07-08T00:00:00\",\"2000-07-09T00:00:00\",\"2000-07-10T00:00:00\",\"2000-07-11T00:00:00\",\"2000-07-12T00:00:00\",\"2000-07-13T00:00:00\",\"2000-07-14T00:00:00\",\"2000-07-15T00:00:00\",\"2000-07-16T00:00:00\",\"2000-07-17T00:00:00\",\"2000-07-18T00:00:00\",\"2000-07-19T00:00:00\",\"2000-07-20T00:00:00\",\"2000-07-21T00:00:00\",\"2000-07-22T00:00:00\",\"2000-07-23T00:00:00\",\"2000-07-24T00:00:00\",\"2000-07-25T00:00:00\",\"2000-07-26T00:00:00\",\"2000-07-27T00:00:00\",\"2000-07-28T00:00:00\",\"2000-07-29T00:00:00\",\"2000-07-30T00:00:00\",\"2000-07-31T00:00:00\",\"2000-08-01T00:00:00\",\"2000-08-02T00:00:00\",\"2000-08-03T00:00:00\",\"2000-08-04T00:00:00\",\"2000-08-05T00:00:00\",\"2000-08-06T00:00:00\",\"2000-08-07T00:00:00\",\"2000-08-08T00:00:00\",\"2000-08-09T00:00:00\",\"2000-08-10T00:00:00\",\"2000-08-11T00:00:00\",\"2000-08-12T00:00:00\",\"2000-08-13T00:00:00\",\"2000-08-14T00:00:00\",\"2000-08-15T00:00:00\",\"2000-08-16T00:00:00\",\"2000-08-17T00:00:00\",\"2000-08-18T00:00:00\",\"2000-08-19T00:00:00\",\"2000-08-20T00:00:00\",\"2000-08-21T00:00:00\",\"2000-08-22T00:00:00\",\"2000-08-23T00:00:00\",\"2000-08-24T00:00:00\",\"2000-08-25T00:00:00\",\"2000-08-26T00:00:00\",\"2000-08-27T00:00:00\",\"2000-08-28T00:00:00\",\"2000-08-29T00:00:00\",\"2000-08-30T00:00:00\",\"2000-08-31T00:00:00\",\"2000-09-01T00:00:00\",\"2000-09-02T00:00:00\",\"2000-09-03T00:00:00\",\"2000-09-04T00:00:00\",\"2000-09-05T00:00:00\",\"2000-09-06T00:00:00\",\"2000-09-07T00:00:00\",\"2000-09-08T00:00:00\",\"2000-09-09T00:00:00\",\"2000-09-10T00:00:00\",\"2000-09-11T00:00:00\",\"2000-09-12T00:00:00\",\"2000-09-13T00:00:00\",\"2000-09-14T00:00:00\",\"2000-09-15T00:00:00\",\"2000-09-16T00:00:00\",\"2000-09-17T00:00:00\",\"2000-09-18T00:00:00\",\"2000-09-19T00:00:00\",\"2000-09-20T00:00:00\",\"2000-09-21T00:00:00\",\"2000-09-22T00:00:00\",\"2000-09-23T00:00:00\",\"2000-09-24T00:00:00\",\"2000-09-25T00:00:00\",\"2000-09-26T00:00:00\",\"2000-09-27T00:00:00\",\"2000-09-28T00:00:00\",\"2000-09-29T00:00:00\",\"2000-09-30T00:00:00\",\"2000-10-01T00:00:00\",\"2000-10-02T00:00:00\",\"2000-10-03T00:00:00\",\"2000-10-04T00:00:00\",\"2000-10-05T00:00:00\",\"2000-10-06T00:00:00\",\"2000-10-07T00:00:00\",\"2000-10-08T00:00:00\",\"2000-10-09T00:00:00\",\"2000-10-10T00:00:00\",\"2000-10-11T00:00:00\",\"2000-10-12T00:00:00\",\"2000-10-13T00:00:00\",\"2000-10-14T00:00:00\",\"2000-10-15T00:00:00\",\"2000-10-16T00:00:00\",\"2000-10-17T00:00:00\",\"2000-10-18T00:00:00\",\"2000-10-19T00:00:00\",\"2000-10-20T00:00:00\",\"2000-10-21T00:00:00\",\"2000-10-22T00:00:00\",\"2000-10-23T00:00:00\",\"2000-10-24T00:00:00\",\"2000-10-25T00:00:00\",\"2000-10-26T00:00:00\",\"2000-10-27T00:00:00\",\"2000-10-28T00:00:00\",\"2000-10-29T00:00:00\",\"2000-10-30T00:00:00\",\"2000-10-31T00:00:00\",\"2000-11-01T00:00:00\",\"2000-11-02T00:00:00\",\"2000-11-03T00:00:00\",\"2000-11-04T00:00:00\",\"2000-11-05T00:00:00\",\"2000-11-06T00:00:00\",\"2000-11-07T00:00:00\",\"2000-11-08T00:00:00\",\"2000-11-09T00:00:00\",\"2000-11-10T00:00:00\",\"2000-11-11T00:00:00\",\"2000-11-12T00:00:00\",\"2000-11-13T00:00:00\",\"2000-11-14T00:00:00\",\"2000-11-15T00:00:00\",\"2000-11-16T00:00:00\",\"2000-11-17T00:00:00\",\"2000-11-18T00:00:00\",\"2000-11-19T00:00:00\",\"2000-11-20T00:00:00\",\"2000-11-21T00:00:00\",\"2000-11-22T00:00:00\",\"2000-11-23T00:00:00\",\"2000-11-24T00:00:00\",\"2000-11-25T00:00:00\",\"2000-11-26T00:00:00\",\"2000-11-27T00:00:00\",\"2000-11-28T00:00:00\",\"2000-11-29T00:00:00\",\"2000-11-30T00:00:00\",\"2000-12-01T00:00:00\",\"2000-12-02T00:00:00\",\"2000-12-03T00:00:00\",\"2000-12-04T00:00:00\",\"2000-12-05T00:00:00\",\"2000-12-06T00:00:00\",\"2000-12-07T00:00:00\",\"2000-12-08T00:00:00\",\"2000-12-09T00:00:00\",\"2000-12-10T00:00:00\",\"2000-12-11T00:00:00\",\"2000-12-12T00:00:00\",\"2000-12-13T00:00:00\",\"2000-12-14T00:00:00\",\"2000-12-15T00:00:00\",\"2000-12-16T00:00:00\",\"2000-12-17T00:00:00\",\"2000-12-18T00:00:00\",\"2000-12-19T00:00:00\",\"2000-12-20T00:00:00\",\"2000-12-21T00:00:00\",\"2000-12-22T00:00:00\",\"2000-12-23T00:00:00\",\"2000-12-24T00:00:00\",\"2000-12-25T00:00:00\",\"2000-12-26T00:00:00\",\"2000-12-27T00:00:00\",\"2000-12-28T00:00:00\",\"2000-12-29T00:00:00\",\"2000-12-30T00:00:00\",\"2000-12-31T00:00:00\",\"2001-01-01T00:00:00\",\"2001-01-02T00:00:00\",\"2001-01-03T00:00:00\",\"2001-01-04T00:00:00\",\"2001-01-05T00:00:00\",\"2001-01-06T00:00:00\",\"2001-01-07T00:00:00\",\"2001-01-08T00:00:00\",\"2001-01-09T00:00:00\",\"2001-01-10T00:00:00\",\"2001-01-11T00:00:00\",\"2001-01-12T00:00:00\",\"2001-01-13T00:00:00\",\"2001-01-14T00:00:00\",\"2001-01-15T00:00:00\",\"2001-01-16T00:00:00\",\"2001-01-17T00:00:00\",\"2001-01-18T00:00:00\",\"2001-01-19T00:00:00\",\"2001-01-20T00:00:00\",\"2001-01-21T00:00:00\",\"2001-01-22T00:00:00\",\"2001-01-23T00:00:00\",\"2001-01-24T00:00:00\",\"2001-01-25T00:00:00\",\"2001-01-26T00:00:00\",\"2001-01-27T00:00:00\",\"2001-01-28T00:00:00\",\"2001-01-29T00:00:00\",\"2001-01-30T00:00:00\",\"2001-01-31T00:00:00\",\"2001-02-01T00:00:00\",\"2001-02-02T00:00:00\",\"2001-02-03T00:00:00\",\"2001-02-04T00:00:00\",\"2001-02-05T00:00:00\",\"2001-02-06T00:00:00\",\"2001-02-07T00:00:00\",\"2001-02-08T00:00:00\",\"2001-02-09T00:00:00\",\"2001-02-10T00:00:00\",\"2001-02-11T00:00:00\",\"2001-02-12T00:00:00\",\"2001-02-13T00:00:00\",\"2001-02-14T00:00:00\",\"2001-02-15T00:00:00\",\"2001-02-16T00:00:00\",\"2001-02-17T00:00:00\",\"2001-02-18T00:00:00\",\"2001-02-19T00:00:00\",\"2001-02-20T00:00:00\",\"2001-02-21T00:00:00\",\"2001-02-22T00:00:00\",\"2001-02-23T00:00:00\",\"2001-02-24T00:00:00\",\"2001-02-25T00:00:00\",\"2001-02-26T00:00:00\",\"2001-02-27T00:00:00\",\"2001-02-28T00:00:00\",\"2001-03-01T00:00:00\",\"2001-03-02T00:00:00\",\"2001-03-03T00:00:00\",\"2001-03-04T00:00:00\",\"2001-03-05T00:00:00\",\"2001-03-06T00:00:00\",\"2001-03-07T00:00:00\",\"2001-03-08T00:00:00\",\"2001-03-09T00:00:00\",\"2001-03-10T00:00:00\",\"2001-03-11T00:00:00\",\"2001-03-12T00:00:00\",\"2001-03-13T00:00:00\",\"2001-03-14T00:00:00\",\"2001-03-15T00:00:00\",\"2001-03-16T00:00:00\",\"2001-03-17T00:00:00\",\"2001-03-18T00:00:00\",\"2001-03-19T00:00:00\",\"2001-03-20T00:00:00\",\"2001-03-21T00:00:00\",\"2001-03-22T00:00:00\",\"2001-03-23T00:00:00\",\"2001-03-24T00:00:00\",\"2001-03-25T00:00:00\",\"2001-03-26T00:00:00\",\"2001-03-27T00:00:00\",\"2001-03-28T00:00:00\",\"2001-03-29T00:00:00\",\"2001-03-30T00:00:00\",\"2001-03-31T00:00:00\",\"2001-04-01T00:00:00\",\"2001-04-02T00:00:00\",\"2001-04-03T00:00:00\",\"2001-04-04T00:00:00\",\"2001-04-05T00:00:00\",\"2001-04-06T00:00:00\",\"2001-04-07T00:00:00\",\"2001-04-08T00:00:00\",\"2001-04-09T00:00:00\",\"2001-04-10T00:00:00\",\"2001-04-11T00:00:00\",\"2001-04-12T00:00:00\",\"2001-04-13T00:00:00\",\"2001-04-14T00:00:00\",\"2001-04-15T00:00:00\",\"2001-04-16T00:00:00\",\"2001-04-17T00:00:00\",\"2001-04-18T00:00:00\",\"2001-04-19T00:00:00\",\"2001-04-20T00:00:00\",\"2001-04-21T00:00:00\",\"2001-04-22T00:00:00\",\"2001-04-23T00:00:00\",\"2001-04-24T00:00:00\",\"2001-04-25T00:00:00\",\"2001-04-26T00:00:00\",\"2001-04-27T00:00:00\",\"2001-04-28T00:00:00\",\"2001-04-29T00:00:00\",\"2001-04-30T00:00:00\",\"2001-05-01T00:00:00\",\"2001-05-02T00:00:00\",\"2001-05-03T00:00:00\",\"2001-05-04T00:00:00\",\"2001-05-05T00:00:00\",\"2001-05-06T00:00:00\",\"2001-05-07T00:00:00\",\"2001-05-08T00:00:00\",\"2001-05-09T00:00:00\",\"2001-05-10T00:00:00\",\"2001-05-11T00:00:00\",\"2001-05-12T00:00:00\",\"2001-05-13T00:00:00\",\"2001-05-14T00:00:00\",\"2001-05-15T00:00:00\",\"2001-05-16T00:00:00\",\"2001-05-17T00:00:00\",\"2001-05-18T00:00:00\",\"2001-05-19T00:00:00\",\"2001-05-20T00:00:00\",\"2001-05-21T00:00:00\",\"2001-05-22T00:00:00\",\"2001-05-23T00:00:00\",\"2001-05-24T00:00:00\",\"2001-05-25T00:00:00\",\"2001-05-26T00:00:00\",\"2001-05-27T00:00:00\",\"2001-05-28T00:00:00\",\"2001-05-29T00:00:00\",\"2001-05-30T00:00:00\",\"2001-05-31T00:00:00\",\"2001-06-01T00:00:00\",\"2001-06-02T00:00:00\",\"2001-06-03T00:00:00\",\"2001-06-04T00:00:00\",\"2001-06-05T00:00:00\",\"2001-06-06T00:00:00\",\"2001-06-07T00:00:00\",\"2001-06-08T00:00:00\",\"2001-06-09T00:00:00\",\"2001-06-10T00:00:00\",\"2001-06-11T00:00:00\",\"2001-06-12T00:00:00\",\"2001-06-13T00:00:00\",\"2001-06-14T00:00:00\",\"2001-06-15T00:00:00\",\"2001-06-16T00:00:00\",\"2001-06-17T00:00:00\",\"2001-06-18T00:00:00\",\"2001-06-19T00:00:00\",\"2001-06-20T00:00:00\",\"2001-06-21T00:00:00\",\"2001-06-22T00:00:00\",\"2001-06-23T00:00:00\",\"2001-06-24T00:00:00\",\"2001-06-25T00:00:00\",\"2001-06-26T00:00:00\",\"2001-06-27T00:00:00\",\"2001-06-28T00:00:00\",\"2001-06-29T00:00:00\",\"2001-06-30T00:00:00\",\"2001-07-01T00:00:00\",\"2001-07-02T00:00:00\",\"2001-07-03T00:00:00\",\"2001-07-04T00:00:00\",\"2001-07-05T00:00:00\",\"2001-07-06T00:00:00\",\"2001-07-07T00:00:00\",\"2001-07-08T00:00:00\",\"2001-07-09T00:00:00\",\"2001-07-10T00:00:00\",\"2001-07-11T00:00:00\",\"2001-07-12T00:00:00\",\"2001-07-13T00:00:00\",\"2001-07-14T00:00:00\",\"2001-07-15T00:00:00\",\"2001-07-16T00:00:00\",\"2001-07-17T00:00:00\",\"2001-07-18T00:00:00\",\"2001-07-19T00:00:00\",\"2001-07-20T00:00:00\",\"2001-07-21T00:00:00\",\"2001-07-22T00:00:00\",\"2001-07-23T00:00:00\",\"2001-07-24T00:00:00\",\"2001-07-25T00:00:00\",\"2001-07-26T00:00:00\",\"2001-07-27T00:00:00\",\"2001-07-28T00:00:00\",\"2001-07-29T00:00:00\",\"2001-07-30T00:00:00\",\"2001-07-31T00:00:00\",\"2001-08-01T00:00:00\",\"2001-08-02T00:00:00\",\"2001-08-03T00:00:00\",\"2001-08-04T00:00:00\",\"2001-08-05T00:00:00\",\"2001-08-06T00:00:00\",\"2001-08-07T00:00:00\",\"2001-08-08T00:00:00\",\"2001-08-09T00:00:00\",\"2001-08-10T00:00:00\",\"2001-08-11T00:00:00\",\"2001-08-12T00:00:00\",\"2001-08-13T00:00:00\",\"2001-08-14T00:00:00\",\"2001-08-15T00:00:00\",\"2001-08-16T00:00:00\",\"2001-08-17T00:00:00\",\"2001-08-18T00:00:00\",\"2001-08-19T00:00:00\",\"2001-08-20T00:00:00\",\"2001-08-21T00:00:00\",\"2001-08-22T00:00:00\",\"2001-08-23T00:00:00\",\"2001-08-24T00:00:00\",\"2001-08-25T00:00:00\",\"2001-08-26T00:00:00\",\"2001-08-27T00:00:00\",\"2001-08-28T00:00:00\",\"2001-08-29T00:00:00\",\"2001-08-30T00:00:00\",\"2001-08-31T00:00:00\",\"2001-09-01T00:00:00\",\"2001-09-02T00:00:00\",\"2001-09-03T00:00:00\",\"2001-09-04T00:00:00\",\"2001-09-05T00:00:00\",\"2001-09-06T00:00:00\",\"2001-09-07T00:00:00\",\"2001-09-08T00:00:00\",\"2001-09-09T00:00:00\",\"2001-09-10T00:00:00\",\"2001-09-11T00:00:00\",\"2001-09-12T00:00:00\",\"2001-09-13T00:00:00\",\"2001-09-14T00:00:00\",\"2001-09-15T00:00:00\",\"2001-09-16T00:00:00\",\"2001-09-17T00:00:00\",\"2001-09-18T00:00:00\",\"2001-09-19T00:00:00\",\"2001-09-20T00:00:00\",\"2001-09-21T00:00:00\",\"2001-09-22T00:00:00\",\"2001-09-23T00:00:00\",\"2001-09-24T00:00:00\",\"2001-09-25T00:00:00\",\"2001-09-26T00:00:00\",\"2001-09-27T00:00:00\",\"2001-09-28T00:00:00\",\"2001-09-29T00:00:00\",\"2001-09-30T00:00:00\",\"2001-10-01T00:00:00\",\"2001-10-02T00:00:00\",\"2001-10-03T00:00:00\",\"2001-10-04T00:00:00\",\"2001-10-05T00:00:00\",\"2001-10-06T00:00:00\",\"2001-10-07T00:00:00\",\"2001-10-08T00:00:00\",\"2001-10-09T00:00:00\",\"2001-10-10T00:00:00\",\"2001-10-11T00:00:00\",\"2001-10-12T00:00:00\",\"2001-10-13T00:00:00\",\"2001-10-14T00:00:00\",\"2001-10-15T00:00:00\",\"2001-10-16T00:00:00\",\"2001-10-17T00:00:00\",\"2001-10-18T00:00:00\",\"2001-10-19T00:00:00\",\"2001-10-20T00:00:00\",\"2001-10-21T00:00:00\",\"2001-10-22T00:00:00\",\"2001-10-23T00:00:00\",\"2001-10-24T00:00:00\",\"2001-10-25T00:00:00\",\"2001-10-26T00:00:00\",\"2001-10-27T00:00:00\",\"2001-10-28T00:00:00\",\"2001-10-29T00:00:00\",\"2001-10-30T00:00:00\",\"2001-10-31T00:00:00\",\"2001-11-01T00:00:00\",\"2001-11-02T00:00:00\",\"2001-11-03T00:00:00\",\"2001-11-04T00:00:00\",\"2001-11-05T00:00:00\",\"2001-11-06T00:00:00\",\"2001-11-07T00:00:00\",\"2001-11-08T00:00:00\",\"2001-11-09T00:00:00\",\"2001-11-10T00:00:00\",\"2001-11-11T00:00:00\",\"2001-11-12T00:00:00\",\"2001-11-13T00:00:00\",\"2001-11-14T00:00:00\",\"2001-11-15T00:00:00\",\"2001-11-16T00:00:00\",\"2001-11-17T00:00:00\",\"2001-11-18T00:00:00\",\"2001-11-19T00:00:00\",\"2001-11-20T00:00:00\",\"2001-11-21T00:00:00\",\"2001-11-22T00:00:00\",\"2001-11-23T00:00:00\",\"2001-11-24T00:00:00\",\"2001-11-25T00:00:00\",\"2001-11-26T00:00:00\",\"2001-11-27T00:00:00\",\"2001-11-28T00:00:00\",\"2001-11-29T00:00:00\",\"2001-11-30T00:00:00\",\"2001-12-01T00:00:00\",\"2001-12-02T00:00:00\",\"2001-12-03T00:00:00\",\"2001-12-04T00:00:00\",\"2001-12-05T00:00:00\",\"2001-12-06T00:00:00\",\"2001-12-07T00:00:00\",\"2001-12-08T00:00:00\",\"2001-12-09T00:00:00\",\"2001-12-10T00:00:00\",\"2001-12-11T00:00:00\",\"2001-12-12T00:00:00\",\"2001-12-13T00:00:00\",\"2001-12-14T00:00:00\",\"2001-12-15T00:00:00\",\"2001-12-16T00:00:00\",\"2001-12-17T00:00:00\",\"2001-12-18T00:00:00\",\"2001-12-19T00:00:00\",\"2001-12-20T00:00:00\",\"2001-12-21T00:00:00\",\"2001-12-22T00:00:00\",\"2001-12-23T00:00:00\",\"2001-12-24T00:00:00\",\"2001-12-25T00:00:00\",\"2001-12-26T00:00:00\",\"2001-12-27T00:00:00\",\"2001-12-28T00:00:00\",\"2001-12-29T00:00:00\",\"2001-12-30T00:00:00\",\"2001-12-31T00:00:00\",\"2002-01-01T00:00:00\",\"2002-01-02T00:00:00\",\"2002-01-03T00:00:00\",\"2002-01-04T00:00:00\",\"2002-01-05T00:00:00\",\"2002-01-06T00:00:00\",\"2002-01-07T00:00:00\",\"2002-01-08T00:00:00\",\"2002-01-09T00:00:00\",\"2002-01-10T00:00:00\",\"2002-01-11T00:00:00\",\"2002-01-12T00:00:00\",\"2002-01-13T00:00:00\",\"2002-01-14T00:00:00\",\"2002-01-15T00:00:00\",\"2002-01-16T00:00:00\",\"2002-01-17T00:00:00\",\"2002-01-18T00:00:00\",\"2002-01-19T00:00:00\",\"2002-01-20T00:00:00\",\"2002-01-21T00:00:00\",\"2002-01-22T00:00:00\",\"2002-01-23T00:00:00\",\"2002-01-24T00:00:00\",\"2002-01-25T00:00:00\",\"2002-01-26T00:00:00\",\"2002-01-27T00:00:00\",\"2002-01-28T00:00:00\",\"2002-01-29T00:00:00\",\"2002-01-30T00:00:00\",\"2002-01-31T00:00:00\",\"2002-02-01T00:00:00\",\"2002-02-02T00:00:00\",\"2002-02-03T00:00:00\",\"2002-02-04T00:00:00\",\"2002-02-05T00:00:00\",\"2002-02-06T00:00:00\",\"2002-02-07T00:00:00\",\"2002-02-08T00:00:00\",\"2002-02-09T00:00:00\",\"2002-02-10T00:00:00\",\"2002-02-11T00:00:00\",\"2002-02-12T00:00:00\",\"2002-02-13T00:00:00\",\"2002-02-14T00:00:00\",\"2002-02-15T00:00:00\",\"2002-02-16T00:00:00\",\"2002-02-17T00:00:00\",\"2002-02-18T00:00:00\",\"2002-02-19T00:00:00\",\"2002-02-20T00:00:00\",\"2002-02-21T00:00:00\",\"2002-02-22T00:00:00\",\"2002-02-23T00:00:00\",\"2002-02-24T00:00:00\",\"2002-02-25T00:00:00\",\"2002-02-26T00:00:00\",\"2002-02-27T00:00:00\",\"2002-02-28T00:00:00\",\"2002-03-01T00:00:00\",\"2002-03-02T00:00:00\",\"2002-03-03T00:00:00\",\"2002-03-04T00:00:00\",\"2002-03-05T00:00:00\",\"2002-03-06T00:00:00\",\"2002-03-07T00:00:00\",\"2002-03-08T00:00:00\",\"2002-03-09T00:00:00\",\"2002-03-10T00:00:00\",\"2002-03-11T00:00:00\",\"2002-03-12T00:00:00\",\"2002-03-13T00:00:00\",\"2002-03-14T00:00:00\",\"2002-03-15T00:00:00\",\"2002-03-16T00:00:00\",\"2002-03-17T00:00:00\",\"2002-03-18T00:00:00\",\"2002-03-19T00:00:00\",\"2002-03-20T00:00:00\",\"2002-03-21T00:00:00\",\"2002-03-22T00:00:00\",\"2002-03-23T00:00:00\",\"2002-03-24T00:00:00\",\"2002-03-25T00:00:00\",\"2002-03-26T00:00:00\",\"2002-03-27T00:00:00\",\"2002-03-28T00:00:00\",\"2002-03-29T00:00:00\",\"2002-03-30T00:00:00\",\"2002-03-31T00:00:00\",\"2002-04-01T00:00:00\",\"2002-04-02T00:00:00\",\"2002-04-03T00:00:00\",\"2002-04-04T00:00:00\",\"2002-04-05T00:00:00\",\"2002-04-06T00:00:00\",\"2002-04-07T00:00:00\",\"2002-04-08T00:00:00\",\"2002-04-09T00:00:00\",\"2002-04-10T00:00:00\",\"2002-04-11T00:00:00\",\"2002-04-12T00:00:00\",\"2002-04-13T00:00:00\",\"2002-04-14T00:00:00\",\"2002-04-15T00:00:00\",\"2002-04-16T00:00:00\",\"2002-04-17T00:00:00\",\"2002-04-18T00:00:00\",\"2002-04-19T00:00:00\",\"2002-04-20T00:00:00\",\"2002-04-21T00:00:00\",\"2002-04-22T00:00:00\",\"2002-04-23T00:00:00\",\"2002-04-24T00:00:00\",\"2002-04-25T00:00:00\",\"2002-04-26T00:00:00\",\"2002-04-27T00:00:00\",\"2002-04-28T00:00:00\",\"2002-04-29T00:00:00\",\"2002-04-30T00:00:00\",\"2002-05-01T00:00:00\",\"2002-05-02T00:00:00\",\"2002-05-03T00:00:00\",\"2002-05-04T00:00:00\",\"2002-05-05T00:00:00\",\"2002-05-06T00:00:00\",\"2002-05-07T00:00:00\",\"2002-05-08T00:00:00\",\"2002-05-09T00:00:00\",\"2002-05-10T00:00:00\",\"2002-05-11T00:00:00\",\"2002-05-12T00:00:00\",\"2002-05-13T00:00:00\",\"2002-05-14T00:00:00\",\"2002-05-15T00:00:00\",\"2002-05-16T00:00:00\",\"2002-05-17T00:00:00\",\"2002-05-18T00:00:00\",\"2002-05-19T00:00:00\",\"2002-05-20T00:00:00\",\"2002-05-21T00:00:00\",\"2002-05-22T00:00:00\",\"2002-05-23T00:00:00\",\"2002-05-24T00:00:00\",\"2002-05-25T00:00:00\",\"2002-05-26T00:00:00\",\"2002-05-27T00:00:00\",\"2002-05-28T00:00:00\",\"2002-05-29T00:00:00\",\"2002-05-30T00:00:00\",\"2002-05-31T00:00:00\",\"2002-06-01T00:00:00\",\"2002-06-02T00:00:00\",\"2002-06-03T00:00:00\",\"2002-06-04T00:00:00\",\"2002-06-05T00:00:00\",\"2002-06-06T00:00:00\",\"2002-06-07T00:00:00\",\"2002-06-08T00:00:00\",\"2002-06-09T00:00:00\",\"2002-06-10T00:00:00\",\"2002-06-11T00:00:00\",\"2002-06-12T00:00:00\",\"2002-06-13T00:00:00\",\"2002-06-14T00:00:00\",\"2002-06-15T00:00:00\",\"2002-06-16T00:00:00\",\"2002-06-17T00:00:00\",\"2002-06-18T00:00:00\",\"2002-06-19T00:00:00\",\"2002-06-20T00:00:00\",\"2002-06-21T00:00:00\",\"2002-06-22T00:00:00\",\"2002-06-23T00:00:00\",\"2002-06-24T00:00:00\",\"2002-06-25T00:00:00\",\"2002-06-26T00:00:00\",\"2002-06-27T00:00:00\",\"2002-06-28T00:00:00\",\"2002-06-29T00:00:00\",\"2002-06-30T00:00:00\",\"2002-07-01T00:00:00\",\"2002-07-02T00:00:00\",\"2002-07-03T00:00:00\",\"2002-07-04T00:00:00\",\"2002-07-05T00:00:00\",\"2002-07-06T00:00:00\",\"2002-07-07T00:00:00\",\"2002-07-08T00:00:00\",\"2002-07-09T00:00:00\",\"2002-07-10T00:00:00\",\"2002-07-11T00:00:00\",\"2002-07-12T00:00:00\",\"2002-07-13T00:00:00\",\"2002-07-14T00:00:00\",\"2002-07-15T00:00:00\",\"2002-07-16T00:00:00\",\"2002-07-17T00:00:00\",\"2002-07-18T00:00:00\",\"2002-07-19T00:00:00\",\"2002-07-20T00:00:00\",\"2002-07-21T00:00:00\",\"2002-07-22T00:00:00\",\"2002-07-23T00:00:00\",\"2002-07-24T00:00:00\",\"2002-07-25T00:00:00\",\"2002-07-26T00:00:00\",\"2002-07-27T00:00:00\",\"2002-07-28T00:00:00\",\"2002-07-29T00:00:00\",\"2002-07-30T00:00:00\",\"2002-07-31T00:00:00\",\"2002-08-01T00:00:00\",\"2002-08-02T00:00:00\",\"2002-08-03T00:00:00\",\"2002-08-04T00:00:00\",\"2002-08-05T00:00:00\",\"2002-08-06T00:00:00\",\"2002-08-07T00:00:00\",\"2002-08-08T00:00:00\",\"2002-08-09T00:00:00\",\"2002-08-10T00:00:00\",\"2002-08-11T00:00:00\",\"2002-08-12T00:00:00\",\"2002-08-13T00:00:00\",\"2002-08-14T00:00:00\",\"2002-08-15T00:00:00\",\"2002-08-16T00:00:00\",\"2002-08-17T00:00:00\",\"2002-08-18T00:00:00\",\"2002-08-19T00:00:00\",\"2002-08-20T00:00:00\",\"2002-08-21T00:00:00\",\"2002-08-22T00:00:00\",\"2002-08-23T00:00:00\",\"2002-08-24T00:00:00\",\"2002-08-25T00:00:00\",\"2002-08-26T00:00:00\",\"2002-08-27T00:00:00\",\"2002-08-28T00:00:00\",\"2002-08-29T00:00:00\",\"2002-08-30T00:00:00\",\"2002-08-31T00:00:00\",\"2002-09-01T00:00:00\",\"2002-09-02T00:00:00\",\"2002-09-03T00:00:00\",\"2002-09-04T00:00:00\",\"2002-09-05T00:00:00\",\"2002-09-06T00:00:00\",\"2002-09-07T00:00:00\",\"2002-09-08T00:00:00\",\"2002-09-09T00:00:00\",\"2002-09-10T00:00:00\",\"2002-09-11T00:00:00\",\"2002-09-12T00:00:00\",\"2002-09-13T00:00:00\",\"2002-09-14T00:00:00\",\"2002-09-15T00:00:00\",\"2002-09-16T00:00:00\",\"2002-09-17T00:00:00\",\"2002-09-18T00:00:00\",\"2002-09-19T00:00:00\",\"2002-09-20T00:00:00\",\"2002-09-21T00:00:00\",\"2002-09-22T00:00:00\",\"2002-09-23T00:00:00\",\"2002-09-24T00:00:00\",\"2002-09-25T00:00:00\",\"2002-09-26T00:00:00\"],\"xaxis\":\"x\",\"y\":[0.025946896225778573,1.1203069129538687,1.1203069129538687,1.1203069129538687,2.0102422835293585,2.0102422835293585,2.0102422835293585,2.0102422835293585,2.0102422835293585,2.0102422835293585,2.0102422835293585,2.0102422835293585,2.0102422835293585,2.0102422835293585,2.0102422835293585,2.0102422835293585,2.0102422835293585,2.0102422835293585,2.0102422835293585,2.0102422835293585,2.0102422835293585,2.0102422835293585,2.0102422835293585,2.0102422835293585,2.0102422835293585,2.0102422835293585,2.0102422835293585,2.0102422835293585,2.0102422835293585,2.0102422835293585,2.0102422835293585,2.0102422835293585,2.0102422835293585,2.0102422835293585,2.0102422835293585,2.0102422835293585,2.0102422835293585,2.0102422835293585,2.0102422835293585,2.0102422835293585,2.0102422835293585,2.0102422835293585,2.0102422835293585,2.0102422835293585,2.0102422835293585,2.0102422835293585,2.0102422835293585,2.0102422835293585,2.0102422835293585,2.0102422835293585,2.0102422835293585,2.0102422835293585,2.0102422835293585,2.0102422835293585,2.0102422835293585,2.0102422835293585,2.0102422835293585,2.0102422835293585,2.0102422835293585,2.0102422835293585,2.0102422835293585,2.0102422835293585,2.0102422835293585,2.0102422835293585,2.0102422835293585,2.0102422835293585,2.0102422835293585,2.0102422835293585,2.0102422835293585,2.0102422835293585,2.0102422835293585,2.0102422835293585,2.5711359290686655,2.5711359290686655,2.5711359290686655,2.5711359290686655,2.5711359290686655,2.5711359290686655,2.5711359290686655,2.5711359290686655,2.5711359290686655,2.5711359290686655,2.5711359290686655,2.5711359290686655,2.5711359290686655,2.5711359290686655,2.5711359290686655,2.5711359290686655,2.5711359290686655,2.5711359290686655,2.5711359290686655,2.5711359290686655,2.5711359290686655,2.5711359290686655,2.5711359290686655,2.5711359290686655,2.5711359290686655,2.5711359290686655,2.5711359290686655,2.5711359290686655,2.5711359290686655,2.5711359290686655,2.5711359290686655,2.5711359290686655,2.5711359290686655,2.5711359290686655,2.5711359290686655,2.5711359290686655,2.5711359290686655,2.5711359290686655,2.5711359290686655,2.5711359290686655,2.5711359290686655,2.5711359290686655,2.5711359290686655,2.5711359290686655,2.5711359290686655,2.5711359290686655,2.5711359290686655,2.5711359290686655,2.5711359290686655,2.5711359290686655,2.5711359290686655,2.5711359290686655,2.5711359290686655,2.5711359290686655,2.5711359290686655,2.5711359290686655,2.5711359290686655,2.5711359290686655,2.5711359290686655,2.5711359290686655,2.5711359290686655,2.5711359290686655,2.5711359290686655,2.5711359290686655,2.5711359290686655,2.5711359290686655,2.5711359290686655,2.5711359290686655,2.5711359290686655,2.5711359290686655,2.5711359290686655,2.5711359290686655,2.5711359290686655,2.5711359290686655,2.5711359290686655,2.5711359290686655,2.5711359290686655,2.5711359290686655,2.5711359290686655,2.5711359290686655,2.5711359290686655,2.5711359290686655,2.5711359290686655,2.5711359290686655,2.5711359290686655,2.5711359290686655,2.5711359290686655,2.5711359290686655,2.5711359290686655,2.5711359290686655,2.5711359290686655,2.5711359290686655,2.5711359290686655,2.5711359290686655,2.5711359290686655,2.5711359290686655,2.5711359290686655,2.5711359290686655,2.5711359290686655,2.5711359290686655,2.5711359290686655,2.5711359290686655,2.5711359290686655,2.5711359290686655,2.5711359290686655,2.5711359290686655,2.5711359290686655,2.5711359290686655,2.5711359290686655,2.5711359290686655,2.5711359290686655,2.5711359290686655,2.5711359290686655,2.5711359290686655,2.5711359290686655,2.5711359290686655,2.5711359290686655,2.5711359290686655,2.5711359290686655,2.5711359290686655,2.5711359290686655,2.5711359290686655,2.5711359290686655,2.5711359290686655,2.5711359290686655,2.5711359290686655,2.5711359290686655,2.5711359290686655,2.5711359290686655,2.5711359290686655,2.5711359290686655,2.5711359290686655,2.5711359290686655,2.5711359290686655,2.5711359290686655,2.5711359290686655,2.5711359290686655,2.5711359290686655,2.5711359290686655,2.5711359290686655,2.5711359290686655,2.5711359290686655,2.5711359290686655,2.5711359290686655,2.5711359290686655,2.5711359290686655,2.5711359290686655,2.5711359290686655,2.5711359290686655,2.5711359290686655,2.5711359290686655,2.5711359290686655,2.5711359290686655,2.5711359290686655,2.5711359290686655,2.5711359290686655,2.5711359290686655,2.5711359290686655,2.5711359290686655,2.5711359290686655,2.5711359290686655,2.5711359290686655,2.5711359290686655,2.5711359290686655,2.5711359290686655,2.5711359290686655,2.5711359290686655,2.5711359290686655,2.5711359290686655,2.5711359290686655,2.5711359290686655,2.5711359290686655,2.5711359290686655,2.5711359290686655,2.5711359290686655,2.5711359290686655,2.5711359290686655,2.5711359290686655,2.5711359290686655,2.5711359290686655,2.5711359290686655,2.5711359290686655,2.5711359290686655,2.5711359290686655,2.5711359290686655,2.5711359290686655,2.5711359290686655,2.5711359290686655,2.5711359290686655,2.5711359290686655,2.5711359290686655,2.5711359290686655,2.5711359290686655,2.5711359290686655,2.5711359290686655,2.5711359290686655,2.5711359290686655,2.5711359290686655,2.5711359290686655,2.5711359290686655,2.5711359290686655,2.5711359290686655,2.5711359290686655,2.5711359290686655,2.5711359290686655,2.5711359290686655,2.5711359290686655,2.5711359290686655,2.5711359290686655,2.5711359290686655,2.5711359290686655,2.5711359290686655,2.5711359290686655,2.5711359290686655,2.5711359290686655,2.5711359290686655,2.5711359290686655,2.5711359290686655,2.5711359290686655,2.5711359290686655,2.5711359290686655,2.5711359290686655,2.5711359290686655,2.5711359290686655,2.5711359290686655,2.5711359290686655,2.5711359290686655,2.5711359290686655,2.5711359290686655,2.5711359290686655,2.5711359290686655,2.5711359290686655,2.5711359290686655,2.5711359290686655,2.5711359290686655,2.5711359290686655,2.5711359290686655,2.5711359290686655,2.5711359290686655,2.5711359290686655,2.5711359290686655,2.5711359290686655,2.5711359290686655,2.5711359290686655,2.5711359290686655,2.5711359290686655,2.5711359290686655,2.5711359290686655,2.5711359290686655,2.5711359290686655,2.5711359290686655,2.5711359290686655,2.5711359290686655,2.5711359290686655,2.5711359290686655,2.5711359290686655,2.5711359290686655,2.5711359290686655,2.5711359290686655,2.5711359290686655,2.5711359290686655,2.5711359290686655,2.5711359290686655,2.5711359290686655,2.5711359290686655,2.5711359290686655,2.5711359290686655,2.5711359290686655,2.5711359290686655,2.5711359290686655,2.5711359290686655,2.5711359290686655,2.5711359290686655,2.5711359290686655,2.5711359290686655,2.5711359290686655,2.5711359290686655,2.5711359290686655,2.5711359290686655,2.5711359290686655,2.5711359290686655,2.5711359290686655,2.5711359290686655,2.5711359290686655,2.5711359290686655,2.5711359290686655,2.5711359290686655,2.5711359290686655,2.5711359290686655,2.5711359290686655,2.5711359290686655,2.5711359290686655,2.5711359290686655,2.5711359290686655,2.5711359290686655,2.5711359290686655,2.5711359290686655,2.5711359290686655,2.5711359290686655,2.5711359290686655,2.5711359290686655,2.5711359290686655,2.5711359290686655,2.5711359290686655,2.5711359290686655,2.5711359290686655,2.5711359290686655,2.5711359290686655,2.5711359290686655,2.5711359290686655,2.5711359290686655,2.5711359290686655,2.5711359290686655,2.5711359290686655,2.5711359290686655,2.5711359290686655,2.5711359290686655,2.5711359290686655,2.5711359290686655,2.5711359290686655,2.5711359290686655,2.5711359290686655,2.5711359290686655,2.5711359290686655,2.5711359290686655,2.5711359290686655,2.5711359290686655,2.5711359290686655,2.5711359290686655,2.5711359290686655,2.5711359290686655,2.5711359290686655,2.5711359290686655,2.5711359290686655,2.5711359290686655,2.5711359290686655,2.5711359290686655,2.5711359290686655,2.5711359290686655,2.5711359290686655,2.5711359290686655,2.5711359290686655,2.5711359290686655,2.5711359290686655,2.5711359290686655,2.5711359290686655,2.5711359290686655,2.5711359290686655,2.5711359290686655,2.5711359290686655,2.5711359290686655,2.5711359290686655,2.5711359290686655,2.5711359290686655,2.5711359290686655,2.5711359290686655,2.5711359290686655,2.5711359290686655,2.5711359290686655,2.5711359290686655,2.5711359290686655,2.5711359290686655,2.5711359290686655,2.5711359290686655,2.5711359290686655,2.5711359290686655,2.5711359290686655,2.5711359290686655,2.5711359290686655,2.5711359290686655,2.5711359290686655,2.5711359290686655,2.5711359290686655,2.5711359290686655,2.5711359290686655,2.5711359290686655,2.5711359290686655,2.5711359290686655,2.5711359290686655,2.5711359290686655,2.5711359290686655,2.5711359290686655,2.5711359290686655,2.5711359290686655,2.5711359290686655,2.5711359290686655,2.5711359290686655,2.5711359290686655,2.5711359290686655,2.5711359290686655,2.5711359290686655,2.5711359290686655,2.5711359290686655,2.5711359290686655,2.5711359290686655,2.5711359290686655,2.5711359290686655,2.5711359290686655,2.5711359290686655,2.5711359290686655,2.5711359290686655,2.5711359290686655,2.5711359290686655,2.5711359290686655,2.5711359290686655,2.5711359290686655,2.5711359290686655,2.5711359290686655,2.5711359290686655,2.5711359290686655,2.5711359290686655,2.5711359290686655,2.5711359290686655,2.5711359290686655,2.5711359290686655,2.5711359290686655,2.5711359290686655,2.5711359290686655,2.5711359290686655,2.5711359290686655,2.5711359290686655,2.5711359290686655,2.5711359290686655,2.5711359290686655,2.5711359290686655,2.5711359290686655,2.5711359290686655,2.5711359290686655,2.5711359290686655,2.5711359290686655,2.5711359290686655,2.5711359290686655,2.5711359290686655,2.5711359290686655,2.5711359290686655,2.5711359290686655,2.5711359290686655,2.5711359290686655,2.5711359290686655,2.5711359290686655,2.5711359290686655,2.5711359290686655,2.5711359290686655,2.5711359290686655,2.5711359290686655,2.5711359290686655,2.5711359290686655,2.5711359290686655,2.5711359290686655,2.5711359290686655,2.5711359290686655,2.5711359290686655,2.5711359290686655,2.5711359290686655,2.5711359290686655,2.5711359290686655,2.5711359290686655,2.5711359290686655,2.5711359290686655,2.5711359290686655,2.5711359290686655,2.5711359290686655,2.5711359290686655,2.5711359290686655,2.5711359290686655,2.5711359290686655,2.5711359290686655,2.5711359290686655,2.5711359290686655,2.5711359290686655,2.5711359290686655,2.5711359290686655,2.5711359290686655,2.5711359290686655,2.5711359290686655,2.5711359290686655,2.5711359290686655,2.5711359290686655,2.5711359290686655,2.5711359290686655,2.5711359290686655,2.5711359290686655,2.5711359290686655,2.5711359290686655,2.5711359290686655,2.5711359290686655,2.5711359290686655,2.5711359290686655,2.5711359290686655,2.5711359290686655,2.5711359290686655,2.5711359290686655,2.5711359290686655,2.5711359290686655,2.5711359290686655,2.5711359290686655,2.5711359290686655,2.5711359290686655,2.5711359290686655,2.5711359290686655,2.5711359290686655,2.5711359290686655,2.5711359290686655,2.5711359290686655,2.5711359290686655,2.5711359290686655,2.5711359290686655,2.5711359290686655,2.5711359290686655,2.5711359290686655,2.5711359290686655,2.5711359290686655,2.5711359290686655,2.5711359290686655,2.5711359290686655,2.5711359290686655,2.5711359290686655,2.5711359290686655,2.5711359290686655,2.5711359290686655,2.5711359290686655,2.5711359290686655,2.5711359290686655,2.5711359290686655,2.5711359290686655,2.5711359290686655,2.5711359290686655,2.5711359290686655,2.5711359290686655,2.5711359290686655,2.5711359290686655,2.5711359290686655,2.5711359290686655,2.5711359290686655,2.5711359290686655,2.5711359290686655,2.5711359290686655,2.5711359290686655,2.5711359290686655,2.5711359290686655,2.5711359290686655,2.5711359290686655,2.5711359290686655,2.5711359290686655,2.5711359290686655,2.5711359290686655,2.5711359290686655,2.5711359290686655,2.5711359290686655,2.5711359290686655,2.5711359290686655,2.5711359290686655,2.5711359290686655,2.5711359290686655,2.5711359290686655,2.5711359290686655,2.5711359290686655,2.5711359290686655,2.5711359290686655,2.5711359290686655,2.5711359290686655,2.5711359290686655,2.5711359290686655,2.5711359290686655,2.5711359290686655,2.5711359290686655,2.5711359290686655,2.5711359290686655,2.5711359290686655,2.5711359290686655,2.5711359290686655,2.5711359290686655,2.5711359290686655,2.5711359290686655,2.5711359290686655,2.5711359290686655,2.5711359290686655,2.5711359290686655,2.5711359290686655,2.5711359290686655,2.5711359290686655,2.5711359290686655,2.5711359290686655,2.5711359290686655,2.5711359290686655,2.5711359290686655,2.5711359290686655,2.5711359290686655,2.5711359290686655,2.5711359290686655,2.5711359290686655,2.5711359290686655,2.5711359290686655,2.5711359290686655,2.5711359290686655,2.5711359290686655,2.5711359290686655,2.5711359290686655,2.5711359290686655,2.5711359290686655,2.5711359290686655,2.5711359290686655,2.5711359290686655,2.5711359290686655,2.5711359290686655,2.5711359290686655,2.5711359290686655,2.5711359290686655,2.5711359290686655,2.5711359290686655,2.5711359290686655,2.5711359290686655,2.5711359290686655,2.5711359290686655,2.5711359290686655,2.5711359290686655,2.5711359290686655,2.5711359290686655,2.5711359290686655,2.5711359290686655,2.5711359290686655,2.5711359290686655,2.5711359290686655,2.5711359290686655,2.5711359290686655,2.5711359290686655,2.5711359290686655,2.5711359290686655,2.5711359290686655,2.5711359290686655,2.5711359290686655,2.5711359290686655,2.5711359290686655,2.5711359290686655,2.5711359290686655,2.5711359290686655,2.5711359290686655,2.5711359290686655,2.5711359290686655,2.5711359290686655,2.5711359290686655,2.5711359290686655,2.5711359290686655,2.5711359290686655,2.5711359290686655,2.5711359290686655,2.5711359290686655,2.5711359290686655,2.5711359290686655,2.5711359290686655,2.5711359290686655,2.5711359290686655,2.5711359290686655,2.5711359290686655,2.5711359290686655,2.5711359290686655,2.5711359290686655,2.5711359290686655,2.5711359290686655,2.5711359290686655,2.5711359290686655,2.5711359290686655,2.5711359290686655,2.5711359290686655,2.5711359290686655,2.5711359290686655,2.5711359290686655,2.5711359290686655,2.5711359290686655,2.5711359290686655,2.5711359290686655,2.5711359290686655,2.5711359290686655,2.5711359290686655,2.5711359290686655,2.5711359290686655,2.5711359290686655,3.5755515822541524,3.5755515822541524,3.5755515822541524,3.5755515822541524,3.5755515822541524,3.5755515822541524,3.5755515822541524,3.5755515822541524,3.5755515822541524,3.5755515822541524,3.5755515822541524,3.5755515822541524,3.5755515822541524,3.5755515822541524,3.5755515822541524,3.5755515822541524,3.5755515822541524,3.5755515822541524,3.5755515822541524,3.5755515822541524,3.5755515822541524,3.5755515822541524,3.5755515822541524,3.5755515822541524,3.5755515822541524,3.5755515822541524,3.5755515822541524,3.5755515822541524,3.5755515822541524,3.5755515822541524,3.5755515822541524,3.5755515822541524,3.5755515822541524,3.5755515822541524,3.5755515822541524,3.5755515822541524,3.5755515822541524,3.5755515822541524,3.5755515822541524,3.5755515822541524,3.5755515822541524,3.5755515822541524,3.5755515822541524,3.5755515822541524,3.5755515822541524,3.5755515822541524,3.5755515822541524,3.5755515822541524,3.5755515822541524,3.5755515822541524,3.5755515822541524,3.5755515822541524,3.5755515822541524,3.5755515822541524,3.5755515822541524,3.5755515822541524,3.5755515822541524,3.5755515822541524,3.5755515822541524,3.5755515822541524,3.5755515822541524,3.5755515822541524,3.5755515822541524,3.5755515822541524,3.5755515822541524,3.5755515822541524,3.5755515822541524,3.5755515822541524,3.5755515822541524,3.5755515822541524,3.5755515822541524,3.5755515822541524,3.5755515822541524,3.5755515822541524,3.5755515822541524,3.5755515822541524,3.5755515822541524,3.5755515822541524,3.5755515822541524,3.5755515822541524,3.5755515822541524,3.5755515822541524,3.5755515822541524,3.5755515822541524,3.5755515822541524,3.5755515822541524,3.5755515822541524,3.5755515822541524,3.5755515822541524,3.5755515822541524,3.5755515822541524,3.5755515822541524,3.5755515822541524,3.5755515822541524,3.5755515822541524,3.5755515822541524,3.5755515822541524,3.5755515822541524,3.5755515822541524,3.5755515822541524,3.5755515822541524,3.5755515822541524,3.5755515822541524,3.5755515822541524,3.5755515822541524,3.5755515822541524,3.5755515822541524,3.5755515822541524,3.5755515822541524,3.5755515822541524,3.5755515822541524,3.5755515822541524,3.5755515822541524,3.5755515822541524,3.5755515822541524,3.5755515822541524,3.5755515822541524,3.5755515822541524,3.5755515822541524,3.5755515822541524,3.5755515822541524,3.5755515822541524,3.5755515822541524,3.5755515822541524,3.5755515822541524,3.5755515822541524,3.5755515822541524,3.5755515822541524,3.5755515822541524,3.5755515822541524,3.5755515822541524,3.5755515822541524,3.5755515822541524,3.5755515822541524,3.5755515822541524,3.5755515822541524,3.5755515822541524,3.5755515822541524,3.5755515822541524,3.5755515822541524,3.5755515822541524,3.5755515822541524,3.5755515822541524,3.5755515822541524,3.5755515822541524,3.5755515822541524,3.5755515822541524,3.5755515822541524,3.5755515822541524,3.5755515822541524,3.5755515822541524,3.5755515822541524,3.5755515822541524,3.5755515822541524,3.5755515822541524,3.5755515822541524,3.5755515822541524,3.5755515822541524,3.5755515822541524,3.5755515822541524,3.5755515822541524,3.5755515822541524,3.5755515822541524,3.5755515822541524,3.5755515822541524,3.5755515822541524,3.5755515822541524,3.5755515822541524,3.5755515822541524,3.5755515822541524,3.5755515822541524,3.5755515822541524,3.5755515822541524,3.5755515822541524,3.5755515822541524,3.5755515822541524,3.5755515822541524,3.5755515822541524,3.5755515822541524,3.5755515822541524,3.5755515822541524,3.5755515822541524,3.5755515822541524,3.5755515822541524,3.5755515822541524,3.5755515822541524,3.5755515822541524,3.5755515822541524,3.5755515822541524,3.5755515822541524,3.5755515822541524,3.5755515822541524,3.5755515822541524,3.5755515822541524,3.5755515822541524,3.5755515822541524,3.5755515822541524,3.5755515822541524,3.5755515822541524,3.5755515822541524,3.5755515822541524,3.5755515822541524,3.5755515822541524,3.5755515822541524,3.5755515822541524,3.5755515822541524,3.5755515822541524,3.5755515822541524,3.5755515822541524,3.5755515822541524,3.5755515822541524,3.5755515822541524,3.5755515822541524,3.5755515822541524,3.5755515822541524,3.5755515822541524,3.5755515822541524,3.5755515822541524,3.5755515822541524,3.5755515822541524,3.5755515822541524,3.5755515822541524,3.5755515822541524,3.5755515822541524,3.5755515822541524,3.5755515822541524,3.5755515822541524,3.5755515822541524,3.5755515822541524,3.5755515822541524,3.5755515822541524,3.5755515822541524,3.5755515822541524,3.5755515822541524,3.5755515822541524,3.5755515822541524,3.5755515822541524,3.5755515822541524,3.5755515822541524,3.5755515822541524,3.5755515822541524,3.5755515822541524,3.5755515822541524,3.5755515822541524,3.5755515822541524,3.5755515822541524,3.5755515822541524,3.5755515822541524,3.5755515822541524,3.5755515822541524,3.5755515822541524],\"yaxis\":\"y\",\"type\":\"scatter\"}],                        {\"template\":{\"data\":{\"bar\":[{\"error_x\":{\"color\":\"#2a3f5f\"},\"error_y\":{\"color\":\"#2a3f5f\"},\"marker\":{\"line\":{\"color\":\"#E5ECF6\",\"width\":0.5},\"pattern\":{\"fillmode\":\"overlay\",\"size\":10,\"solidity\":0.2}},\"type\":\"bar\"}],\"barpolar\":[{\"marker\":{\"line\":{\"color\":\"#E5ECF6\",\"width\":0.5},\"pattern\":{\"fillmode\":\"overlay\",\"size\":10,\"solidity\":0.2}},\"type\":\"barpolar\"}],\"carpet\":[{\"aaxis\":{\"endlinecolor\":\"#2a3f5f\",\"gridcolor\":\"white\",\"linecolor\":\"white\",\"minorgridcolor\":\"white\",\"startlinecolor\":\"#2a3f5f\"},\"baxis\":{\"endlinecolor\":\"#2a3f5f\",\"gridcolor\":\"white\",\"linecolor\":\"white\",\"minorgridcolor\":\"white\",\"startlinecolor\":\"#2a3f5f\"},\"type\":\"carpet\"}],\"choropleth\":[{\"colorbar\":{\"outlinewidth\":0,\"ticks\":\"\"},\"type\":\"choropleth\"}],\"contour\":[{\"colorbar\":{\"outlinewidth\":0,\"ticks\":\"\"},\"colorscale\":[[0.0,\"#0d0887\"],[0.1111111111111111,\"#46039f\"],[0.2222222222222222,\"#7201a8\"],[0.3333333333333333,\"#9c179e\"],[0.4444444444444444,\"#bd3786\"],[0.5555555555555556,\"#d8576b\"],[0.6666666666666666,\"#ed7953\"],[0.7777777777777778,\"#fb9f3a\"],[0.8888888888888888,\"#fdca26\"],[1.0,\"#f0f921\"]],\"type\":\"contour\"}],\"contourcarpet\":[{\"colorbar\":{\"outlinewidth\":0,\"ticks\":\"\"},\"type\":\"contourcarpet\"}],\"heatmap\":[{\"colorbar\":{\"outlinewidth\":0,\"ticks\":\"\"},\"colorscale\":[[0.0,\"#0d0887\"],[0.1111111111111111,\"#46039f\"],[0.2222222222222222,\"#7201a8\"],[0.3333333333333333,\"#9c179e\"],[0.4444444444444444,\"#bd3786\"],[0.5555555555555556,\"#d8576b\"],[0.6666666666666666,\"#ed7953\"],[0.7777777777777778,\"#fb9f3a\"],[0.8888888888888888,\"#fdca26\"],[1.0,\"#f0f921\"]],\"type\":\"heatmap\"}],\"heatmapgl\":[{\"colorbar\":{\"outlinewidth\":0,\"ticks\":\"\"},\"colorscale\":[[0.0,\"#0d0887\"],[0.1111111111111111,\"#46039f\"],[0.2222222222222222,\"#7201a8\"],[0.3333333333333333,\"#9c179e\"],[0.4444444444444444,\"#bd3786\"],[0.5555555555555556,\"#d8576b\"],[0.6666666666666666,\"#ed7953\"],[0.7777777777777778,\"#fb9f3a\"],[0.8888888888888888,\"#fdca26\"],[1.0,\"#f0f921\"]],\"type\":\"heatmapgl\"}],\"histogram\":[{\"marker\":{\"pattern\":{\"fillmode\":\"overlay\",\"size\":10,\"solidity\":0.2}},\"type\":\"histogram\"}],\"histogram2d\":[{\"colorbar\":{\"outlinewidth\":0,\"ticks\":\"\"},\"colorscale\":[[0.0,\"#0d0887\"],[0.1111111111111111,\"#46039f\"],[0.2222222222222222,\"#7201a8\"],[0.3333333333333333,\"#9c179e\"],[0.4444444444444444,\"#bd3786\"],[0.5555555555555556,\"#d8576b\"],[0.6666666666666666,\"#ed7953\"],[0.7777777777777778,\"#fb9f3a\"],[0.8888888888888888,\"#fdca26\"],[1.0,\"#f0f921\"]],\"type\":\"histogram2d\"}],\"histogram2dcontour\":[{\"colorbar\":{\"outlinewidth\":0,\"ticks\":\"\"},\"colorscale\":[[0.0,\"#0d0887\"],[0.1111111111111111,\"#46039f\"],[0.2222222222222222,\"#7201a8\"],[0.3333333333333333,\"#9c179e\"],[0.4444444444444444,\"#bd3786\"],[0.5555555555555556,\"#d8576b\"],[0.6666666666666666,\"#ed7953\"],[0.7777777777777778,\"#fb9f3a\"],[0.8888888888888888,\"#fdca26\"],[1.0,\"#f0f921\"]],\"type\":\"histogram2dcontour\"}],\"mesh3d\":[{\"colorbar\":{\"outlinewidth\":0,\"ticks\":\"\"},\"type\":\"mesh3d\"}],\"parcoords\":[{\"line\":{\"colorbar\":{\"outlinewidth\":0,\"ticks\":\"\"}},\"type\":\"parcoords\"}],\"pie\":[{\"automargin\":true,\"type\":\"pie\"}],\"scatter\":[{\"marker\":{\"colorbar\":{\"outlinewidth\":0,\"ticks\":\"\"}},\"type\":\"scatter\"}],\"scatter3d\":[{\"line\":{\"colorbar\":{\"outlinewidth\":0,\"ticks\":\"\"}},\"marker\":{\"colorbar\":{\"outlinewidth\":0,\"ticks\":\"\"}},\"type\":\"scatter3d\"}],\"scattercarpet\":[{\"marker\":{\"colorbar\":{\"outlinewidth\":0,\"ticks\":\"\"}},\"type\":\"scattercarpet\"}],\"scattergeo\":[{\"marker\":{\"colorbar\":{\"outlinewidth\":0,\"ticks\":\"\"}},\"type\":\"scattergeo\"}],\"scattergl\":[{\"marker\":{\"colorbar\":{\"outlinewidth\":0,\"ticks\":\"\"}},\"type\":\"scattergl\"}],\"scattermapbox\":[{\"marker\":{\"colorbar\":{\"outlinewidth\":0,\"ticks\":\"\"}},\"type\":\"scattermapbox\"}],\"scatterpolar\":[{\"marker\":{\"colorbar\":{\"outlinewidth\":0,\"ticks\":\"\"}},\"type\":\"scatterpolar\"}],\"scatterpolargl\":[{\"marker\":{\"colorbar\":{\"outlinewidth\":0,\"ticks\":\"\"}},\"type\":\"scatterpolargl\"}],\"scatterternary\":[{\"marker\":{\"colorbar\":{\"outlinewidth\":0,\"ticks\":\"\"}},\"type\":\"scatterternary\"}],\"surface\":[{\"colorbar\":{\"outlinewidth\":0,\"ticks\":\"\"},\"colorscale\":[[0.0,\"#0d0887\"],[0.1111111111111111,\"#46039f\"],[0.2222222222222222,\"#7201a8\"],[0.3333333333333333,\"#9c179e\"],[0.4444444444444444,\"#bd3786\"],[0.5555555555555556,\"#d8576b\"],[0.6666666666666666,\"#ed7953\"],[0.7777777777777778,\"#fb9f3a\"],[0.8888888888888888,\"#fdca26\"],[1.0,\"#f0f921\"]],\"type\":\"surface\"}],\"table\":[{\"cells\":{\"fill\":{\"color\":\"#EBF0F8\"},\"line\":{\"color\":\"white\"}},\"header\":{\"fill\":{\"color\":\"#C8D4E3\"},\"line\":{\"color\":\"white\"}},\"type\":\"table\"}]},\"layout\":{\"annotationdefaults\":{\"arrowcolor\":\"#2a3f5f\",\"arrowhead\":0,\"arrowwidth\":1},\"autotypenumbers\":\"strict\",\"coloraxis\":{\"colorbar\":{\"outlinewidth\":0,\"ticks\":\"\"}},\"colorscale\":{\"diverging\":[[0,\"#8e0152\"],[0.1,\"#c51b7d\"],[0.2,\"#de77ae\"],[0.3,\"#f1b6da\"],[0.4,\"#fde0ef\"],[0.5,\"#f7f7f7\"],[0.6,\"#e6f5d0\"],[0.7,\"#b8e186\"],[0.8,\"#7fbc41\"],[0.9,\"#4d9221\"],[1,\"#276419\"]],\"sequential\":[[0.0,\"#0d0887\"],[0.1111111111111111,\"#46039f\"],[0.2222222222222222,\"#7201a8\"],[0.3333333333333333,\"#9c179e\"],[0.4444444444444444,\"#bd3786\"],[0.5555555555555556,\"#d8576b\"],[0.6666666666666666,\"#ed7953\"],[0.7777777777777778,\"#fb9f3a\"],[0.8888888888888888,\"#fdca26\"],[1.0,\"#f0f921\"]],\"sequentialminus\":[[0.0,\"#0d0887\"],[0.1111111111111111,\"#46039f\"],[0.2222222222222222,\"#7201a8\"],[0.3333333333333333,\"#9c179e\"],[0.4444444444444444,\"#bd3786\"],[0.5555555555555556,\"#d8576b\"],[0.6666666666666666,\"#ed7953\"],[0.7777777777777778,\"#fb9f3a\"],[0.8888888888888888,\"#fdca26\"],[1.0,\"#f0f921\"]]},\"colorway\":[\"#636efa\",\"#EF553B\",\"#00cc96\",\"#ab63fa\",\"#FFA15A\",\"#19d3f3\",\"#FF6692\",\"#B6E880\",\"#FF97FF\",\"#FECB52\"],\"font\":{\"color\":\"#2a3f5f\"},\"geo\":{\"bgcolor\":\"white\",\"lakecolor\":\"white\",\"landcolor\":\"#E5ECF6\",\"showlakes\":true,\"showland\":true,\"subunitcolor\":\"white\"},\"hoverlabel\":{\"align\":\"left\"},\"hovermode\":\"closest\",\"mapbox\":{\"style\":\"light\"},\"paper_bgcolor\":\"white\",\"plot_bgcolor\":\"#E5ECF6\",\"polar\":{\"angularaxis\":{\"gridcolor\":\"white\",\"linecolor\":\"white\",\"ticks\":\"\"},\"bgcolor\":\"#E5ECF6\",\"radialaxis\":{\"gridcolor\":\"white\",\"linecolor\":\"white\",\"ticks\":\"\"}},\"scene\":{\"xaxis\":{\"backgroundcolor\":\"#E5ECF6\",\"gridcolor\":\"white\",\"gridwidth\":2,\"linecolor\":\"white\",\"showbackground\":true,\"ticks\":\"\",\"zerolinecolor\":\"white\"},\"yaxis\":{\"backgroundcolor\":\"#E5ECF6\",\"gridcolor\":\"white\",\"gridwidth\":2,\"linecolor\":\"white\",\"showbackground\":true,\"ticks\":\"\",\"zerolinecolor\":\"white\"},\"zaxis\":{\"backgroundcolor\":\"#E5ECF6\",\"gridcolor\":\"white\",\"gridwidth\":2,\"linecolor\":\"white\",\"showbackground\":true,\"ticks\":\"\",\"zerolinecolor\":\"white\"}},\"shapedefaults\":{\"line\":{\"color\":\"#2a3f5f\"}},\"ternary\":{\"aaxis\":{\"gridcolor\":\"white\",\"linecolor\":\"white\",\"ticks\":\"\"},\"baxis\":{\"gridcolor\":\"white\",\"linecolor\":\"white\",\"ticks\":\"\"},\"bgcolor\":\"#E5ECF6\",\"caxis\":{\"gridcolor\":\"white\",\"linecolor\":\"white\",\"ticks\":\"\"}},\"title\":{\"x\":0.05},\"xaxis\":{\"automargin\":true,\"gridcolor\":\"white\",\"linecolor\":\"white\",\"ticks\":\"\",\"title\":{\"standoff\":15},\"zerolinecolor\":\"white\",\"zerolinewidth\":2},\"yaxis\":{\"automargin\":true,\"gridcolor\":\"white\",\"linecolor\":\"white\",\"ticks\":\"\",\"title\":{\"standoff\":15},\"zerolinecolor\":\"white\",\"zerolinewidth\":2}}},\"xaxis\":{\"anchor\":\"y\",\"domain\":[0.0,1.0],\"title\":{\"text\":\"index\"}},\"yaxis\":{\"anchor\":\"x\",\"domain\":[0.0,1.0],\"title\":{\"text\":\"value\"}},\"legend\":{\"title\":{\"text\":\"variable\"},\"tracegroupgap\":0},\"margin\":{\"t\":60}},                        {\"responsive\": true}                    ).then(function(){\n",
              "                            \n",
              "var gd = document.getElementById('94595149-ff26-4521-9894-0f5e077d81e8');\n",
              "var x = new MutationObserver(function (mutations, observer) {{\n",
              "        var display = window.getComputedStyle(gd).display;\n",
              "        if (!display || display === 'none') {{\n",
              "            console.log([gd, 'removed!']);\n",
              "            Plotly.purge(gd);\n",
              "            observer.disconnect();\n",
              "        }}\n",
              "}});\n",
              "\n",
              "// Listen for the removal of the full notebook cells\n",
              "var notebookContainer = gd.closest('#notebook-container');\n",
              "if (notebookContainer) {{\n",
              "    x.observe(notebookContainer, {childList: true});\n",
              "}}\n",
              "\n",
              "// Listen for the clearing of the current output cell\n",
              "var outputEl = gd.closest('.output');\n",
              "if (outputEl) {{\n",
              "    x.observe(outputEl, {childList: true});\n",
              "}}\n",
              "\n",
              "                        })                };                            </script>        </div>\n",
              "</body>\n",
              "</html>"
            ]
          },
          "metadata": {}
        }
      ]
    },
    {
      "cell_type": "code",
      "source": [],
      "metadata": {
        "id": "-gVaSLE3y-aT"
      },
      "execution_count": null,
      "outputs": []
    }
  ]
}